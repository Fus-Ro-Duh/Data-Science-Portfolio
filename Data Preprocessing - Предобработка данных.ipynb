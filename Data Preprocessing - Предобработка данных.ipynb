{
  "cells": [
    {
      "cell_type": "markdown",
      "id": "e80b0fac",
      "metadata": {
        "deletable": false,
        "editable": true,
        "id": "c81daeeb",
        "slideshow": {
          "slide_type": ""
        },
        "tags": []
      },
      "source": [
        "# Проект: Исследование надежности заемщиков"
      ]
    },
    {
      "cell_type": "markdown",
      "id": "884170f2-3ac0-4499-bf45-0e550e8c0d97",
      "metadata": {
        "editable": true,
        "slideshow": {
          "slide_type": ""
        },
        "tags": []
      },
      "source": [
        "<font size='4'>**Описание проекта**</font>\n",
        "\n",
        "Заказчик — кредитный отдел банка. Нужно разобраться, влияет ли семейное положение и количество детей клиента на факт погашения кредита в срок. Входные данные от банка — статистика о платёжеспособности клиентов.\n",
        "\n",
        "***Цель проекта:*** провести предобработку данных и первоначальный исследовательский анализ данных. Результаты исследования будут учтены при построении модели кредитного скоринга — специальной системы, которая оценивает способность потенциального заёмщика вернуть кредит банку.\n",
        "\n",
        "***Задачи проекта:***\n",
        "- Загрузка и первоначальный анализ данных\n",
        "- Предобработка данных\n",
        "- Ответ на вопросы на основе исследовательского анализа данных"
      ]
    },
    {
      "cell_type": "markdown",
      "id": "c3ea5c51-ef44-4aa9-a3ab-6f6d59e41fc3",
      "metadata": {
        "editable": true,
        "slideshow": {
          "slide_type": ""
        },
        "tags": []
      },
      "source": [
        "<font size='4'>**Необходимые библиотеки**</font>"
      ]
    },
    {
      "cell_type": "code",
      "execution_count": 1,
      "id": "4ea1e02a-d026-486b-bf6b-936570a274da",
      "metadata": {
        "editable": true,
        "slideshow": {
          "slide_type": ""
        },
        "tags": [],
        "trusted": true
      },
      "outputs": [],
      "source": [
        "import pandas as pd"
      ]
    },
    {
      "cell_type": "markdown",
      "id": "4c8e427e",
      "metadata": {
        "deletable": true,
        "editable": true,
        "id": "744d7639",
        "slideshow": {
          "slide_type": ""
        },
        "tags": []
      },
      "source": [
        "## Загрузка данных и первичный анализ\n",
        "\n",
        "На данном шаге производится загрузка данных из источника Яндекса, а также первичный анализ загруженных данных для определения последующих шагов предобработки"
      ]
    },
    {
      "cell_type": "markdown",
      "id": "4858d87c",
      "metadata": {
        "deletable": true,
        "editable": true,
        "id": "e7a14c31",
        "slideshow": {
          "slide_type": ""
        },
        "tags": []
      },
      "source": [
        "Загружаем данные из csv файла. Путь к файлу `https://code.s3.yandex.net/datasets/data.csv`"
      ]
    },
    {
      "cell_type": "code",
      "execution_count": 2,
      "id": "530e6d6d",
      "metadata": {
        "deletable": false,
        "editable": true,
        "id": "7bcf75c9",
        "slideshow": {
          "slide_type": ""
        },
        "tags": [],
        "trusted": true
      },
      "outputs": [],
      "source": [
        "# Используем конструкцию try-except для обработки ошибок при некорректном адрессе файла\n",
        "try:\n",
        "    data = pd.read_csv('/datasets/data.csv')\n",
        "except:\n",
        "    data = pd.read_csv('https://code.s3.yandex.net/datasets/data.csv')"
      ]
    },
    {
      "cell_type": "markdown",
      "id": "12295e1f",
      "metadata": {
        "deletable": false,
        "editable": true,
        "id": "b8038fe3",
        "slideshow": {
          "slide_type": ""
        },
        "tags": []
      },
      "source": [
        "Проверим корректность чтения файла, выведем случайные 20 строчек фрейма"
      ]
    },
    {
      "cell_type": "code",
      "execution_count": 3,
      "id": "f12ef55f",
      "metadata": {
        "deletable": false,
        "editable": true,
        "id": "2a7cab99",
        "outputId": "1a8f3ef2-d323-4ec2-ddf7-89670b5944c4",
        "slideshow": {
          "slide_type": ""
        },
        "tags": [],
        "trusted": true
      },
      "outputs": [
        {
          "data": {
            "text/html": [
              "<div>\n",
              "<style scoped>\n",
              "    .dataframe tbody tr th:only-of-type {\n",
              "        vertical-align: middle;\n",
              "    }\n",
              "\n",
              "    .dataframe tbody tr th {\n",
              "        vertical-align: top;\n",
              "    }\n",
              "\n",
              "    .dataframe thead th {\n",
              "        text-align: right;\n",
              "    }\n",
              "</style>\n",
              "<table border=\"1\" class=\"dataframe\">\n",
              "  <thead>\n",
              "    <tr style=\"text-align: right;\">\n",
              "      <th></th>\n",
              "      <th>children</th>\n",
              "      <th>days_employed</th>\n",
              "      <th>dob_years</th>\n",
              "      <th>education</th>\n",
              "      <th>education_id</th>\n",
              "      <th>family_status</th>\n",
              "      <th>family_status_id</th>\n",
              "      <th>gender</th>\n",
              "      <th>income_type</th>\n",
              "      <th>debt</th>\n",
              "      <th>total_income</th>\n",
              "      <th>purpose</th>\n",
              "    </tr>\n",
              "  </thead>\n",
              "  <tbody>\n",
              "    <tr>\n",
              "      <th>1950</th>\n",
              "      <td>0</td>\n",
              "      <td>NaN</td>\n",
              "      <td>62</td>\n",
              "      <td>среднее</td>\n",
              "      <td>1</td>\n",
              "      <td>женат / замужем</td>\n",
              "      <td>0</td>\n",
              "      <td>M</td>\n",
              "      <td>компаньон</td>\n",
              "      <td>0</td>\n",
              "      <td>NaN</td>\n",
              "      <td>операции со своей недвижимостью</td>\n",
              "    </tr>\n",
              "    <tr>\n",
              "      <th>14648</th>\n",
              "      <td>1</td>\n",
              "      <td>-1622.830092</td>\n",
              "      <td>32</td>\n",
              "      <td>среднее</td>\n",
              "      <td>1</td>\n",
              "      <td>гражданский брак</td>\n",
              "      <td>1</td>\n",
              "      <td>F</td>\n",
              "      <td>сотрудник</td>\n",
              "      <td>0</td>\n",
              "      <td>60518.820000</td>\n",
              "      <td>заняться высшим образованием</td>\n",
              "    </tr>\n",
              "    <tr>\n",
              "      <th>10509</th>\n",
              "      <td>2</td>\n",
              "      <td>-2636.753966</td>\n",
              "      <td>46</td>\n",
              "      <td>среднее</td>\n",
              "      <td>1</td>\n",
              "      <td>женат / замужем</td>\n",
              "      <td>0</td>\n",
              "      <td>M</td>\n",
              "      <td>сотрудник</td>\n",
              "      <td>0</td>\n",
              "      <td>125600.372094</td>\n",
              "      <td>покупка коммерческой недвижимости</td>\n",
              "    </tr>\n",
              "    <tr>\n",
              "      <th>17245</th>\n",
              "      <td>1</td>\n",
              "      <td>-3754.962527</td>\n",
              "      <td>55</td>\n",
              "      <td>среднее</td>\n",
              "      <td>1</td>\n",
              "      <td>женат / замужем</td>\n",
              "      <td>0</td>\n",
              "      <td>M</td>\n",
              "      <td>компаньон</td>\n",
              "      <td>1</td>\n",
              "      <td>48672.285854</td>\n",
              "      <td>на покупку автомобиля</td>\n",
              "    </tr>\n",
              "    <tr>\n",
              "      <th>1915</th>\n",
              "      <td>0</td>\n",
              "      <td>373836.542882</td>\n",
              "      <td>67</td>\n",
              "      <td>высшее</td>\n",
              "      <td>0</td>\n",
              "      <td>вдовец / вдова</td>\n",
              "      <td>2</td>\n",
              "      <td>F</td>\n",
              "      <td>пенсионер</td>\n",
              "      <td>0</td>\n",
              "      <td>230877.037643</td>\n",
              "      <td>недвижимость</td>\n",
              "    </tr>\n",
              "    <tr>\n",
              "      <th>13378</th>\n",
              "      <td>0</td>\n",
              "      <td>-778.918807</td>\n",
              "      <td>26</td>\n",
              "      <td>среднее</td>\n",
              "      <td>1</td>\n",
              "      <td>гражданский брак</td>\n",
              "      <td>1</td>\n",
              "      <td>M</td>\n",
              "      <td>сотрудник</td>\n",
              "      <td>0</td>\n",
              "      <td>254834.443525</td>\n",
              "      <td>на проведение свадьбы</td>\n",
              "    </tr>\n",
              "    <tr>\n",
              "      <th>4823</th>\n",
              "      <td>0</td>\n",
              "      <td>-583.463940</td>\n",
              "      <td>39</td>\n",
              "      <td>среднее</td>\n",
              "      <td>1</td>\n",
              "      <td>гражданский брак</td>\n",
              "      <td>1</td>\n",
              "      <td>F</td>\n",
              "      <td>сотрудник</td>\n",
              "      <td>0</td>\n",
              "      <td>173221.613498</td>\n",
              "      <td>жилье</td>\n",
              "    </tr>\n",
              "    <tr>\n",
              "      <th>3891</th>\n",
              "      <td>1</td>\n",
              "      <td>NaN</td>\n",
              "      <td>68</td>\n",
              "      <td>НЕОКОНЧЕННОЕ ВЫСШЕЕ</td>\n",
              "      <td>2</td>\n",
              "      <td>в разводе</td>\n",
              "      <td>3</td>\n",
              "      <td>F</td>\n",
              "      <td>сотрудник</td>\n",
              "      <td>0</td>\n",
              "      <td>NaN</td>\n",
              "      <td>строительство недвижимости</td>\n",
              "    </tr>\n",
              "    <tr>\n",
              "      <th>20349</th>\n",
              "      <td>0</td>\n",
              "      <td>-1680.289676</td>\n",
              "      <td>44</td>\n",
              "      <td>среднее</td>\n",
              "      <td>1</td>\n",
              "      <td>женат / замужем</td>\n",
              "      <td>0</td>\n",
              "      <td>F</td>\n",
              "      <td>сотрудник</td>\n",
              "      <td>0</td>\n",
              "      <td>88406.642907</td>\n",
              "      <td>строительство жилой недвижимости</td>\n",
              "    </tr>\n",
              "    <tr>\n",
              "      <th>20121</th>\n",
              "      <td>0</td>\n",
              "      <td>-1733.626977</td>\n",
              "      <td>27</td>\n",
              "      <td>Среднее</td>\n",
              "      <td>1</td>\n",
              "      <td>гражданский брак</td>\n",
              "      <td>1</td>\n",
              "      <td>M</td>\n",
              "      <td>сотрудник</td>\n",
              "      <td>0</td>\n",
              "      <td>99939.720476</td>\n",
              "      <td>сыграть свадьбу</td>\n",
              "    </tr>\n",
              "    <tr>\n",
              "      <th>8129</th>\n",
              "      <td>1</td>\n",
              "      <td>355597.294741</td>\n",
              "      <td>46</td>\n",
              "      <td>среднее</td>\n",
              "      <td>1</td>\n",
              "      <td>женат / замужем</td>\n",
              "      <td>0</td>\n",
              "      <td>F</td>\n",
              "      <td>пенсионер</td>\n",
              "      <td>0</td>\n",
              "      <td>147843.910821</td>\n",
              "      <td>жилье</td>\n",
              "    </tr>\n",
              "    <tr>\n",
              "      <th>3602</th>\n",
              "      <td>0</td>\n",
              "      <td>367075.862141</td>\n",
              "      <td>67</td>\n",
              "      <td>среднее</td>\n",
              "      <td>1</td>\n",
              "      <td>женат / замужем</td>\n",
              "      <td>0</td>\n",
              "      <td>M</td>\n",
              "      <td>пенсионер</td>\n",
              "      <td>0</td>\n",
              "      <td>119111.966042</td>\n",
              "      <td>покупка жилья для семьи</td>\n",
              "    </tr>\n",
              "    <tr>\n",
              "      <th>5613</th>\n",
              "      <td>1</td>\n",
              "      <td>-4665.860899</td>\n",
              "      <td>41</td>\n",
              "      <td>среднее</td>\n",
              "      <td>1</td>\n",
              "      <td>женат / замужем</td>\n",
              "      <td>0</td>\n",
              "      <td>M</td>\n",
              "      <td>сотрудник</td>\n",
              "      <td>0</td>\n",
              "      <td>310903.717716</td>\n",
              "      <td>покупка недвижимости</td>\n",
              "    </tr>\n",
              "    <tr>\n",
              "      <th>236</th>\n",
              "      <td>0</td>\n",
              "      <td>395825.132530</td>\n",
              "      <td>59</td>\n",
              "      <td>среднее</td>\n",
              "      <td>1</td>\n",
              "      <td>женат / замужем</td>\n",
              "      <td>0</td>\n",
              "      <td>F</td>\n",
              "      <td>пенсионер</td>\n",
              "      <td>0</td>\n",
              "      <td>142956.545895</td>\n",
              "      <td>на покупку автомобиля</td>\n",
              "    </tr>\n",
              "    <tr>\n",
              "      <th>7297</th>\n",
              "      <td>0</td>\n",
              "      <td>-1307.548478</td>\n",
              "      <td>41</td>\n",
              "      <td>Среднее</td>\n",
              "      <td>1</td>\n",
              "      <td>в разводе</td>\n",
              "      <td>3</td>\n",
              "      <td>F</td>\n",
              "      <td>сотрудник</td>\n",
              "      <td>0</td>\n",
              "      <td>140108.105563</td>\n",
              "      <td>на покупку подержанного автомобиля</td>\n",
              "    </tr>\n",
              "    <tr>\n",
              "      <th>6799</th>\n",
              "      <td>0</td>\n",
              "      <td>-311.802280</td>\n",
              "      <td>59</td>\n",
              "      <td>среднее</td>\n",
              "      <td>1</td>\n",
              "      <td>Не женат / не замужем</td>\n",
              "      <td>4</td>\n",
              "      <td>M</td>\n",
              "      <td>сотрудник</td>\n",
              "      <td>0</td>\n",
              "      <td>147140.566118</td>\n",
              "      <td>строительство собственной недвижимости</td>\n",
              "    </tr>\n",
              "    <tr>\n",
              "      <th>220</th>\n",
              "      <td>1</td>\n",
              "      <td>NaN</td>\n",
              "      <td>23</td>\n",
              "      <td>неоконченное высшее</td>\n",
              "      <td>2</td>\n",
              "      <td>гражданский брак</td>\n",
              "      <td>1</td>\n",
              "      <td>F</td>\n",
              "      <td>компаньон</td>\n",
              "      <td>0</td>\n",
              "      <td>NaN</td>\n",
              "      <td>сыграть свадьбу</td>\n",
              "    </tr>\n",
              "    <tr>\n",
              "      <th>7340</th>\n",
              "      <td>2</td>\n",
              "      <td>-3818.249310</td>\n",
              "      <td>39</td>\n",
              "      <td>среднее</td>\n",
              "      <td>1</td>\n",
              "      <td>женат / замужем</td>\n",
              "      <td>0</td>\n",
              "      <td>F</td>\n",
              "      <td>сотрудник</td>\n",
              "      <td>0</td>\n",
              "      <td>40930.315696</td>\n",
              "      <td>покупка жилья</td>\n",
              "    </tr>\n",
              "    <tr>\n",
              "      <th>9014</th>\n",
              "      <td>2</td>\n",
              "      <td>-3016.584165</td>\n",
              "      <td>38</td>\n",
              "      <td>среднее</td>\n",
              "      <td>1</td>\n",
              "      <td>женат / замужем</td>\n",
              "      <td>0</td>\n",
              "      <td>M</td>\n",
              "      <td>сотрудник</td>\n",
              "      <td>0</td>\n",
              "      <td>155711.507518</td>\n",
              "      <td>покупка жилой недвижимости</td>\n",
              "    </tr>\n",
              "    <tr>\n",
              "      <th>9611</th>\n",
              "      <td>0</td>\n",
              "      <td>354239.970267</td>\n",
              "      <td>59</td>\n",
              "      <td>среднее</td>\n",
              "      <td>1</td>\n",
              "      <td>гражданский брак</td>\n",
              "      <td>1</td>\n",
              "      <td>M</td>\n",
              "      <td>пенсионер</td>\n",
              "      <td>1</td>\n",
              "      <td>123807.845191</td>\n",
              "      <td>сыграть свадьбу</td>\n",
              "    </tr>\n",
              "  </tbody>\n",
              "</table>\n",
              "</div>"
            ],
            "text/plain": [
              "       children  days_employed  dob_years            education  education_id  \\\n",
              "1950          0            NaN         62              среднее             1   \n",
              "14648         1   -1622.830092         32              среднее             1   \n",
              "10509         2   -2636.753966         46              среднее             1   \n",
              "17245         1   -3754.962527         55              среднее             1   \n",
              "1915          0  373836.542882         67               высшее             0   \n",
              "13378         0    -778.918807         26              среднее             1   \n",
              "4823          0    -583.463940         39              среднее             1   \n",
              "3891          1            NaN         68  НЕОКОНЧЕННОЕ ВЫСШЕЕ             2   \n",
              "20349         0   -1680.289676         44              среднее             1   \n",
              "20121         0   -1733.626977         27              Среднее             1   \n",
              "8129          1  355597.294741         46              среднее             1   \n",
              "3602          0  367075.862141         67              среднее             1   \n",
              "5613          1   -4665.860899         41              среднее             1   \n",
              "236           0  395825.132530         59              среднее             1   \n",
              "7297          0   -1307.548478         41              Среднее             1   \n",
              "6799          0    -311.802280         59              среднее             1   \n",
              "220           1            NaN         23  неоконченное высшее             2   \n",
              "7340          2   -3818.249310         39              среднее             1   \n",
              "9014          2   -3016.584165         38              среднее             1   \n",
              "9611          0  354239.970267         59              среднее             1   \n",
              "\n",
              "               family_status  family_status_id gender income_type  debt  \\\n",
              "1950         женат / замужем                 0      M   компаньон     0   \n",
              "14648       гражданский брак                 1      F   сотрудник     0   \n",
              "10509        женат / замужем                 0      M   сотрудник     0   \n",
              "17245        женат / замужем                 0      M   компаньон     1   \n",
              "1915          вдовец / вдова                 2      F   пенсионер     0   \n",
              "13378       гражданский брак                 1      M   сотрудник     0   \n",
              "4823        гражданский брак                 1      F   сотрудник     0   \n",
              "3891               в разводе                 3      F   сотрудник     0   \n",
              "20349        женат / замужем                 0      F   сотрудник     0   \n",
              "20121       гражданский брак                 1      M   сотрудник     0   \n",
              "8129         женат / замужем                 0      F   пенсионер     0   \n",
              "3602         женат / замужем                 0      M   пенсионер     0   \n",
              "5613         женат / замужем                 0      M   сотрудник     0   \n",
              "236          женат / замужем                 0      F   пенсионер     0   \n",
              "7297               в разводе                 3      F   сотрудник     0   \n",
              "6799   Не женат / не замужем                 4      M   сотрудник     0   \n",
              "220         гражданский брак                 1      F   компаньон     0   \n",
              "7340         женат / замужем                 0      F   сотрудник     0   \n",
              "9014         женат / замужем                 0      M   сотрудник     0   \n",
              "9611        гражданский брак                 1      M   пенсионер     1   \n",
              "\n",
              "        total_income                                 purpose  \n",
              "1950             NaN         операции со своей недвижимостью  \n",
              "14648   60518.820000            заняться высшим образованием  \n",
              "10509  125600.372094       покупка коммерческой недвижимости  \n",
              "17245   48672.285854                   на покупку автомобиля  \n",
              "1915   230877.037643                            недвижимость  \n",
              "13378  254834.443525                   на проведение свадьбы  \n",
              "4823   173221.613498                                   жилье  \n",
              "3891             NaN              строительство недвижимости  \n",
              "20349   88406.642907        строительство жилой недвижимости  \n",
              "20121   99939.720476                         сыграть свадьбу  \n",
              "8129   147843.910821                                   жилье  \n",
              "3602   119111.966042                 покупка жилья для семьи  \n",
              "5613   310903.717716                    покупка недвижимости  \n",
              "236    142956.545895                   на покупку автомобиля  \n",
              "7297   140108.105563      на покупку подержанного автомобиля  \n",
              "6799   147140.566118  строительство собственной недвижимости  \n",
              "220              NaN                         сыграть свадьбу  \n",
              "7340    40930.315696                           покупка жилья  \n",
              "9014   155711.507518              покупка жилой недвижимости  \n",
              "9611   123807.845191                         сыграть свадьбу  "
            ]
          },
          "execution_count": 3,
          "metadata": {},
          "output_type": "execute_result"
        }
      ],
      "source": [
        "data.sample(20,\n",
        "            random_state=78)"
      ]
    },
    {
      "cell_type": "markdown",
      "id": "a9bd29bf-68b4-4182-8fc9-cfc33b5d30b1",
      "metadata": {
        "editable": true,
        "slideshow": {
          "slide_type": ""
        },
        "tags": []
      },
      "source": [
        "Можно сделать следующие замечания по данным:\n",
        "- Есть отрицательные значения в признаке `days_employed` - <span id='abs'>эти значения необходимо привести к строго положительным (с помощью функции модуля `abs()`)\n",
        "- Есть неявные дубликаты в категориальном признаке `education` - эти значения необходимо заменить на общие (например, значение `СРЕДНЕЕ` заменим на `среднее`)\n",
        "- Есть неявные дубликаты в признаке `purpose` - следует объединить под одним названием (по аналогии с признаком `education`)\n",
        "- <span id='empty'>Есть пустоты в признаках `total_income` и `days_employed` - следует их либо заполнить, либо удалить"
      ]
    },
    {
      "cell_type": "markdown",
      "id": "5b90fc9f",
      "metadata": {
        "deletable": false,
        "editable": false,
        "id": "1c12e233",
        "slideshow": {
          "slide_type": ""
        },
        "tags": []
      },
      "source": [
        "Выведем общую информацию о фрейме"
      ]
    },
    {
      "cell_type": "code",
      "execution_count": 4,
      "id": "bf445a56",
      "metadata": {
        "deletable": false,
        "id": "2b757bca",
        "outputId": "15376089-8dad-46c9-b520-c05248d43158"
      },
      "outputs": [
        {
          "name": "stdout",
          "output_type": "stream",
          "text": [
            "<class 'pandas.core.frame.DataFrame'>\n",
            "RangeIndex: 21525 entries, 0 to 21524\n",
            "Data columns (total 12 columns):\n",
            " #   Column            Non-Null Count  Dtype  \n",
            "---  ------            --------------  -----  \n",
            " 0   children          21525 non-null  int64  \n",
            " 1   days_employed     19351 non-null  float64\n",
            " 2   dob_years         21525 non-null  int64  \n",
            " 3   education         21525 non-null  object \n",
            " 4   education_id      21525 non-null  int64  \n",
            " 5   family_status     21525 non-null  object \n",
            " 6   family_status_id  21525 non-null  int64  \n",
            " 7   gender            21525 non-null  object \n",
            " 8   income_type       21525 non-null  object \n",
            " 9   debt              21525 non-null  int64  \n",
            " 10  total_income      19351 non-null  float64\n",
            " 11  purpose           21525 non-null  object \n",
            "dtypes: float64(2), int64(5), object(5)\n",
            "memory usage: 2.0+ MB\n"
          ]
        }
      ],
      "source": [
        "data.info()"
      ]
    },
    {
      "cell_type": "markdown",
      "id": "8db23036",
      "metadata": {},
      "source": [
        "Таким образом, в данном фрейме мы имеем фрейм из 12 признаков (5 категориальных, 7 количественных) и 21525 объектов. Два [вышеобозначенных](#empty) признака содержат пустоты, которые необходимо обработать далее"
      ]
    },
    {
      "cell_type": "markdown",
      "id": "61e37df2",
      "metadata": {
        "deletable": false,
        "editable": false,
        "id": "333ec665"
      },
      "source": [
        "## Предобработка данных"
      ]
    },
    {
      "cell_type": "markdown",
      "id": "4512ac46",
      "metadata": {
        "deletable": false,
        "editable": false,
        "id": "02d92d53"
      },
      "source": [
        "### Удаление пропусков\n",
        "\n",
        "Начнем с заполнения пропусков в признаке `total_income`. На сумму дохода сильнее всего влияет тип занятости, поэтому заполнить пропуски в этом столбце нужно медианным значением по каждому типу из столбца `income_type`."
      ]
    },
    {
      "cell_type": "code",
      "execution_count": 5,
      "id": "ac4aa71d",
      "metadata": {
        "deletable": false,
        "id": "42006a93"
      },
      "outputs": [],
      "source": [
        "for t in data['income_type'].unique():\n",
        "    data.loc[(data['income_type'] == t) & (data['total_income'].isna()), 'total_income'] = \\\n",
        "    data.loc[(data['income_type'] == t), 'total_income'].median()"
      ]
    },
    {
      "cell_type": "markdown",
      "id": "5d09f732",
      "metadata": {},
      "source": [
        "Перед заполнением пустот в `days_employed` необходимо обработать аномалии (по описанию [выше](#abs))"
      ]
    },
    {
      "cell_type": "code",
      "execution_count": 6,
      "id": "2d28d280",
      "metadata": {},
      "outputs": [],
      "source": [
        "data['days_employed'] = data['days_employed'].abs()"
      ]
    },
    {
      "cell_type": "markdown",
      "id": "30d5c6ea",
      "metadata": {},
      "source": [
        "Теперь проведем аналогичную замену для признака `days_employed`"
      ]
    },
    {
      "cell_type": "code",
      "execution_count": 7,
      "id": "21e1bb5c",
      "metadata": {},
      "outputs": [],
      "source": [
        "for t in data['income_type'].unique():\n",
        "    data.loc[(data['income_type'] == t) & (data['days_employed'].isna()), 'days_employed'] = \\\n",
        "    data.loc[(data['income_type'] == t), 'days_employed'].median()"
      ]
    },
    {
      "cell_type": "markdown",
      "id": "c73a58da",
      "metadata": {},
      "source": [
        "Проверим заполнение пустот в указанных признаках"
      ]
    },
    {
      "cell_type": "code",
      "execution_count": 8,
      "id": "1ebeb39f",
      "metadata": {},
      "outputs": [
        {
          "data": {
            "text/plain": [
              "total_income     0\n",
              "days_employed    0\n",
              "dtype: int64"
            ]
          },
          "execution_count": 8,
          "metadata": {},
          "output_type": "execute_result"
        }
      ],
      "source": [
        "data[['total_income', 'days_employed']].isna().sum()"
      ]
    },
    {
      "cell_type": "markdown",
      "id": "78285e45",
      "metadata": {},
      "source": [
        "Заполнение пропусков прошло успешно. Перейдем к обработке выбросов"
      ]
    },
    {
      "cell_type": "markdown",
      "id": "41d648fa",
      "metadata": {
        "deletable": false,
        "editable": false,
        "id": "89da5ece"
      },
      "source": [
        "### Обработка аномальных значений\n",
        "\n",
        "Начнем с рассмотрения признака `days_employed`. Для каждого типа занятости выведите медианное значение трудового стажа `days_employed` в днях"
      ]
    },
    {
      "cell_type": "code",
      "execution_count": 9,
      "id": "e2f86272",
      "metadata": {
        "deletable": false,
        "id": "85a5faf6",
        "outputId": "801ef80e-522b-4668-f34e-565af7432bcf"
      },
      "outputs": [
        {
          "data": {
            "text/plain": [
              "income_type\n",
              "безработный        366413.652744\n",
              "в декрете            3296.759962\n",
              "госслужащий          2689.368353\n",
              "компаньон            1547.382223\n",
              "пенсионер          365213.306266\n",
              "предприниматель       520.848083\n",
              "сотрудник            1574.202821\n",
              "студент               578.751554\n",
              "Name: days_employed, dtype: float64"
            ]
          },
          "execution_count": 9,
          "metadata": {},
          "output_type": "execute_result"
        }
      ],
      "source": [
        "data.groupby('income_type')['days_employed'].agg('median')"
      ]
    },
    {
      "cell_type": "markdown",
      "id": "43068fd3",
      "metadata": {
        "deletable": false,
        "editable": false,
        "id": "38d1a030"
      },
      "source": [
        "У двух типов (безработные и пенсионеры) получатся аномально большие значения. Исправление проведем позже\n",
        "\n",
        "Выведем перечень уникальных значений столбца `children`"
      ]
    },
    {
      "cell_type": "code",
      "execution_count": 10,
      "id": "a0c4da7e",
      "metadata": {
        "deletable": false,
        "id": "ef5056eb",
        "outputId": "6975b15c-7f95-4697-d16d-a0c79b657b03"
      },
      "outputs": [
        {
          "data": {
            "text/plain": [
              "array([ 1,  0,  3,  2, -1,  4, 20,  5], dtype=int64)"
            ]
          },
          "execution_count": 10,
          "metadata": {},
          "output_type": "execute_result"
        }
      ],
      "source": [
        "data['children'].unique()"
      ]
    },
    {
      "cell_type": "markdown",
      "id": "80434f09",
      "metadata": {
        "deletable": false,
        "editable": false,
        "id": "40b9ebf2"
      },
      "source": [
        "В признаке `children` есть два аномальных значения. Удалим объекты, в которых встречаются такие аномальные значения"
      ]
    },
    {
      "cell_type": "code",
      "execution_count": 11,
      "id": "47d26649",
      "metadata": {
        "deletable": false,
        "id": "3ff9801d"
      },
      "outputs": [
        {
          "data": {
            "text/plain": [
              "array([1, 0, 3, 2, 4, 5], dtype=int64)"
            ]
          },
          "execution_count": 11,
          "metadata": {},
          "output_type": "execute_result"
        }
      ],
      "source": [
        "data = data[(data['children'] != -1) & (data['children'] != 20)]\n",
        "\n",
        "# Проверка\n",
        "data['children'].unique()"
      ]
    },
    {
      "cell_type": "markdown",
      "id": "634950c7",
      "metadata": {
        "deletable": false,
        "id": "ad4fa8b7",
        "outputId": "b2097101-d49d-44d9-901b-32a65c9463d1"
      },
      "source": [
        "Удаление прошло успешно"
      ]
    },
    {
      "cell_type": "markdown",
      "id": "fab851ac",
      "metadata": {
        "deletable": false,
        "editable": false,
        "id": "ddc81e43"
      },
      "source": [
        "### Изменение типов данных"
      ]
    },
    {
      "cell_type": "markdown",
      "id": "4bdceec8",
      "metadata": {
        "deletable": false,
        "editable": false,
        "id": "42d19d24"
      },
      "source": [
        "Приведем признак `total_income` к типу int"
      ]
    },
    {
      "cell_type": "code",
      "execution_count": 12,
      "id": "d2258bd7",
      "metadata": {
        "deletable": false,
        "id": "920b65ad"
      },
      "outputs": [],
      "source": [
        "data['total_income'] = data['total_income'].astype(int)"
      ]
    },
    {
      "cell_type": "markdown",
      "id": "06ec1c3b",
      "metadata": {
        "deletable": false,
        "editable": false,
        "id": "80c420ba"
      },
      "source": [
        "### Обработка дубликатов"
      ]
    },
    {
      "cell_type": "markdown",
      "id": "1e4d330a",
      "metadata": {
        "deletable": false,
        "editable": false
      },
      "source": [
        "Обработаем неявные дубликаты в признаке `education`. В этом признаке есть одни и те же значения, но записанные по-разному: с использованием заглавных и строчных букв. Приведем их к нижнему регистру."
      ]
    },
    {
      "cell_type": "code",
      "execution_count": 13,
      "id": "73375939",
      "metadata": {
        "deletable": false
      },
      "outputs": [],
      "source": [
        "data['education'] = data['education'].str.lower()"
      ]
    },
    {
      "cell_type": "markdown",
      "id": "dfb12643",
      "metadata": {
        "deletable": false,
        "editable": false,
        "id": "dc587695"
      },
      "source": [
        "Выведем число полных дубликатов фрейма"
      ]
    },
    {
      "cell_type": "code",
      "execution_count": 14,
      "id": "5b43d1c3",
      "metadata": {
        "deletable": false,
        "id": "3ee445e4",
        "outputId": "9684deba-1934-42d1-99e1-cda61740f822"
      },
      "outputs": [
        {
          "data": {
            "text/plain": [
              "71"
            ]
          },
          "execution_count": 14,
          "metadata": {},
          "output_type": "execute_result"
        }
      ],
      "source": [
        "data.duplicated().sum()"
      ]
    },
    {
      "cell_type": "markdown",
      "id": "8d6bd580",
      "metadata": {},
      "source": [
        "Удалаим данные значения"
      ]
    },
    {
      "cell_type": "code",
      "execution_count": 15,
      "id": "875b7347",
      "metadata": {
        "deletable": false,
        "id": "8575fe05"
      },
      "outputs": [
        {
          "data": {
            "text/plain": [
              "0"
            ]
          },
          "execution_count": 15,
          "metadata": {},
          "output_type": "execute_result"
        }
      ],
      "source": [
        "data = data.drop_duplicates()\n",
        "# Проверка\n",
        "data.duplicated().sum()"
      ]
    },
    {
      "cell_type": "markdown",
      "id": "876e61b6",
      "metadata": {
        "deletable": false,
        "editable": false,
        "id": "9904cf55"
      },
      "source": [
        "### Категоризация данных"
      ]
    },
    {
      "cell_type": "markdown",
      "id": "fcd243b1",
      "metadata": {
        "deletable": false,
        "editable": false,
        "id": "72fcc8a2"
      },
      "source": [
        "Создадим признак `total_income_category` с категориями на основе признака `total_income`:\n",
        "\n",
        "- 0–30000 — `'E'`;\n",
        "- 30001–50000 — `'D'`;\n",
        "- 50001–200000 — `'C'`;\n",
        "- 200001–1000000 — `'B'`;\n",
        "- 1000001 и выше — `'A'`\n",
        "\n",
        "Для этого напишем функцию для этого"
      ]
    },
    {
      "cell_type": "code",
      "execution_count": 16,
      "id": "6f9eac68",
      "metadata": {
        "deletable": false,
        "id": "e1771346"
      },
      "outputs": [],
      "source": [
        "def categorize_income(income):\n",
        "    try:\n",
        "        if 0 <= income <= 30000:\n",
        "            return 'E'\n",
        "        elif 30001 <= income <= 50000:\n",
        "            return 'D'\n",
        "        elif 50001 <= income <= 200000:\n",
        "            return 'C'\n",
        "        elif 200001 <= income <= 1000000:\n",
        "            return 'B'\n",
        "        elif income >= 1000001:\n",
        "            return 'A'\n",
        "    except:\n",
        "        pass"
      ]
    },
    {
      "cell_type": "markdown",
      "id": "5ec76ef7",
      "metadata": {},
      "source": [
        "Применим эту функцию к признаку `total_income`"
      ]
    },
    {
      "cell_type": "code",
      "execution_count": 17,
      "id": "6175560d",
      "metadata": {
        "deletable": false,
        "id": "d5f3586d"
      },
      "outputs": [
        {
          "data": {
            "text/plain": [
              "total_income_category\n",
              "C    15921\n",
              "B     5014\n",
              "D      349\n",
              "A       25\n",
              "E       22\n",
              "Name: count, dtype: int64"
            ]
          },
          "execution_count": 17,
          "metadata": {},
          "output_type": "execute_result"
        }
      ],
      "source": [
        "data['total_income_category'] = data['total_income'].apply(categorize_income)\n",
        "# Проверка\n",
        "data['total_income_category'].value_counts()"
      ]
    },
    {
      "cell_type": "markdown",
      "id": "5e5c3cfb",
      "metadata": {},
      "source": [
        "Выведем на экран перечень уникальных целей взятия кредита из признака `purpose`"
      ]
    },
    {
      "cell_type": "code",
      "execution_count": 18,
      "id": "b5c2ab06",
      "metadata": {},
      "outputs": [
        {
          "data": {
            "text/plain": [
              "array(['покупка жилья', 'приобретение автомобиля',\n",
              "       'дополнительное образование', 'сыграть свадьбу',\n",
              "       'операции с жильем', 'образование', 'на проведение свадьбы',\n",
              "       'покупка жилья для семьи', 'покупка недвижимости',\n",
              "       'покупка коммерческой недвижимости', 'покупка жилой недвижимости',\n",
              "       'строительство собственной недвижимости', 'недвижимость',\n",
              "       'строительство недвижимости', 'на покупку подержанного автомобиля',\n",
              "       'на покупку своего автомобиля',\n",
              "       'операции с коммерческой недвижимостью',\n",
              "       'строительство жилой недвижимости', 'жилье',\n",
              "       'операции со своей недвижимостью', 'автомобили',\n",
              "       'заняться образованием', 'сделка с подержанным автомобилем',\n",
              "       'получение образования', 'автомобиль', 'свадьба',\n",
              "       'получение дополнительного образования', 'покупка своего жилья',\n",
              "       'операции с недвижимостью', 'получение высшего образования',\n",
              "       'свой автомобиль', 'сделка с автомобилем',\n",
              "       'профильное образование', 'высшее образование',\n",
              "       'покупка жилья для сдачи', 'на покупку автомобиля', 'ремонт жилью',\n",
              "       'заняться высшим образованием'], dtype=object)"
            ]
          },
          "execution_count": 18,
          "metadata": {},
          "output_type": "execute_result"
        }
      ],
      "source": [
        "data['purpose'].unique()"
      ]
    },
    {
      "cell_type": "markdown",
      "id": "3b9e3ad1",
      "metadata": {},
      "source": [
        "Создим функцию, которая на основании данных из столбца `purpose` сформирует новый столбец `purpose_category`, в который войдут следующие категории:**\n",
        "\n",
        "- `'операции с автомобилем'`,\n",
        "- `'операции с недвижимостью'`,\n",
        "- `'проведение свадьбы'`,\n",
        "- `'получение образования'`"
      ]
    },
    {
      "cell_type": "code",
      "execution_count": 19,
      "id": "97f2a2f2",
      "metadata": {},
      "outputs": [],
      "source": [
        "def categorize_purpose(row):\n",
        "    try:\n",
        "        if 'автом' in row:\n",
        "            return 'операции с автомобилем'\n",
        "        elif 'жил' in row or 'недвиж' in row:\n",
        "            return 'операции с недвижимостью'\n",
        "        elif 'свад' in row:\n",
        "            return 'проведение свадьбы'\n",
        "        elif 'образов' in row:\n",
        "            return 'получение образования'\n",
        "    except:\n",
        "        return 'нет категории'"
      ]
    },
    {
      "cell_type": "code",
      "execution_count": 20,
      "id": "5c4c4828",
      "metadata": {
        "deletable": false,
        "id": "bf36e69b"
      },
      "outputs": [
        {
          "data": {
            "text/plain": [
              "purpose_category\n",
              "операции с недвижимостью    10751\n",
              "операции с автомобилем       4279\n",
              "получение образования        3988\n",
              "проведение свадьбы           2313\n",
              "Name: count, dtype: int64"
            ]
          },
          "execution_count": 20,
          "metadata": {},
          "output_type": "execute_result"
        }
      ],
      "source": [
        "data['purpose_category'] = data['purpose'].apply(categorize_purpose)\n",
        "# Проверка\n",
        "data['purpose_category'].value_counts()"
      ]
    },
    {
      "cell_type": "markdown",
      "id": "8d63dbcc",
      "metadata": {
        "deletable": false,
        "editable": false,
        "id": "09b242bf"
      },
      "source": [
        "### Исследование данных и ответы на вопросы"
      ]
    },
    {
      "cell_type": "markdown",
      "id": "917df500",
      "metadata": {
        "deletable": false,
        "editable": false,
        "id": "c5d66278"
      },
      "source": [
        "#### 3.1 Есть ли зависимость между количеством детей и возвратом кредита в срок?"
      ]
    },
    {
      "cell_type": "code",
      "execution_count": 21,
      "id": "e5885678",
      "metadata": {
        "deletable": false,
        "id": "2cacfc4a"
      },
      "outputs": [
        {
          "name": "stdout",
          "output_type": "stream",
          "text": [
            "children\n",
            "0    0.660588\n",
            "1    0.225400\n",
            "2    0.096198\n",
            "3    0.015470\n",
            "4    0.001922\n",
            "5    0.000422\n",
            "Name: debt, dtype: float64\n"
          ]
        }
      ],
      "source": [
        "# Рассчитаем общее число плательщиков\n",
        "debt_total = data['debt'].count()\n",
        "\n",
        "# Найдем общее число людей в каждом сегменте\n",
        "debt_children_grouped_total = data.groupby('children')['debt'].count()\n",
        "\n",
        "# Рассчитаем репрезантивность каждой категории\n",
        "debt_children_repres = debt_children_grouped_total / debt_total\n",
        "print(debt_children_repres)"
      ]
    },
    {
      "cell_type": "markdown",
      "id": "49b732bb",
      "metadata": {},
      "source": [
        "Видно, что для нашего анализа подходят не все группы (репрезентативность категории плательщиков, у которых более двух детей,\n",
        "не подходит для анализа)"
      ]
    },
    {
      "cell_type": "code",
      "execution_count": 22,
      "id": "43535ebe",
      "metadata": {},
      "outputs": [
        {
          "name": "stdout",
          "output_type": "stream",
          "text": [
            "children\n",
            "0    0.075438\n",
            "1    0.092346\n",
            "2    0.094542\n",
            "Name: debt, dtype: float64\n"
          ]
        }
      ],
      "source": [
        "# Выберем только строки, где количество детей менее 3х\n",
        "data_filtered_children = data[data['children'] < 3]\n",
        "\n",
        "# Рассчитаем количество неуплаченных в срок кредитов по количеству детей\n",
        "debt_children_grouped_unpayed = data_filtered_children.groupby('children')['debt'].sum()\n",
        "\n",
        "# Найдем общее число людей в каждом сегменте\n",
        "debt_children_grouped_total = data_filtered_children.groupby('children')['debt'].count()\n",
        "\n",
        "# Поделим значения debt_grouped_unpayed, чтобы найти соотношение неоплаченных в срок к общему числу\n",
        "debt_children_grouped_ratio = debt_children_grouped_unpayed / debt_children_grouped_total\n",
        "\n",
        "# Выведем на экран результат\n",
        "print(debt_children_grouped_ratio.sort_values())"
      ]
    },
    {
      "cell_type": "markdown",
      "id": "0986e58a",
      "metadata": {
        "deletable": false,
        "id": "3a6b99ec"
      },
      "source": [
        "**Вывод:** четко выраженной зависимости между количеством детей и возвратом кредита в срок не наблюдается. На репрезентативных категориях видна зависимость между количеством детей и возвратом кредита в срок (прямая зависимость: чем больше детей, тем выше вероятность невозврата кредита в срок)"
      ]
    },
    {
      "cell_type": "markdown",
      "id": "79295d57",
      "metadata": {
        "deletable": false,
        "editable": false,
        "id": "97be82ca"
      },
      "source": [
        "#### 3.2 Есть ли зависимость между семейным положением и возвратом кредита в срок?"
      ]
    },
    {
      "cell_type": "code",
      "execution_count": 23,
      "id": "1f7c6771",
      "metadata": {
        "deletable": false,
        "id": "dc3f7ee8",
        "scrolled": true
      },
      "outputs": [
        {
          "name": "stdout",
          "output_type": "stream",
          "text": [
            "family_status\n",
            "вдовец / вдова           0.066246\n",
            "в разводе                0.070648\n",
            "женат / замужем          0.075606\n",
            "гражданский брак         0.093130\n",
            "Не женат / не замужем    0.097639\n",
            "Name: debt, dtype: float64\n"
          ]
        }
      ],
      "source": [
        "# Рассчитаем количество неуплаченных в срок кредитов по семейному статусу\n",
        "debt_family_grouped_unpayed = data.groupby('family_status')['debt'].sum()\n",
        "\n",
        "# Найдем общее число людей в каждом сегменте\n",
        "debt_family_grouped_total = data.groupby('family_status')['debt'].count()\n",
        "\n",
        "# Поделим значения debt_family_grouped_unpayed, чтобы найти соотношение неоплаченных в срок к общему числу\n",
        "debt_family_grouped_ratio = debt_family_grouped_unpayed / debt_family_grouped_total\n",
        "\n",
        "# Выведем на экран отсортированный результат\n",
        "print(debt_family_grouped_ratio.sort_values())"
      ]
    },
    {
      "cell_type": "markdown",
      "id": "094a7af2",
      "metadata": {
        "deletable": false,
        "id": "1cef7837"
      },
      "source": [
        "**Вывод:** наблюдается связь между семейным положением и возвратом кредита в срок, а именно:\n",
        "те, кто ранее состоял в браке (вдовцы/вдовы или разведенные) наиболее часто возвращают кредиты в срок, наименее часто возвращают те, кто не состоит в официальном браке (те, кто состоят в гражданском браке и неженатые/незамужние)"
      ]
    },
    {
      "cell_type": "markdown",
      "id": "f35799d7",
      "metadata": {
        "deletable": false,
        "editable": false,
        "id": "1e8b2fca"
      },
      "source": [
        "#### 3.3 Есть ли зависимость между уровнем дохода и возвратом кредита в срок?"
      ]
    },
    {
      "cell_type": "code",
      "execution_count": 24,
      "id": "5c35eb7f",
      "metadata": {
        "deletable": false,
        "id": "cd7e3720"
      },
      "outputs": [
        {
          "name": "stdout",
          "output_type": "stream",
          "text": [
            "total_income_category\n",
            "A    0.001172\n",
            "B    0.235057\n",
            "C    0.746379\n",
            "D    0.016361\n",
            "E    0.001031\n",
            "Name: debt, dtype: float64\n"
          ]
        }
      ],
      "source": [
        "# Найдем общее число людей в каждом сегменте\n",
        "debt_income_grouped_total = data.groupby('total_income_category')['debt'].count()\n",
        "\n",
        "# Рассчитаем репрезентативность каждой категории\n",
        "debt_income_repres = debt_income_grouped_total / debt_total\n",
        "print(debt_income_repres)"
      ]
    },
    {
      "cell_type": "markdown",
      "id": "6ee614a2",
      "metadata": {},
      "source": [
        "Таким образом, для анализа подойдут только две категории: В и С"
      ]
    },
    {
      "cell_type": "code",
      "execution_count": 25,
      "id": "2252e7dd",
      "metadata": {},
      "outputs": [
        {
          "name": "stdout",
          "output_type": "stream",
          "text": [
            "total_income_category\n",
            "B    0.070602\n",
            "C    0.084982\n",
            "Name: debt, dtype: float64\n"
          ]
        }
      ],
      "source": [
        "# Выберем только строки, где категория дохода В или С\n",
        "data_filtered_income = data[(data['total_income_category'] == \"B\") | (data['total_income_category'] == \"C\")]\n",
        "\n",
        "# Рассчитаем количество неуплаченных в срок кредитов по категории дохода (которую мы получили в задании 16)\n",
        "debt_income_grouped_unpayed = data_filtered_income.groupby('total_income_category')['debt'].sum()\n",
        "\n",
        "# Найдем общее число людей в каждом сегменте\n",
        "debt_income_grouped_total = data_filtered_income.groupby('total_income_category')['debt'].count()\n",
        "\n",
        "# Поделим значения debt_income_grouped_unpayed, чтобы найти соотношение неоплаченных в срок к общему числу\n",
        "debt_income_grouped_ratio = debt_income_grouped_unpayed / debt_income_grouped_total\n",
        "\n",
        "# Выведем на экран отсортированный результат\n",
        "print(debt_income_grouped_ratio.sort_values())"
      ]
    },
    {
      "cell_type": "markdown",
      "id": "c11637d8",
      "metadata": {
        "deletable": false,
        "id": "e8593def"
      },
      "source": [
        "**Вывод:** зависимости между уровнем дохода и возвратом кредита в срок нет. Видна зависимость между доходом и возвратом кредита в срок, однако в выборке участвуют только две категории, поэтому нельзя заключить, что данная зависимость прослеживается на полном наборе данных"
      ]
    },
    {
      "cell_type": "markdown",
      "id": "eed9f5ee",
      "metadata": {
        "deletable": false,
        "editable": false,
        "id": "99ecbd1f"
      },
      "source": [
        "#### 3.4 Как разные цели кредита влияют на его возврат в срок?"
      ]
    },
    {
      "cell_type": "code",
      "execution_count": 26,
      "id": "cc01ff59",
      "metadata": {
        "deletable": false,
        "id": "2b687290"
      },
      "outputs": [
        {
          "name": "stdout",
          "output_type": "stream",
          "text": [
            "purpose_category\n",
            "операции с недвижимостью    0.072551\n",
            "проведение свадьбы          0.079118\n",
            "получение образования       0.092528\n",
            "операции с автомобилем      0.093480\n",
            "Name: debt, dtype: float64\n"
          ]
        }
      ],
      "source": [
        "# Рассчитаем количество неуплаченных в срок кредитов по категории цели (которую мы получили в задании 18)\n",
        "debt_purpose_grouped_unpayed = data.groupby('purpose_category')['debt'].sum()\n",
        "\n",
        "# Найдем общее число людей в каждом сегменте\n",
        "debt_purpose_grouped_total = data.groupby('purpose_category')['debt'].count()\n",
        "\n",
        "# Поделим значения debt_purpose_grouped_unpayed, чтобы найти соотношение неоплаченных в срок к общему числу\n",
        "debt_purpose_grouped_ratio = debt_purpose_grouped_unpayed / debt_purpose_grouped_total\n",
        "\n",
        "# Выведем на экран отсортированный результат\n",
        "print(debt_purpose_grouped_ratio.sort_values())"
      ]
    },
    {
      "cell_type": "markdown",
      "id": "acf303ee",
      "metadata": {
        "deletable": false,
        "id": "b4bb2ce6"
      },
      "source": [
        "**Вывод:** наиболее часто в срок возвращаются кредиты с целью приобритения недвижимости. Наименее часто возвращают кредиты в срок с целью покупки автомобиля."
      ]
    },
    {
      "cell_type": "markdown",
      "id": "b18794fd",
      "metadata": {
        "deletable": false,
        "editable": false,
        "id": "09c3ac4c"
      },
      "source": [
        "#### 3.5 Приведите возможные причины появления пропусков в исходных данных."
      ]
    },
    {
      "cell_type": "markdown",
      "id": "b75f4af9",
      "metadata": {
        "deletable": false,
        "id": "9da2ceda"
      },
      "source": [
        "*Ответ:* пустые значения наблюдались в столбцах days_employed (срок трудоустройства в днях) и total_income (общий доход). Это может быть связано с доступом к информации (информация была скрыта или утеряна) или с технической поломкой (записи были утеряны при копировании)."
      ]
    },
    {
      "cell_type": "markdown",
      "id": "0793ea8c",
      "metadata": {
        "deletable": false,
        "editable": false,
        "id": "7b0487d6"
      },
      "source": [
        "#### 3.6 Объясните, почему заполнить пропуски медианным значением — лучшее решение для количественных переменных."
      ]
    },
    {
      "cell_type": "markdown",
      "id": "1e4c64f7",
      "metadata": {
        "deletable": false,
        "id": "7ecf2b8e"
      },
      "source": [
        "*Ответ:* количественные переменные могут содержать пиковые значения (слишком большие или слишком маленькие значения). Такие значения смешают значения в одну из сторон и дают неверное представление о данных. Медиана позволяет избежать такой ошибки"
      ]
    },
    {
      "cell_type": "markdown",
      "id": "c25640fc",
      "metadata": {
        "deletable": false,
        "editable": false,
        "id": "6db5255a"
      },
      "source": [
        "### Общий вывод."
      ]
    },
    {
      "cell_type": "markdown",
      "id": "2e181916",
      "metadata": {},
      "source": [
        "**Вывод:**\n",
        "\n",
        "Были проанализированные данные о возврате кредитов в срок и других данных плательщика.\n",
        "Были найдеты и исправлены аномалии в колонке \"children\" (убраны значения -1 и 20).\n",
        "Были найдены пустые значения в колонках \"total_income\" и \"days_employed\". Заменены на медианные значения соответствующих колонок.\n",
        "Также были добавлены категории целей кредита и категории дохода.\n",
        "Были проанализированы взаимосвязи между возвратом кредита в срок и другими данными о налогоплательщике. Была выявлена связь между семейным положением и возвратом кредита в срок, количеством детей и возвратом кредита в срок."
      ]
    }
  ],
  "metadata": {
    "ExecuteTimeLog": [
      {
        "duration": 432,
        "start_time": "2023-11-19T17:38:04.515Z"
      },
      {
        "duration": 72,
        "start_time": "2023-11-19T17:38:06.094Z"
      },
      {
        "duration": 24,
        "start_time": "2023-11-19T17:38:07.226Z"
      },
      {
        "duration": 15,
        "start_time": "2023-11-19T17:38:08.265Z"
      },
      {
        "duration": 11,
        "start_time": "2023-11-19T17:38:11.105Z"
      },
      {
        "duration": 35,
        "start_time": "2023-11-19T17:38:23.192Z"
      },
      {
        "duration": 4,
        "start_time": "2023-11-19T17:38:24.880Z"
      },
      {
        "duration": 4,
        "start_time": "2023-11-19T17:38:31.927Z"
      },
      {
        "duration": 7,
        "start_time": "2023-11-19T17:38:40.024Z"
      },
      {
        "duration": 4,
        "start_time": "2023-11-19T17:38:45.055Z"
      },
      {
        "duration": 35,
        "start_time": "2023-11-19T17:38:46.636Z"
      },
      {
        "duration": 10,
        "start_time": "2023-11-19T17:38:49.654Z"
      },
      {
        "duration": 4,
        "start_time": "2023-11-19T17:38:57.183Z"
      },
      {
        "duration": 12,
        "start_time": "2023-11-19T17:38:58.349Z"
      },
      {
        "duration": 19,
        "start_time": "2023-11-19T17:38:59.169Z"
      },
      {
        "duration": 17,
        "start_time": "2023-11-19T17:39:01.276Z"
      },
      {
        "duration": 3,
        "start_time": "2023-11-19T17:39:03.157Z"
      },
      {
        "duration": 11,
        "start_time": "2023-11-19T17:39:04.849Z"
      },
      {
        "duration": 6,
        "start_time": "2023-11-19T17:39:05.800Z"
      },
      {
        "duration": 3,
        "start_time": "2023-11-19T17:39:14.847Z"
      },
      {
        "duration": 9,
        "start_time": "2023-11-19T17:39:15.212Z"
      },
      {
        "duration": 5,
        "start_time": "2023-11-19T17:44:32.245Z"
      },
      {
        "duration": 6,
        "start_time": "2023-11-19T17:44:47.602Z"
      },
      {
        "duration": 12,
        "start_time": "2023-11-19T17:46:49.207Z"
      },
      {
        "duration": 13,
        "start_time": "2023-11-19T17:48:25.036Z"
      },
      {
        "duration": 7,
        "start_time": "2023-11-19T17:48:52.758Z"
      },
      {
        "duration": 7,
        "start_time": "2023-11-19T17:49:02.322Z"
      },
      {
        "duration": 7,
        "start_time": "2023-11-19T17:49:10.939Z"
      },
      {
        "duration": 7,
        "start_time": "2023-11-19T17:50:49.434Z"
      },
      {
        "duration": 12,
        "start_time": "2023-11-19T17:56:37.486Z"
      },
      {
        "duration": 5,
        "start_time": "2023-11-19T17:57:54.019Z"
      },
      {
        "duration": 774,
        "start_time": "2023-11-19T17:58:59.971Z"
      },
      {
        "duration": 20,
        "start_time": "2023-11-19T17:59:21.953Z"
      },
      {
        "duration": 12,
        "start_time": "2023-11-19T17:59:53.747Z"
      },
      {
        "duration": 22,
        "start_time": "2023-11-19T18:01:15.171Z"
      },
      {
        "duration": 15,
        "start_time": "2023-11-19T18:01:26.051Z"
      },
      {
        "duration": 8,
        "start_time": "2023-11-19T18:01:55.023Z"
      },
      {
        "duration": 11,
        "start_time": "2023-11-19T18:04:58.354Z"
      },
      {
        "duration": 10,
        "start_time": "2023-11-19T18:09:24.217Z"
      },
      {
        "duration": 4,
        "start_time": "2023-11-19T18:14:37.891Z"
      },
      {
        "duration": 8,
        "start_time": "2023-11-19T18:14:44.352Z"
      },
      {
        "duration": 9,
        "start_time": "2023-11-19T18:15:31.603Z"
      },
      {
        "duration": 11,
        "start_time": "2023-11-19T18:18:18.048Z"
      },
      {
        "duration": 87,
        "start_time": "2023-11-19T18:27:56.900Z"
      },
      {
        "duration": 104,
        "start_time": "2023-11-19T18:28:39.500Z"
      },
      {
        "duration": 48,
        "start_time": "2023-11-19T18:28:49.421Z"
      },
      {
        "duration": 44,
        "start_time": "2023-11-19T18:30:02.672Z"
      },
      {
        "duration": 39,
        "start_time": "2023-11-19T18:30:14.820Z"
      },
      {
        "duration": 39,
        "start_time": "2023-11-19T18:30:26.282Z"
      },
      {
        "duration": 111,
        "start_time": "2023-11-21T15:36:14.104Z"
      },
      {
        "duration": 43,
        "start_time": "2023-11-21T15:36:23.333Z"
      },
      {
        "duration": 7,
        "start_time": "2023-11-21T15:41:39.409Z"
      },
      {
        "duration": 660,
        "start_time": "2023-11-21T15:41:57.595Z"
      },
      {
        "duration": 22,
        "start_time": "2023-11-21T15:41:58.257Z"
      },
      {
        "duration": 14,
        "start_time": "2023-11-21T15:41:58.281Z"
      },
      {
        "duration": 11,
        "start_time": "2023-11-21T15:41:58.882Z"
      },
      {
        "duration": 38,
        "start_time": "2023-11-21T15:41:59.194Z"
      },
      {
        "duration": 4,
        "start_time": "2023-11-21T15:41:59.696Z"
      },
      {
        "duration": 7,
        "start_time": "2023-11-21T15:42:00.163Z"
      },
      {
        "duration": 5,
        "start_time": "2023-11-21T15:42:00.637Z"
      },
      {
        "duration": 7,
        "start_time": "2023-11-21T15:42:00.964Z"
      },
      {
        "duration": 4,
        "start_time": "2023-11-21T15:42:01.294Z"
      },
      {
        "duration": 34,
        "start_time": "2023-11-21T15:42:01.811Z"
      },
      {
        "duration": 13,
        "start_time": "2023-11-21T15:42:02.160Z"
      },
      {
        "duration": 4,
        "start_time": "2023-11-21T15:42:02.684Z"
      },
      {
        "duration": 12,
        "start_time": "2023-11-21T15:42:03.187Z"
      },
      {
        "duration": 20,
        "start_time": "2023-11-21T15:42:03.734Z"
      },
      {
        "duration": 18,
        "start_time": "2023-11-21T15:42:04.140Z"
      },
      {
        "duration": 4,
        "start_time": "2023-11-21T15:42:05.289Z"
      },
      {
        "duration": 11,
        "start_time": "2023-11-21T15:42:05.680Z"
      },
      {
        "duration": 6,
        "start_time": "2023-11-21T15:42:06.320Z"
      },
      {
        "duration": 3,
        "start_time": "2023-11-21T15:42:07.584Z"
      },
      {
        "duration": 10,
        "start_time": "2023-11-21T15:42:07.980Z"
      },
      {
        "duration": 7,
        "start_time": "2023-11-21T15:42:09.378Z"
      },
      {
        "duration": 8,
        "start_time": "2023-11-21T15:42:29.516Z"
      },
      {
        "duration": 8,
        "start_time": "2023-11-21T16:10:49.388Z"
      },
      {
        "duration": 9,
        "start_time": "2023-11-21T16:10:57.930Z"
      },
      {
        "duration": 37,
        "start_time": "2023-11-21T16:11:52.621Z"
      },
      {
        "duration": 12,
        "start_time": "2023-11-21T16:12:07.933Z"
      },
      {
        "duration": 9,
        "start_time": "2023-11-21T16:12:12.659Z"
      },
      {
        "duration": 6,
        "start_time": "2023-11-21T16:13:31.832Z"
      },
      {
        "duration": 14,
        "start_time": "2023-11-21T16:17:10.741Z"
      },
      {
        "duration": 11,
        "start_time": "2023-11-21T16:21:31.756Z"
      },
      {
        "duration": 4,
        "start_time": "2023-11-21T16:23:08.845Z"
      },
      {
        "duration": 6,
        "start_time": "2023-11-21T16:23:22.504Z"
      },
      {
        "duration": 9,
        "start_time": "2023-11-21T16:23:52.214Z"
      },
      {
        "duration": 15,
        "start_time": "2023-11-21T16:26:10.870Z"
      }
    ],
    "colab": {
      "name": "dpp_template_part2.ipynb",
      "provenance": []
    },
    "kernelspec": {
      "display_name": "Python 3",
      "language": "python",
      "name": "python3"
    },
    "language_info": {
      "codemirror_mode": {
        "name": "ipython",
        "version": 3
      },
      "file_extension": ".py",
      "mimetype": "text/x-python",
      "name": "python",
      "nbconvert_exporter": "python",
      "pygments_lexer": "ipython3",
      "version": "3.11.7"
    },
    "toc": {
      "base_numbering": 1,
      "nav_menu": {},
      "number_sections": true,
      "sideBar": true,
      "skip_h1_title": true,
      "title_cell": "Table of Contents",
      "title_sidebar": "Contents",
      "toc_cell": false,
      "toc_position": {},
      "toc_section_display": true,
      "toc_window_display": false
    }
  },
  "nbformat": 4,
  "nbformat_minor": 5
}
