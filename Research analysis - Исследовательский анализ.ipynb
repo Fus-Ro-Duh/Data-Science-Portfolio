{
 "cells": [
  {
   "cell_type": "markdown",
   "id": "6737adf0",
   "metadata": {},
   "source": [
    "# Анализ данных пользователей сервиса GoFast\n",
    "\n",
    "**Цель проекта** - оценка рентабельности подписки сервиса по данным о пользователях мобильного приложения\n",
    "\n",
    "**Задачи:**\n",
    "- Прочитать и проверить предоставленные файлы\n",
    "- Сделать предобработку предоставленных данных о пользователях, их поездках и типах подписки\n",
    "- Провести анализ данных (оценить средную длительность поездки, среднюю дальность поездки, соотношение пользователей с и без подписки, средний возраст пользователя\n",
    "- Проверить гипотезы и дать ответ на вопрос \"Выгодня ли сервису пользователи с платной подпиской\"\n",
    "- Помочь отделу маркетинга с рекламной компанией (оценить успешность и оптимальное число участников)"
   ]
  },
  {
   "cell_type": "code",
   "execution_count": 2,
   "id": "420ac0e4",
   "metadata": {},
   "outputs": [],
   "source": [
    "import pandas as pd\n",
    "import matplotlib.pyplot as plt\n",
    "import numpy as np\n",
    "from importlib import reload\n",
    "from scipy import stats as st\n",
    "from math import sqrt"
   ]
  },
  {
   "cell_type": "markdown",
   "id": "58b9bfab",
   "metadata": {},
   "source": [
    "#### Загрузка данных\n",
    "\n",
    "Мы имеем три файла для загрузки. Поэтому напише функцию для обработки их записи"
   ]
  },
  {
   "cell_type": "code",
   "execution_count": 3,
   "id": "a1597595",
   "metadata": {},
   "outputs": [],
   "source": [
    "def get_data(path):\n",
    "    try:\n",
    "        # Считываем данные\n",
    "        data = pd.read_csv(path)\n",
    "        # Выводим пять случайных строк для проверки корректности чтения\n",
    "        print('Даннные были загружены успешно!\\n\\nПять случайных строк фрейма:')\n",
    "        try:\n",
    "            display(data.sample(n=5, random_state=789))\n",
    "        except:\n",
    "            display(data.head())\n",
    "        # Выведем размер фрейма\n",
    "        print(f'\\nФрейм состоит из {data.shape[1]} признаков и {data.shape[0]} объектов')\n",
    "\n",
    "        # Выводим общую информацию о фрейме\n",
    "        print('\\nОбщая информация о фрейме:')\n",
    "        data.info()\n",
    "\n",
    "        # Возвращаем фрейм\n",
    "        return data\n",
    "    except:\n",
    "        print('Ошибка загрузки данных! Проверь корректность пути к файлу.')"
   ]
  },
  {
   "cell_type": "markdown",
   "id": "ad604ac0",
   "metadata": {},
   "source": [
    "Загрузим данные по пользователям в датафрейм users_raw_data."
   ]
  },
  {
   "cell_type": "code",
   "execution_count": 4,
   "id": "678f80a2",
   "metadata": {},
   "outputs": [
    {
     "name": "stdout",
     "output_type": "stream",
     "text": [
      "Даннные были загружены успешно!\n",
      "\n",
      "Пять случайных строк фрейма:\n"
     ]
    },
    {
     "data": {
      "text/html": [
       "<div>\n",
       "<style scoped>\n",
       "    .dataframe tbody tr th:only-of-type {\n",
       "        vertical-align: middle;\n",
       "    }\n",
       "\n",
       "    .dataframe tbody tr th {\n",
       "        vertical-align: top;\n",
       "    }\n",
       "\n",
       "    .dataframe thead th {\n",
       "        text-align: right;\n",
       "    }\n",
       "</style>\n",
       "<table border=\"1\" class=\"dataframe\">\n",
       "  <thead>\n",
       "    <tr style=\"text-align: right;\">\n",
       "      <th></th>\n",
       "      <th>user_id</th>\n",
       "      <th>name</th>\n",
       "      <th>age</th>\n",
       "      <th>city</th>\n",
       "      <th>subscription_type</th>\n",
       "    </tr>\n",
       "  </thead>\n",
       "  <tbody>\n",
       "    <tr>\n",
       "      <th>379</th>\n",
       "      <td>380</td>\n",
       "      <td>Валерий</td>\n",
       "      <td>33</td>\n",
       "      <td>Сочи</td>\n",
       "      <td>ultra</td>\n",
       "    </tr>\n",
       "    <tr>\n",
       "      <th>947</th>\n",
       "      <td>948</td>\n",
       "      <td>Михаил</td>\n",
       "      <td>24</td>\n",
       "      <td>Пятигорск</td>\n",
       "      <td>free</td>\n",
       "    </tr>\n",
       "    <tr>\n",
       "      <th>398</th>\n",
       "      <td>399</td>\n",
       "      <td>Борис</td>\n",
       "      <td>30</td>\n",
       "      <td>Омск</td>\n",
       "      <td>ultra</td>\n",
       "    </tr>\n",
       "    <tr>\n",
       "      <th>410</th>\n",
       "      <td>411</td>\n",
       "      <td>Святослав</td>\n",
       "      <td>21</td>\n",
       "      <td>Краснодар</td>\n",
       "      <td>ultra</td>\n",
       "    </tr>\n",
       "    <tr>\n",
       "      <th>359</th>\n",
       "      <td>360</td>\n",
       "      <td>Одиссей</td>\n",
       "      <td>29</td>\n",
       "      <td>Омск</td>\n",
       "      <td>ultra</td>\n",
       "    </tr>\n",
       "  </tbody>\n",
       "</table>\n",
       "</div>"
      ],
      "text/plain": [
       "     user_id       name  age       city subscription_type\n",
       "379      380    Валерий   33       Сочи             ultra\n",
       "947      948     Михаил   24  Пятигорск              free\n",
       "398      399      Борис   30       Омск             ultra\n",
       "410      411  Святослав   21  Краснодар             ultra\n",
       "359      360    Одиссей   29       Омск             ultra"
      ]
     },
     "metadata": {},
     "output_type": "display_data"
    },
    {
     "name": "stdout",
     "output_type": "stream",
     "text": [
      "\n",
      "Фрейм состоит из 5 признаков и 1565 объектов\n",
      "\n",
      "Общая информация о фрейме:\n",
      "<class 'pandas.core.frame.DataFrame'>\n",
      "RangeIndex: 1565 entries, 0 to 1564\n",
      "Data columns (total 5 columns):\n",
      " #   Column             Non-Null Count  Dtype \n",
      "---  ------             --------------  ----- \n",
      " 0   user_id            1565 non-null   int64 \n",
      " 1   name               1565 non-null   object\n",
      " 2   age                1565 non-null   int64 \n",
      " 3   city               1565 non-null   object\n",
      " 4   subscription_type  1565 non-null   object\n",
      "dtypes: int64(2), object(3)\n",
      "memory usage: 61.3+ KB\n"
     ]
    }
   ],
   "source": [
    "users_raw_data = get_data('https://code.s3.yandex.net/datasets/users_go.csv')"
   ]
  },
  {
   "cell_type": "markdown",
   "id": "2e5a7e2e",
   "metadata": {},
   "source": [
    "**Замечания по фрейму:**\n",
    "- Возможны дубликаты. Следует особенно проверить признак `user_id`, так как его впоследствии можно использовать в качестве индекса\n",
    "- Следует проверить неявные дубликаты в признаке `subscription_type`\n",
    "- Следует проверить признак `age` на выбросы\n",
    "- <span id='no_empty'>Пустот в фрейме нет\n",
    "\n",
    "Аналогично поступим с данными по поездкам"
   ]
  },
  {
   "cell_type": "code",
   "execution_count": 5,
   "id": "857ff665",
   "metadata": {},
   "outputs": [
    {
     "name": "stdout",
     "output_type": "stream",
     "text": [
      "Даннные были загружены успешно!\n",
      "\n",
      "Пять случайных строк фрейма:\n"
     ]
    },
    {
     "data": {
      "text/html": [
       "<div>\n",
       "<style scoped>\n",
       "    .dataframe tbody tr th:only-of-type {\n",
       "        vertical-align: middle;\n",
       "    }\n",
       "\n",
       "    .dataframe tbody tr th {\n",
       "        vertical-align: top;\n",
       "    }\n",
       "\n",
       "    .dataframe thead th {\n",
       "        text-align: right;\n",
       "    }\n",
       "</style>\n",
       "<table border=\"1\" class=\"dataframe\">\n",
       "  <thead>\n",
       "    <tr style=\"text-align: right;\">\n",
       "      <th></th>\n",
       "      <th>user_id</th>\n",
       "      <th>distance</th>\n",
       "      <th>duration</th>\n",
       "      <th>date</th>\n",
       "    </tr>\n",
       "  </thead>\n",
       "  <tbody>\n",
       "    <tr>\n",
       "      <th>15397</th>\n",
       "      <td>1347</td>\n",
       "      <td>5578.193767</td>\n",
       "      <td>25.918227</td>\n",
       "      <td>2021-08-19</td>\n",
       "    </tr>\n",
       "    <tr>\n",
       "      <th>11652</th>\n",
       "      <td>1075</td>\n",
       "      <td>4739.193322</td>\n",
       "      <td>21.478387</td>\n",
       "      <td>2021-11-24</td>\n",
       "    </tr>\n",
       "    <tr>\n",
       "      <th>15984</th>\n",
       "      <td>1388</td>\n",
       "      <td>5658.574533</td>\n",
       "      <td>14.317149</td>\n",
       "      <td>2021-06-13</td>\n",
       "    </tr>\n",
       "    <tr>\n",
       "      <th>4359</th>\n",
       "      <td>468</td>\n",
       "      <td>3228.356307</td>\n",
       "      <td>17.917906</td>\n",
       "      <td>2021-11-24</td>\n",
       "    </tr>\n",
       "    <tr>\n",
       "      <th>10923</th>\n",
       "      <td>1023</td>\n",
       "      <td>2346.581429</td>\n",
       "      <td>10.121517</td>\n",
       "      <td>2021-04-07</td>\n",
       "    </tr>\n",
       "  </tbody>\n",
       "</table>\n",
       "</div>"
      ],
      "text/plain": [
       "       user_id     distance   duration        date\n",
       "15397     1347  5578.193767  25.918227  2021-08-19\n",
       "11652     1075  4739.193322  21.478387  2021-11-24\n",
       "15984     1388  5658.574533  14.317149  2021-06-13\n",
       "4359       468  3228.356307  17.917906  2021-11-24\n",
       "10923     1023  2346.581429  10.121517  2021-04-07"
      ]
     },
     "metadata": {},
     "output_type": "display_data"
    },
    {
     "name": "stdout",
     "output_type": "stream",
     "text": [
      "\n",
      "Фрейм состоит из 4 признаков и 18068 объектов\n",
      "\n",
      "Общая информация о фрейме:\n",
      "<class 'pandas.core.frame.DataFrame'>\n",
      "RangeIndex: 18068 entries, 0 to 18067\n",
      "Data columns (total 4 columns):\n",
      " #   Column    Non-Null Count  Dtype  \n",
      "---  ------    --------------  -----  \n",
      " 0   user_id   18068 non-null  int64  \n",
      " 1   distance  18068 non-null  float64\n",
      " 2   duration  18068 non-null  float64\n",
      " 3   date      18068 non-null  object \n",
      "dtypes: float64(2), int64(1), object(1)\n",
      "memory usage: 564.8+ KB\n"
     ]
    }
   ],
   "source": [
    "rides_raw_data = get_data('https://code.s3.yandex.net/datasets/rides_go.csv')"
   ]
  },
  {
   "cell_type": "markdown",
   "id": "76e3ca00",
   "metadata": {},
   "source": [
    "**Замечания по фрейму:**\n",
    "- Возможны дубликаты. Следует особенно проверить признак `user_id`, так как его впоследствии можно использовать в качестве индекса\n",
    "- <span id='date_type'>Следует преобразовать тип данных признака `date`\n",
    "- Следует проверить признаки `distance` и `duration` на выбросы\n",
    "\n",
    "Завершим загрузку данных фреймом о подписках"
   ]
  },
  {
   "cell_type": "code",
   "execution_count": 6,
   "id": "595cfbef",
   "metadata": {},
   "outputs": [
    {
     "name": "stdout",
     "output_type": "stream",
     "text": [
      "Даннные были загружены успешно!\n",
      "\n",
      "Пять случайных строк фрейма:\n"
     ]
    },
    {
     "data": {
      "text/html": [
       "<div>\n",
       "<style scoped>\n",
       "    .dataframe tbody tr th:only-of-type {\n",
       "        vertical-align: middle;\n",
       "    }\n",
       "\n",
       "    .dataframe tbody tr th {\n",
       "        vertical-align: top;\n",
       "    }\n",
       "\n",
       "    .dataframe thead th {\n",
       "        text-align: right;\n",
       "    }\n",
       "</style>\n",
       "<table border=\"1\" class=\"dataframe\">\n",
       "  <thead>\n",
       "    <tr style=\"text-align: right;\">\n",
       "      <th></th>\n",
       "      <th>subscription_type</th>\n",
       "      <th>minute_price</th>\n",
       "      <th>start_ride_price</th>\n",
       "      <th>subscription_fee</th>\n",
       "    </tr>\n",
       "  </thead>\n",
       "  <tbody>\n",
       "    <tr>\n",
       "      <th>0</th>\n",
       "      <td>free</td>\n",
       "      <td>8</td>\n",
       "      <td>50</td>\n",
       "      <td>0</td>\n",
       "    </tr>\n",
       "    <tr>\n",
       "      <th>1</th>\n",
       "      <td>ultra</td>\n",
       "      <td>6</td>\n",
       "      <td>0</td>\n",
       "      <td>199</td>\n",
       "    </tr>\n",
       "  </tbody>\n",
       "</table>\n",
       "</div>"
      ],
      "text/plain": [
       "  subscription_type  minute_price  start_ride_price  subscription_fee\n",
       "0              free             8                50                 0\n",
       "1             ultra             6                 0               199"
      ]
     },
     "metadata": {},
     "output_type": "display_data"
    },
    {
     "name": "stdout",
     "output_type": "stream",
     "text": [
      "\n",
      "Фрейм состоит из 4 признаков и 2 объектов\n",
      "\n",
      "Общая информация о фрейме:\n",
      "<class 'pandas.core.frame.DataFrame'>\n",
      "RangeIndex: 2 entries, 0 to 1\n",
      "Data columns (total 4 columns):\n",
      " #   Column             Non-Null Count  Dtype \n",
      "---  ------             --------------  ----- \n",
      " 0   subscription_type  2 non-null      object\n",
      " 1   minute_price       2 non-null      int64 \n",
      " 2   start_ride_price   2 non-null      int64 \n",
      " 3   subscription_fee   2 non-null      int64 \n",
      "dtypes: int64(3), object(1)\n",
      "memory usage: 196.0+ bytes\n"
     ]
    }
   ],
   "source": [
    "subscriptions_raw_data = get_data('https://code.s3.yandex.net/datasets/subscriptions_go.csv')"
   ]
  },
  {
   "cell_type": "markdown",
   "id": "bf64a641",
   "metadata": {},
   "source": [
    "**Замечаний по фрейму нет**"
   ]
  },
  {
   "cell_type": "markdown",
   "id": "4674d9c2",
   "metadata": {},
   "source": [
    "#### Предобработка данных"
   ]
  },
  {
   "cell_type": "markdown",
   "id": "7c184f8c",
   "metadata": {},
   "source": [
    "<span id='to_date'>Как отмечалось [выше](#date_type), необходимо преобразовать признак `date` в фрейме по поездкам к формату даты pandas"
   ]
  },
  {
   "cell_type": "code",
   "execution_count": 7,
   "id": "bc0a4c2b",
   "metadata": {},
   "outputs": [
    {
     "data": {
      "text/plain": [
       "dtype('<M8[ns]')"
      ]
     },
     "execution_count": 7,
     "metadata": {},
     "output_type": "execute_result"
    }
   ],
   "source": [
    "rides_raw_data['date'] = pd.to_datetime(rides_raw_data['date'],\n",
    "                                        format='%Y-%m-%d')\n",
    "# Проверка\n",
    "rides_raw_data['date'].dtype"
   ]
  },
  {
   "cell_type": "markdown",
   "id": "0d356028",
   "metadata": {},
   "source": [
    "<span id='added_month'>Теперь выделем столбец month, который будет содержать месяц поездки"
   ]
  },
  {
   "cell_type": "code",
   "execution_count": 8,
   "id": "bdf4c112",
   "metadata": {},
   "outputs": [
    {
     "data": {
      "text/plain": [
       "10532    12\n",
       "5569      3\n",
       "634       6\n",
       "3695     11\n",
       "17142     8\n",
       "Name: month, dtype: int32"
      ]
     },
     "execution_count": 8,
     "metadata": {},
     "output_type": "execute_result"
    }
   ],
   "source": [
    "rides_raw_data['month'] = rides_raw_data['date'].dt.month\n",
    "# Проверим\n",
    "rides_raw_data['month'].sample(5)"
   ]
  },
  {
   "cell_type": "markdown",
   "id": "21ef0154",
   "metadata": {},
   "source": [
    "Проверим период, который есть у нас в фрейме. Выведем минимальный и максимальный месяц"
   ]
  },
  {
   "cell_type": "code",
   "execution_count": 9,
   "id": "2374e43c",
   "metadata": {},
   "outputs": [
    {
     "name": "stdout",
     "output_type": "stream",
     "text": [
      "Минимальный месяц в выборке 1\n",
      "Максимальный месяц в выборке 12\n",
      "Всего в выборке присутствуют данные за 12 месяцев\n",
      "\n",
      "Промежуток в выборке представлен с 2021-01-01 00:00:00 по 2021-12-30 00:00:00\n"
     ]
    }
   ],
   "source": [
    "print(f'Минимальный месяц в выборке {rides_raw_data[\"month\"].min()}')\n",
    "print(f'Максимальный месяц в выборке {rides_raw_data[\"month\"].max()}')\n",
    "print(f'Всего в выборке присутствуют данные за {len(rides_raw_data[\"month\"].sort_values().unique())} месяцев')\n",
    "print()\n",
    "print(f'Промежуток в выборке представлен с {rides_raw_data[\"date\"].min()} по {rides_raw_data[\"date\"].max()}')"
   ]
  },
  {
   "cell_type": "markdown",
   "id": "f98d79f9",
   "metadata": {},
   "source": [
    "Таким образом, мы имеем данные за полный год 2021\n",
    "\n",
    "<span id='drop_dupl'>Пустот в фреймах [не обнаружено](#no_empty). Выведем количество дубликатов в фреймах по пользователям. Если в фрейме есть полные дубликаты - удалим их"
   ]
  },
  {
   "cell_type": "code",
   "execution_count": 10,
   "id": "6cc29fee",
   "metadata": {},
   "outputs": [
    {
     "name": "stdout",
     "output_type": "stream",
     "text": [
      "В фрейме о пользователей присутствует 31 полных дубликатов\n",
      "В фрейме о пользователей осталось 0 полных дубликатов\n"
     ]
    }
   ],
   "source": [
    "users_duplicates = users_raw_data.duplicated().sum()\n",
    "print(f'В фрейме о пользователей присутствует {users_duplicates} полных дубликатов')\n",
    "if users_duplicates:\n",
    "    users_raw_data = users_raw_data.drop_duplicates()\n",
    "    # Проверка\n",
    "    print(f'В фрейме о пользователей осталось {users_raw_data.duplicated().sum()} полных дубликатов')"
   ]
  },
  {
   "cell_type": "markdown",
   "id": "2fcc95b3",
   "metadata": {},
   "source": [
    "Проведем аналогичную проверку для фрейма с поездками"
   ]
  },
  {
   "cell_type": "code",
   "execution_count": 11,
   "id": "8a10be39",
   "metadata": {},
   "outputs": [
    {
     "name": "stdout",
     "output_type": "stream",
     "text": [
      "В фрейме о пользователей присутствует 0 полных дубликатов\n"
     ]
    }
   ],
   "source": [
    "rides_duplicates = rides_raw_data.duplicated().sum()\n",
    "print(f'В фрейме о пользователей присутствует {rides_duplicates} полных дубликатов')\n",
    "if rides_duplicates:\n",
    "    rides_raw_data = rides_raw_data.drop_duplicates()\n",
    "    # Проверка\n",
    "    print(f'В фрейме о пользователей осталось {rides_raw_data.duplicated().sum()} полных дубликатов')"
   ]
  },
  {
   "cell_type": "markdown",
   "id": "61858a69",
   "metadata": {},
   "source": [
    "**Вывод шага:** была проведена предобработка данных:\n",
    "- [Приведен](#to_date) тип признака date в фрейме по поездкам к типу datetime\n",
    "- [Добавлен](#added_month) столбец month (понадобится в дальнейшем исследовании для агрегирования по группам)\n",
    "- Были [обработаны](#drop_dupl) полные дубликаты в двух фреймах"
   ]
  },
  {
   "cell_type": "markdown",
   "id": "d7ae4d6e",
   "metadata": {},
   "source": [
    "#### Исследовательский анализ данных"
   ]
  },
  {
   "cell_type": "markdown",
   "id": "87c08906",
   "metadata": {},
   "source": [
    "**Найдем частоту встречаемости городов**. Для этого воспользуемся методом value_counts() для столбца city в фрейме по пользователям."
   ]
  },
  {
   "cell_type": "code",
   "execution_count": 12,
   "id": "bb63b3cf",
   "metadata": {},
   "outputs": [
    {
     "data": {
      "text/plain": [
       "city\n",
       "Пятигорск         219\n",
       "Екатеринбург      204\n",
       "Ростов-на-Дону    198\n",
       "Краснодар         193\n",
       "Сочи              189\n",
       "Омск              183\n",
       "Тюмень            180\n",
       "Москва            168\n",
       "Name: count, dtype: int64"
      ]
     },
     "execution_count": 12,
     "metadata": {},
     "output_type": "execute_result"
    }
   ],
   "source": [
    "users_raw_data['city'].value_counts().sort_values(ascending=False)"
   ]
  },
  {
   "cell_type": "markdown",
   "id": "0402daf4",
   "metadata": {},
   "source": [
    "Визуализируем данные"
   ]
  },
  {
   "cell_type": "code",
   "execution_count": 13,
   "id": "5120a551",
   "metadata": {
    "scrolled": true
   },
   "outputs": [
    {
     "data": {
      "image/png": "[encoded data removed]",
      "text/plain": [
       "<Figure size 1000x500 with 1 Axes>"
      ]
     },
     "metadata": {},
     "output_type": "display_data"
    }
   ],
   "source": [
    "(\n",
    "    users_raw_data['city'].value_counts()\n",
    "                          .sort_values(ascending=False)\n",
    "                          .plot(kind=\"bar\",\n",
    "                                title='Диаграмма распределения кол-ва пользователей по городам',\n",
    "                                figsize=(10, 5),\n",
    "                                ylabel='Кол-во пользователей',\n",
    "                                xlabel='Город')\n",
    ")\n",
    "\n",
    "plt.show()"
   ]
  },
  {
   "cell_type": "markdown",
   "id": "2a708e8f",
   "metadata": {},
   "source": [
    "**Вывод:** По таблице видно, что больше всего пользователей находится в городе Пятигорск, меньше всего - в Москве.\n",
    "По графику же видно, что доля городов в общей выборке относительно одинаковая\n",
    "\n",
    "Оценим количество и доли пользователей с разными типами подписок"
   ]
  },
  {
   "cell_type": "code",
   "execution_count": 14,
   "id": "c6e53832",
   "metadata": {},
   "outputs": [
    {
     "data": {
      "text/plain": [
       "subscription_type\n",
       "ultra    699\n",
       "free     835\n",
       "Name: count, dtype: int64"
      ]
     },
     "execution_count": 14,
     "metadata": {},
     "output_type": "execute_result"
    }
   ],
   "source": [
    "users_raw_data['subscription_type'].value_counts().sort_values()"
   ]
  },
  {
   "cell_type": "code",
   "execution_count": 15,
   "id": "f543d4bc",
   "metadata": {},
   "outputs": [
    {
     "data": {
      "image/png": "[encoded data removed]",
      "text/plain": [
       "<Figure size 1000x500 with 1 Axes>"
      ]
     },
     "metadata": {},
     "output_type": "display_data"
    }
   ],
   "source": [
    "(\n",
    "    users_raw_data['subscription_type'].value_counts()\n",
    "                                     .sort_values()\n",
    "                                     .plot(kind=\"pie\",\n",
    "                                           title='Диаграмма соотношения кол-ва пользователей с подпиской ultra и free',\n",
    "                                           figsize=(10, 5),\n",
    "                                           autopct='%.2f',\n",
    "                                           ylabel=\"\")\n",
    ")\n",
    "\n",
    "plt.show()"
   ]
  },
  {
   "cell_type": "markdown",
   "id": "3ec2b3bd",
   "metadata": {},
   "source": [
    "Видно, что пользователей без подписки больше половины всего числа пользователей\n",
    "\n",
    "Для данного параметра мы создадим гистограмму распределения возраста пользователей, по которой сделаем выводы"
   ]
  },
  {
   "cell_type": "code",
   "execution_count": 16,
   "id": "76b6f99d",
   "metadata": {},
   "outputs": [
    {
     "data": {
      "image/png": "[encoded data removed]",
      "text/plain": [
       "<Figure size 1000x500 with 1 Axes>"
      ]
     },
     "metadata": {},
     "output_type": "display_data"
    },
    {
     "data": {
      "text/plain": [
       "count    1534.000000\n",
       "mean       24.903520\n",
       "std         4.572367\n",
       "min        12.000000\n",
       "25%        22.000000\n",
       "50%        25.000000\n",
       "75%        28.000000\n",
       "max        43.000000\n",
       "Name: age, dtype: float64"
      ]
     },
     "execution_count": 16,
     "metadata": {},
     "output_type": "execute_result"
    }
   ],
   "source": [
    "# Гистограмма распределения\n",
    "ax = (\n",
    "    users_raw_data['age'].sort_values()\n",
    "                         .plot(kind=\"hist\",\n",
    "                               bins=50,\n",
    "                               ylabel='Возраст, лет',\n",
    "                               xlabel='Кол-во пользователей',\n",
    "                               title='Гистограмма распределения возраста пользователей',\n",
    "                               figsize=(10, 5))\n",
    ")\n",
    "# Вертикальная линия медианного значения\n",
    "ax.axvline(users_raw_data['age'].median(),\n",
    "                           color='red',\n",
    "                           linestyle='--',\n",
    "                           label='Медиана значений признака \"возраст\"')\n",
    "\n",
    "# Вертикальная линия среднего значения\n",
    "ax.axvline(users_raw_data['age'].mean(),\n",
    "                color='red',\n",
    "                linestyle='-',\n",
    "                label='Среднее значение признака \"возраст\"')\n",
    "\n",
    "plt.legend()\n",
    "\n",
    "plt.show()\n",
    "\n",
    "users_raw_data['age'].describe()"
   ]
  },
  {
   "cell_type": "markdown",
   "id": "4495951c",
   "metadata": {},
   "source": [
    "На графике видны несколько выбросов, но они не сильно влияют на выборку, что видно по близкому среднему и медианному значению возраста\n",
    "\n",
    "Оценим дальность поездки. Для данного признака я переведу данные в км (с 2 знаками после запятой). По этим данным можно будет построить Гистограмму - по x отложим расстояние, по y - кол-во поездок"
   ]
  },
  {
   "cell_type": "code",
   "execution_count": 17,
   "id": "6c1b4ca7",
   "metadata": {
    "scrolled": true
   },
   "outputs": [
    {
     "data": {
      "image/png": "[encoded data removed]",
      "text/plain": [
       "<Figure size 1000x500 with 1 Axes>"
      ]
     },
     "metadata": {},
     "output_type": "display_data"
    },
    {
     "data": {
      "text/plain": [
       "count    18068.000000\n",
       "mean         3.070649\n",
       "std          1.116847\n",
       "min          0.000000\n",
       "25%          2.540000\n",
       "50%          3.130000\n",
       "75%          3.780000\n",
       "max          7.210000\n",
       "Name: distance, dtype: float64"
      ]
     },
     "execution_count": 17,
     "metadata": {},
     "output_type": "execute_result"
    }
   ],
   "source": [
    "distance_converted = (rides_raw_data['distance'] / 1000).round(2)\n",
    "\n",
    "ax = (\n",
    "    distance_converted.sort_values()\n",
    "                      .plot(kind=\"hist\",\n",
    "                            bins=50,\n",
    "                            title='Гистограмма распределения дальности поездки',\n",
    "                            figsize=(10, 5))\n",
    ")\n",
    "# Вертикальная линия медианного значения\n",
    "ax.axvline(distance_converted.median(),\n",
    "                           color='red',\n",
    "                           linestyle='--',\n",
    "                           label='Медиана значений признака \"дальность\"')\n",
    "\n",
    "# Вертикальная линия среднего значения\n",
    "ax.axvline(distance_converted.mean(),\n",
    "                color='red',\n",
    "                linestyle='-',\n",
    "                label='Среднее значение признака \"дальность\"')\n",
    "\n",
    "plt.legend()\n",
    "\n",
    "plt.show()\n",
    "\n",
    "distance_converted.describe()"
   ]
  },
  {
   "cell_type": "markdown",
   "id": "3f4d72b9",
   "metadata": {},
   "source": [
    "По данному графику можно отметить, что есть два варианта поездок - на короткие дистанции (до 1 км) и на длинные (в среднем 3 км). Следует проверить такую гипотезу на параметре \"duration\". Сейчас же стоит посчитать среднюю поездку пользователя и изучить распределение"
   ]
  },
  {
   "cell_type": "code",
   "execution_count": 18,
   "id": "45795a12",
   "metadata": {},
   "outputs": [
    {
     "data": {
      "image/png": "[encoded data removed]",
      "text/plain": [
       "<Figure size 1000x500 with 1 Axes>"
      ]
     },
     "metadata": {},
     "output_type": "display_data"
    },
    {
     "data": {
      "text/html": [
       "<div>\n",
       "<style scoped>\n",
       "    .dataframe tbody tr th:only-of-type {\n",
       "        vertical-align: middle;\n",
       "    }\n",
       "\n",
       "    .dataframe tbody tr th {\n",
       "        vertical-align: top;\n",
       "    }\n",
       "\n",
       "    .dataframe thead th {\n",
       "        text-align: right;\n",
       "    }\n",
       "</style>\n",
       "<table border=\"1\" class=\"dataframe\">\n",
       "  <thead>\n",
       "    <tr style=\"text-align: right;\">\n",
       "      <th></th>\n",
       "      <th>distance</th>\n",
       "    </tr>\n",
       "  </thead>\n",
       "  <tbody>\n",
       "    <tr>\n",
       "      <th>count</th>\n",
       "      <td>1534.000000</td>\n",
       "    </tr>\n",
       "    <tr>\n",
       "      <th>mean</th>\n",
       "      <td>3077.296650</td>\n",
       "    </tr>\n",
       "    <tr>\n",
       "      <th>std</th>\n",
       "      <td>327.624403</td>\n",
       "    </tr>\n",
       "    <tr>\n",
       "      <th>min</th>\n",
       "      <td>1630.788427</td>\n",
       "    </tr>\n",
       "    <tr>\n",
       "      <th>25%</th>\n",
       "      <td>2882.505704</td>\n",
       "    </tr>\n",
       "    <tr>\n",
       "      <th>50%</th>\n",
       "      <td>3090.864050</td>\n",
       "    </tr>\n",
       "    <tr>\n",
       "      <th>75%</th>\n",
       "      <td>3293.325678</td>\n",
       "    </tr>\n",
       "    <tr>\n",
       "      <th>max</th>\n",
       "      <td>4287.519387</td>\n",
       "    </tr>\n",
       "  </tbody>\n",
       "</table>\n",
       "</div>"
      ],
      "text/plain": [
       "          distance\n",
       "count  1534.000000\n",
       "mean   3077.296650\n",
       "std     327.624403\n",
       "min    1630.788427\n",
       "25%    2882.505704\n",
       "50%    3090.864050\n",
       "75%    3293.325678\n",
       "max    4287.519387"
      ]
     },
     "execution_count": 18,
     "metadata": {},
     "output_type": "execute_result"
    }
   ],
   "source": [
    "mean_user_distance = rides_raw_data.pivot_table(index=\"user_id\",\n",
    "                                                values='distance',\n",
    "                                                aggfunc='mean')\n",
    "\n",
    "ax = (mean_user_distance.plot(kind=\"hist\",\n",
    "                              bins=30,\n",
    "                              xlabel='Расстояние, м',\n",
    "                              ylabel='Кол-во поездок',\n",
    "                              title='Гистограмма распределения средней дальности поездки',\n",
    "                              figsize=(10, 5))\n",
    ")\n",
    "\n",
    "# Вертикальная линия медианного значения\n",
    "ax.axvline(mean_user_distance.distance.median(),\n",
    "                           color='red',\n",
    "                           linestyle='--',\n",
    "                           label='Медиана значений признака \"дальность\"')\n",
    "\n",
    "# Вертикальная линия среднего значения\n",
    "ax.axvline(mean_user_distance.distance.mean(),\n",
    "                color='red',\n",
    "                linestyle='-',\n",
    "                label='Среднее значение признака \"дальность\"')\n",
    "\n",
    "plt.legend()\n",
    "\n",
    "plt.show()\n",
    "\n",
    "mean_user_distance.describe()"
   ]
  },
  {
   "cell_type": "markdown",
   "id": "a76fed32",
   "metadata": {},
   "source": [
    "Гистограмма средней дальности поездки пользователя похожа на нормальное распределение с вершиной 3 км\n",
    "\n",
    "Проведем аналогичные параметру \"distance\" исследования по продолжительности поездок"
   ]
  },
  {
   "cell_type": "code",
   "execution_count": 19,
   "id": "92756c39",
   "metadata": {},
   "outputs": [
    {
     "data": {
      "image/png": "[encoded data removed]",
      "text/plain": [
       "<Figure size 1000x500 with 1 Axes>"
      ]
     },
     "metadata": {},
     "output_type": "display_data"
    }
   ],
   "source": [
    "(\n",
    "    rides_raw_data['duration'].sort_values()\n",
    "                              .plot(kind=\"hist\",\n",
    "                                    bins=50,\n",
    "                                    title='Гистограмма распределения длительности поездки',\n",
    "                                    figsize=(10, 5))\n",
    ")\n",
    "plt.xlabel('Длительность, мин')\n",
    "plt.ylabel('Кол-во поездок')\n",
    "\n",
    "plt.show()"
   ]
  },
  {
   "cell_type": "markdown",
   "id": "e7326564",
   "metadata": {},
   "source": [
    "Гистограмма выглядит как нормальное распределение<br>\n",
    "Есть выброс около нуля, стоит детальнее проверить эти данные"
   ]
  },
  {
   "cell_type": "code",
   "execution_count": 20,
   "id": "413cb8b1",
   "metadata": {
    "scrolled": true
   },
   "outputs": [
    {
     "data": {
      "text/html": [
       "<div>\n",
       "<style scoped>\n",
       "    .dataframe tbody tr th:only-of-type {\n",
       "        vertical-align: middle;\n",
       "    }\n",
       "\n",
       "    .dataframe tbody tr th {\n",
       "        vertical-align: top;\n",
       "    }\n",
       "\n",
       "    .dataframe thead th {\n",
       "        text-align: right;\n",
       "    }\n",
       "</style>\n",
       "<table border=\"1\" class=\"dataframe\">\n",
       "  <thead>\n",
       "    <tr style=\"text-align: right;\">\n",
       "      <th></th>\n",
       "      <th>user_id</th>\n",
       "      <th>distance</th>\n",
       "      <th>duration</th>\n",
       "      <th>date</th>\n",
       "      <th>month</th>\n",
       "    </tr>\n",
       "  </thead>\n",
       "  <tbody>\n",
       "    <tr>\n",
       "      <th>6531</th>\n",
       "      <td>701</td>\n",
       "      <td>4196.445201</td>\n",
       "      <td>0.5</td>\n",
       "      <td>2021-08-31</td>\n",
       "      <td>8</td>\n",
       "    </tr>\n",
       "    <tr>\n",
       "      <th>6570</th>\n",
       "      <td>704</td>\n",
       "      <td>4830.824371</td>\n",
       "      <td>0.5</td>\n",
       "      <td>2021-10-14</td>\n",
       "      <td>10</td>\n",
       "    </tr>\n",
       "    <tr>\n",
       "      <th>6680</th>\n",
       "      <td>712</td>\n",
       "      <td>4684.004397</td>\n",
       "      <td>0.5</td>\n",
       "      <td>2021-03-04</td>\n",
       "      <td>3</td>\n",
       "    </tr>\n",
       "    <tr>\n",
       "      <th>6695</th>\n",
       "      <td>713</td>\n",
       "      <td>5215.642710</td>\n",
       "      <td>0.5</td>\n",
       "      <td>2021-02-25</td>\n",
       "      <td>2</td>\n",
       "    </tr>\n",
       "    <tr>\n",
       "      <th>6768</th>\n",
       "      <td>718</td>\n",
       "      <td>5197.436649</td>\n",
       "      <td>0.5</td>\n",
       "      <td>2021-02-11</td>\n",
       "      <td>2</td>\n",
       "    </tr>\n",
       "    <tr>\n",
       "      <th>...</th>\n",
       "      <td>...</td>\n",
       "      <td>...</td>\n",
       "      <td>...</td>\n",
       "      <td>...</td>\n",
       "      <td>...</td>\n",
       "    </tr>\n",
       "    <tr>\n",
       "      <th>17004</th>\n",
       "      <td>1460</td>\n",
       "      <td>5531.335845</td>\n",
       "      <td>0.5</td>\n",
       "      <td>2021-01-19</td>\n",
       "      <td>1</td>\n",
       "    </tr>\n",
       "    <tr>\n",
       "      <th>17242</th>\n",
       "      <td>1477</td>\n",
       "      <td>6724.932981</td>\n",
       "      <td>0.5</td>\n",
       "      <td>2021-01-12</td>\n",
       "      <td>1</td>\n",
       "    </tr>\n",
       "    <tr>\n",
       "      <th>17314</th>\n",
       "      <td>1483</td>\n",
       "      <td>4445.481070</td>\n",
       "      <td>0.5</td>\n",
       "      <td>2021-03-06</td>\n",
       "      <td>3</td>\n",
       "    </tr>\n",
       "    <tr>\n",
       "      <th>17505</th>\n",
       "      <td>1496</td>\n",
       "      <td>5722.551787</td>\n",
       "      <td>0.5</td>\n",
       "      <td>2021-02-14</td>\n",
       "      <td>2</td>\n",
       "    </tr>\n",
       "    <tr>\n",
       "      <th>17909</th>\n",
       "      <td>1524</td>\n",
       "      <td>4103.998874</td>\n",
       "      <td>0.5</td>\n",
       "      <td>2021-06-18</td>\n",
       "      <td>6</td>\n",
       "    </tr>\n",
       "  </tbody>\n",
       "</table>\n",
       "<p>95 rows × 5 columns</p>\n",
       "</div>"
      ],
      "text/plain": [
       "       user_id     distance  duration       date  month\n",
       "6531       701  4196.445201       0.5 2021-08-31      8\n",
       "6570       704  4830.824371       0.5 2021-10-14     10\n",
       "6680       712  4684.004397       0.5 2021-03-04      3\n",
       "6695       713  5215.642710       0.5 2021-02-25      2\n",
       "6768       718  5197.436649       0.5 2021-02-11      2\n",
       "...        ...          ...       ...        ...    ...\n",
       "17004     1460  5531.335845       0.5 2021-01-19      1\n",
       "17242     1477  6724.932981       0.5 2021-01-12      1\n",
       "17314     1483  4445.481070       0.5 2021-03-06      3\n",
       "17505     1496  5722.551787       0.5 2021-02-14      2\n",
       "17909     1524  4103.998874       0.5 2021-06-18      6\n",
       "\n",
       "[95 rows x 5 columns]"
      ]
     },
     "execution_count": 20,
     "metadata": {},
     "output_type": "execute_result"
    }
   ],
   "source": [
    "rides_raw_data.query('duration < 2')"
   ]
  },
  {
   "cell_type": "markdown",
   "id": "65b80a69",
   "metadata": {},
   "source": [
    "Эти данные стоит заменить. Мы можем вычислить среднюю скорость поездок и через это заменить длительности поездок ошибочных данных"
   ]
  },
  {
   "cell_type": "code",
   "execution_count": 21,
   "id": "1a1592a3",
   "metadata": {},
   "outputs": [
    {
     "data": {
      "text/plain": [
       "0"
      ]
     },
     "execution_count": 21,
     "metadata": {},
     "output_type": "execute_result"
    }
   ],
   "source": [
    "# Фрейм с корректными данными длительности поездок\n",
    "rides_correct_data = rides_raw_data.query('duration >= 2')\n",
    "# Средняя скорость (расстояние / время)\n",
    "avg_velocity = (rides_correct_data['distance'] / rides_correct_data['duration']).mean()\n",
    "# Замена неверных значений\n",
    "rides_raw_data.loc[rides_raw_data['duration'] < 2, 'duration'] = rides_raw_data.loc[rides_raw_data['duration'] < 2, 'distance'] / avg_velocity\n",
    "# Проверка\n",
    "rides_raw_data.query('duration < 2')['user_id'].count()"
   ]
  },
  {
   "cell_type": "markdown",
   "id": "9e3f2e6a",
   "metadata": {},
   "source": [
    "Таким образом мы избавились от некорректных данных.<br>\n",
    "Выведем график еще раз"
   ]
  },
  {
   "cell_type": "code",
   "execution_count": 22,
   "id": "93ae2479",
   "metadata": {},
   "outputs": [
    {
     "data": {
      "image/png": "[encoded data removed]",
      "text/plain": [
       "<Figure size 1000x500 with 1 Axes>"
      ]
     },
     "metadata": {},
     "output_type": "display_data"
    }
   ],
   "source": [
    "(\n",
    "    rides_raw_data['duration'].sort_values()\n",
    "                              .plot(kind=\"hist\",\n",
    "                                    bins=50,\n",
    "                                    title='Гистограмма распределения длительности поездки',\n",
    "                                    figsize=(10, 5))\n",
    ")\n",
    "plt.xlabel('Длительность, мин')\n",
    "plt.ylabel('Кол-во поездок')\n",
    "\n",
    "plt.show()"
   ]
  },
  {
   "cell_type": "markdown",
   "id": "a4271653",
   "metadata": {},
   "source": [
    "По итогу график напоминает нормальное распределение.\n",
    "Вычислим среднее и медианное время в пути"
   ]
  },
  {
   "cell_type": "code",
   "execution_count": 23,
   "id": "b1846c9a",
   "metadata": {},
   "outputs": [
    {
     "name": "stdout",
     "output_type": "stream",
     "text": [
      "Средняя длительность поездки: 17.95 мин\n",
      "Медианный длительность поездки: 17.75 мин\n"
     ]
    }
   ],
   "source": [
    "print(f'Средняя длительность поездки: {rides_raw_data[\"duration\"].mean():.2f} мин')\n",
    "print(f'Медианный длительность поездки: {rides_raw_data[\"duration\"].median():.2f} мин')"
   ]
  },
  {
   "cell_type": "markdown",
   "id": "3eb7a8d7",
   "metadata": {},
   "source": [
    "Медианное и среднее значения близки, что говорит об однородной выборке"
   ]
  },
  {
   "cell_type": "markdown",
   "id": "f5e4813e",
   "metadata": {},
   "source": [
    "<b>Таким образом мы видим, что выборка получается довольно однородной.<br>\n",
    "\n",
    "Мы также нашли и обработали аномалии в стольце duration фрейма по поездкам</b>"
   ]
  },
  {
   "cell_type": "markdown",
   "id": "429bc16b",
   "metadata": {},
   "source": [
    "#### Объединение данных"
   ]
  },
  {
   "cell_type": "markdown",
   "id": "e5d5544f",
   "metadata": {},
   "source": [
    "Объединим данные трех фреймов в один общий (total_data)"
   ]
  },
  {
   "cell_type": "code",
   "execution_count": 24,
   "id": "29e10ad2",
   "metadata": {},
   "outputs": [
    {
     "data": {
      "text/html": [
       "<div>\n",
       "<style scoped>\n",
       "    .dataframe tbody tr th:only-of-type {\n",
       "        vertical-align: middle;\n",
       "    }\n",
       "\n",
       "    .dataframe tbody tr th {\n",
       "        vertical-align: top;\n",
       "    }\n",
       "\n",
       "    .dataframe thead th {\n",
       "        text-align: right;\n",
       "    }\n",
       "</style>\n",
       "<table border=\"1\" class=\"dataframe\">\n",
       "  <thead>\n",
       "    <tr style=\"text-align: right;\">\n",
       "      <th></th>\n",
       "      <th>user_id</th>\n",
       "      <th>name</th>\n",
       "      <th>age</th>\n",
       "      <th>city</th>\n",
       "      <th>subscription_type</th>\n",
       "      <th>minute_price</th>\n",
       "      <th>start_ride_price</th>\n",
       "      <th>subscription_fee</th>\n",
       "      <th>distance</th>\n",
       "      <th>duration</th>\n",
       "      <th>date</th>\n",
       "      <th>month</th>\n",
       "    </tr>\n",
       "  </thead>\n",
       "  <tbody>\n",
       "    <tr>\n",
       "      <th>0</th>\n",
       "      <td>1</td>\n",
       "      <td>Кира</td>\n",
       "      <td>22</td>\n",
       "      <td>Тюмень</td>\n",
       "      <td>ultra</td>\n",
       "      <td>6</td>\n",
       "      <td>0</td>\n",
       "      <td>199</td>\n",
       "      <td>4409.919140</td>\n",
       "      <td>25.599769</td>\n",
       "      <td>2021-01-01</td>\n",
       "      <td>1</td>\n",
       "    </tr>\n",
       "    <tr>\n",
       "      <th>1</th>\n",
       "      <td>1</td>\n",
       "      <td>Кира</td>\n",
       "      <td>22</td>\n",
       "      <td>Тюмень</td>\n",
       "      <td>ultra</td>\n",
       "      <td>6</td>\n",
       "      <td>0</td>\n",
       "      <td>199</td>\n",
       "      <td>2617.592153</td>\n",
       "      <td>15.816871</td>\n",
       "      <td>2021-01-18</td>\n",
       "      <td>1</td>\n",
       "    </tr>\n",
       "    <tr>\n",
       "      <th>2</th>\n",
       "      <td>1</td>\n",
       "      <td>Кира</td>\n",
       "      <td>22</td>\n",
       "      <td>Тюмень</td>\n",
       "      <td>ultra</td>\n",
       "      <td>6</td>\n",
       "      <td>0</td>\n",
       "      <td>199</td>\n",
       "      <td>754.159807</td>\n",
       "      <td>6.232113</td>\n",
       "      <td>2021-04-20</td>\n",
       "      <td>4</td>\n",
       "    </tr>\n",
       "    <tr>\n",
       "      <th>3</th>\n",
       "      <td>1</td>\n",
       "      <td>Кира</td>\n",
       "      <td>22</td>\n",
       "      <td>Тюмень</td>\n",
       "      <td>ultra</td>\n",
       "      <td>6</td>\n",
       "      <td>0</td>\n",
       "      <td>199</td>\n",
       "      <td>2694.783254</td>\n",
       "      <td>18.511000</td>\n",
       "      <td>2021-08-11</td>\n",
       "      <td>8</td>\n",
       "    </tr>\n",
       "    <tr>\n",
       "      <th>4</th>\n",
       "      <td>1</td>\n",
       "      <td>Кира</td>\n",
       "      <td>22</td>\n",
       "      <td>Тюмень</td>\n",
       "      <td>ultra</td>\n",
       "      <td>6</td>\n",
       "      <td>0</td>\n",
       "      <td>199</td>\n",
       "      <td>4028.687306</td>\n",
       "      <td>26.265803</td>\n",
       "      <td>2021-08-28</td>\n",
       "      <td>8</td>\n",
       "    </tr>\n",
       "  </tbody>\n",
       "</table>\n",
       "</div>"
      ],
      "text/plain": [
       "   user_id  name  age    city subscription_type  minute_price  \\\n",
       "0        1  Кира   22  Тюмень             ultra             6   \n",
       "1        1  Кира   22  Тюмень             ultra             6   \n",
       "2        1  Кира   22  Тюмень             ultra             6   \n",
       "3        1  Кира   22  Тюмень             ultra             6   \n",
       "4        1  Кира   22  Тюмень             ultra             6   \n",
       "\n",
       "   start_ride_price  subscription_fee     distance   duration       date  \\\n",
       "0                 0               199  4409.919140  25.599769 2021-01-01   \n",
       "1                 0               199  2617.592153  15.816871 2021-01-18   \n",
       "2                 0               199   754.159807   6.232113 2021-04-20   \n",
       "3                 0               199  2694.783254  18.511000 2021-08-11   \n",
       "4                 0               199  4028.687306  26.265803 2021-08-28   \n",
       "\n",
       "   month  \n",
       "0      1  \n",
       "1      1  \n",
       "2      4  \n",
       "3      8  \n",
       "4      8  "
      ]
     },
     "execution_count": 24,
     "metadata": {},
     "output_type": "execute_result"
    }
   ],
   "source": [
    "total_data = (\n",
    "    users_raw_data.merge(subscriptions_raw_data,\n",
    "                         on='subscription_type',\n",
    "                         how='outer')\n",
    ").merge(rides_raw_data,\n",
    "        on='user_id',\n",
    "        how='outer')\n",
    "\n",
    "# Проверка\n",
    "total_data.head()"
   ]
  },
  {
   "cell_type": "markdown",
   "id": "42760258",
   "metadata": {},
   "source": [
    "Проверим кол-во строк новой таблице. Оно должно равнятся кол-ву строк в фрейме по поездкам"
   ]
  },
  {
   "cell_type": "code",
   "execution_count": 25,
   "id": "c63dc5d5",
   "metadata": {},
   "outputs": [
    {
     "name": "stdout",
     "output_type": "stream",
     "text": [
      "Объудинение прошло успешно\n"
     ]
    }
   ],
   "source": [
    "if total_data['user_id'].count() == rides_raw_data['user_id'].count():\n",
    "    print('Объудинение прошло успешно')\n",
    "else:\n",
    "    print('Есть ошибка, проверь объединение')"
   ]
  },
  {
   "cell_type": "markdown",
   "id": "3b4b9f43",
   "metadata": {},
   "source": [
    "Выделим две группы (отдельных фрейма) - под пользователей с и без подписки"
   ]
  },
  {
   "cell_type": "code",
   "execution_count": 26,
   "id": "a597c31e",
   "metadata": {},
   "outputs": [
    {
     "data": {
      "text/html": [
       "<div>\n",
       "<style scoped>\n",
       "    .dataframe tbody tr th:only-of-type {\n",
       "        vertical-align: middle;\n",
       "    }\n",
       "\n",
       "    .dataframe tbody tr th {\n",
       "        vertical-align: top;\n",
       "    }\n",
       "\n",
       "    .dataframe thead th {\n",
       "        text-align: right;\n",
       "    }\n",
       "</style>\n",
       "<table border=\"1\" class=\"dataframe\">\n",
       "  <thead>\n",
       "    <tr style=\"text-align: right;\">\n",
       "      <th></th>\n",
       "      <th>user_id</th>\n",
       "      <th>name</th>\n",
       "      <th>age</th>\n",
       "      <th>city</th>\n",
       "      <th>subscription_type</th>\n",
       "      <th>minute_price</th>\n",
       "      <th>start_ride_price</th>\n",
       "      <th>subscription_fee</th>\n",
       "      <th>distance</th>\n",
       "      <th>duration</th>\n",
       "      <th>date</th>\n",
       "      <th>month</th>\n",
       "    </tr>\n",
       "  </thead>\n",
       "  <tbody>\n",
       "    <tr>\n",
       "      <th>0</th>\n",
       "      <td>1</td>\n",
       "      <td>Кира</td>\n",
       "      <td>22</td>\n",
       "      <td>Тюмень</td>\n",
       "      <td>ultra</td>\n",
       "      <td>6</td>\n",
       "      <td>0</td>\n",
       "      <td>199</td>\n",
       "      <td>4409.919140</td>\n",
       "      <td>25.599769</td>\n",
       "      <td>2021-01-01</td>\n",
       "      <td>1</td>\n",
       "    </tr>\n",
       "    <tr>\n",
       "      <th>1</th>\n",
       "      <td>1</td>\n",
       "      <td>Кира</td>\n",
       "      <td>22</td>\n",
       "      <td>Тюмень</td>\n",
       "      <td>ultra</td>\n",
       "      <td>6</td>\n",
       "      <td>0</td>\n",
       "      <td>199</td>\n",
       "      <td>2617.592153</td>\n",
       "      <td>15.816871</td>\n",
       "      <td>2021-01-18</td>\n",
       "      <td>1</td>\n",
       "    </tr>\n",
       "    <tr>\n",
       "      <th>2</th>\n",
       "      <td>1</td>\n",
       "      <td>Кира</td>\n",
       "      <td>22</td>\n",
       "      <td>Тюмень</td>\n",
       "      <td>ultra</td>\n",
       "      <td>6</td>\n",
       "      <td>0</td>\n",
       "      <td>199</td>\n",
       "      <td>754.159807</td>\n",
       "      <td>6.232113</td>\n",
       "      <td>2021-04-20</td>\n",
       "      <td>4</td>\n",
       "    </tr>\n",
       "    <tr>\n",
       "      <th>3</th>\n",
       "      <td>1</td>\n",
       "      <td>Кира</td>\n",
       "      <td>22</td>\n",
       "      <td>Тюмень</td>\n",
       "      <td>ultra</td>\n",
       "      <td>6</td>\n",
       "      <td>0</td>\n",
       "      <td>199</td>\n",
       "      <td>2694.783254</td>\n",
       "      <td>18.511000</td>\n",
       "      <td>2021-08-11</td>\n",
       "      <td>8</td>\n",
       "    </tr>\n",
       "    <tr>\n",
       "      <th>4</th>\n",
       "      <td>1</td>\n",
       "      <td>Кира</td>\n",
       "      <td>22</td>\n",
       "      <td>Тюмень</td>\n",
       "      <td>ultra</td>\n",
       "      <td>6</td>\n",
       "      <td>0</td>\n",
       "      <td>199</td>\n",
       "      <td>4028.687306</td>\n",
       "      <td>26.265803</td>\n",
       "      <td>2021-08-28</td>\n",
       "      <td>8</td>\n",
       "    </tr>\n",
       "  </tbody>\n",
       "</table>\n",
       "</div>"
      ],
      "text/plain": [
       "   user_id  name  age    city subscription_type  minute_price  \\\n",
       "0        1  Кира   22  Тюмень             ultra             6   \n",
       "1        1  Кира   22  Тюмень             ultra             6   \n",
       "2        1  Кира   22  Тюмень             ultra             6   \n",
       "3        1  Кира   22  Тюмень             ultra             6   \n",
       "4        1  Кира   22  Тюмень             ultra             6   \n",
       "\n",
       "   start_ride_price  subscription_fee     distance   duration       date  \\\n",
       "0                 0               199  4409.919140  25.599769 2021-01-01   \n",
       "1                 0               199  2617.592153  15.816871 2021-01-18   \n",
       "2                 0               199   754.159807   6.232113 2021-04-20   \n",
       "3                 0               199  2694.783254  18.511000 2021-08-11   \n",
       "4                 0               199  4028.687306  26.265803 2021-08-28   \n",
       "\n",
       "   month  \n",
       "0      1  \n",
       "1      1  \n",
       "2      4  \n",
       "3      8  \n",
       "4      8  "
      ]
     },
     "execution_count": 26,
     "metadata": {},
     "output_type": "execute_result"
    }
   ],
   "source": [
    "ultra_subs_data = total_data.query('subscription_type == \"ultra\"')\n",
    "# Проверка\n",
    "ultra_subs_data.head()"
   ]
  },
  {
   "cell_type": "code",
   "execution_count": 27,
   "id": "742d2d8a",
   "metadata": {},
   "outputs": [
    {
     "data": {
      "text/html": [
       "<div>\n",
       "<style scoped>\n",
       "    .dataframe tbody tr th:only-of-type {\n",
       "        vertical-align: middle;\n",
       "    }\n",
       "\n",
       "    .dataframe tbody tr th {\n",
       "        vertical-align: top;\n",
       "    }\n",
       "\n",
       "    .dataframe thead th {\n",
       "        text-align: right;\n",
       "    }\n",
       "</style>\n",
       "<table border=\"1\" class=\"dataframe\">\n",
       "  <thead>\n",
       "    <tr style=\"text-align: right;\">\n",
       "      <th></th>\n",
       "      <th>user_id</th>\n",
       "      <th>name</th>\n",
       "      <th>age</th>\n",
       "      <th>city</th>\n",
       "      <th>subscription_type</th>\n",
       "      <th>minute_price</th>\n",
       "      <th>start_ride_price</th>\n",
       "      <th>subscription_fee</th>\n",
       "      <th>distance</th>\n",
       "      <th>duration</th>\n",
       "      <th>date</th>\n",
       "      <th>month</th>\n",
       "    </tr>\n",
       "  </thead>\n",
       "  <tbody>\n",
       "    <tr>\n",
       "      <th>6500</th>\n",
       "      <td>700</td>\n",
       "      <td>Айдар</td>\n",
       "      <td>22</td>\n",
       "      <td>Омск</td>\n",
       "      <td>free</td>\n",
       "      <td>8</td>\n",
       "      <td>50</td>\n",
       "      <td>0</td>\n",
       "      <td>2515.690719</td>\n",
       "      <td>14.944286</td>\n",
       "      <td>2021-01-02</td>\n",
       "      <td>1</td>\n",
       "    </tr>\n",
       "    <tr>\n",
       "      <th>6501</th>\n",
       "      <td>700</td>\n",
       "      <td>Айдар</td>\n",
       "      <td>22</td>\n",
       "      <td>Омск</td>\n",
       "      <td>free</td>\n",
       "      <td>8</td>\n",
       "      <td>50</td>\n",
       "      <td>0</td>\n",
       "      <td>846.932642</td>\n",
       "      <td>16.234663</td>\n",
       "      <td>2021-02-01</td>\n",
       "      <td>2</td>\n",
       "    </tr>\n",
       "    <tr>\n",
       "      <th>6502</th>\n",
       "      <td>700</td>\n",
       "      <td>Айдар</td>\n",
       "      <td>22</td>\n",
       "      <td>Омск</td>\n",
       "      <td>free</td>\n",
       "      <td>8</td>\n",
       "      <td>50</td>\n",
       "      <td>0</td>\n",
       "      <td>4004.434142</td>\n",
       "      <td>20.016628</td>\n",
       "      <td>2021-02-04</td>\n",
       "      <td>2</td>\n",
       "    </tr>\n",
       "    <tr>\n",
       "      <th>6503</th>\n",
       "      <td>700</td>\n",
       "      <td>Айдар</td>\n",
       "      <td>22</td>\n",
       "      <td>Омск</td>\n",
       "      <td>free</td>\n",
       "      <td>8</td>\n",
       "      <td>50</td>\n",
       "      <td>0</td>\n",
       "      <td>1205.911290</td>\n",
       "      <td>9.782872</td>\n",
       "      <td>2021-02-10</td>\n",
       "      <td>2</td>\n",
       "    </tr>\n",
       "    <tr>\n",
       "      <th>6504</th>\n",
       "      <td>700</td>\n",
       "      <td>Айдар</td>\n",
       "      <td>22</td>\n",
       "      <td>Омск</td>\n",
       "      <td>free</td>\n",
       "      <td>8</td>\n",
       "      <td>50</td>\n",
       "      <td>0</td>\n",
       "      <td>3047.379435</td>\n",
       "      <td>17.427673</td>\n",
       "      <td>2021-02-14</td>\n",
       "      <td>2</td>\n",
       "    </tr>\n",
       "  </tbody>\n",
       "</table>\n",
       "</div>"
      ],
      "text/plain": [
       "      user_id   name  age  city subscription_type  minute_price  \\\n",
       "6500      700  Айдар   22  Омск              free             8   \n",
       "6501      700  Айдар   22  Омск              free             8   \n",
       "6502      700  Айдар   22  Омск              free             8   \n",
       "6503      700  Айдар   22  Омск              free             8   \n",
       "6504      700  Айдар   22  Омск              free             8   \n",
       "\n",
       "      start_ride_price  subscription_fee     distance   duration       date  \\\n",
       "6500                50                 0  2515.690719  14.944286 2021-01-02   \n",
       "6501                50                 0   846.932642  16.234663 2021-02-01   \n",
       "6502                50                 0  4004.434142  20.016628 2021-02-04   \n",
       "6503                50                 0  1205.911290   9.782872 2021-02-10   \n",
       "6504                50                 0  3047.379435  17.427673 2021-02-14   \n",
       "\n",
       "      month  \n",
       "6500      1  \n",
       "6501      2  \n",
       "6502      2  \n",
       "6503      2  \n",
       "6504      2  "
      ]
     },
     "execution_count": 27,
     "metadata": {},
     "output_type": "execute_result"
    }
   ],
   "source": [
    "free_subs_data = total_data.query('subscription_type == \"free\"')\n",
    "# Проверка\n",
    "free_subs_data.head()"
   ]
  },
  {
   "cell_type": "markdown",
   "id": "132c34b0",
   "metadata": {},
   "source": [
    "Создадим график распределения дистанции поездки для каждой группы"
   ]
  },
  {
   "cell_type": "code",
   "execution_count": 28,
   "id": "ac977de6",
   "metadata": {
    "scrolled": true
   },
   "outputs": [
    {
     "data": {
      "image/png": "[encoded data removed]",
      "text/plain": [
       "<Figure size 1000x500 with 1 Axes>"
      ]
     },
     "metadata": {},
     "output_type": "display_data"
    }
   ],
   "source": [
    "ultra_subs_data['distance'].plot(\n",
    "    kind='hist',\n",
    "    bins=50,\n",
    "    color=\"red\",\n",
    "    alpha=0.5,\n",
    "    label='Пользователи с подпиской'\n",
    ")\n",
    "\n",
    "free_subs_data['distance'].plot(\n",
    "    kind='hist',\n",
    "    bins=50,\n",
    "    grid=True,\n",
    "    figsize=(10, 5),\n",
    "    color=\"blue\",\n",
    "    alpha=0.5,\n",
    "    title=\"Диаграмма распределения дальности поездки\",\n",
    "    label='Пользователи без подписки'\n",
    ")\n",
    "\n",
    "plt.xlabel('Дальность поездки, м')\n",
    "plt.ylabel('Кол-во поездок')\n",
    "plt.legend(loc=\"upper left\")\n",
    "\n",
    "plt.show()"
   ]
  },
  {
   "cell_type": "markdown",
   "id": "b0118d19",
   "metadata": {},
   "source": [
    "По графику видно, что пользователи без подписки чаще, чем пользователи с подпиской, арендуют самокаты на короткие дистанции (до 1 км). Также стоит отметить визуальную схожесть графиков (одинаковая форма). Еще я заметил, что у обоих графиков есть две вершины (как я и заметил выше, для обще выборки)\n",
    "\n",
    "Проведем аналогичные исследования длительности поездки"
   ]
  },
  {
   "cell_type": "code",
   "execution_count": 29,
   "id": "33e36c1a",
   "metadata": {},
   "outputs": [
    {
     "data": {
      "image/png": "[encoded data removed]",
      "text/plain": [
       "<Figure size 1000x500 with 1 Axes>"
      ]
     },
     "metadata": {},
     "output_type": "display_data"
    }
   ],
   "source": [
    "ultra_subs_data['duration'].plot(\n",
    "    kind='hist',\n",
    "    bins=50,\n",
    "    color=\"red\",\n",
    "    alpha=0.5,\n",
    "    label='Пользователи с подпиской'\n",
    ")\n",
    "\n",
    "free_subs_data['duration'].plot(\n",
    "    kind='hist',\n",
    "    bins=50,\n",
    "    grid=True,\n",
    "    figsize=(10, 5),\n",
    "    color=\"blue\",\n",
    "    alpha=0.5,\n",
    "    title=\"Диаграмма распределения длительности поездки\",\n",
    "    label='Пользователи без подписки'\n",
    ")\n",
    "\n",
    "plt.xlabel('Длительность поездки, мин')\n",
    "plt.ylabel('Кол-во поездок')\n",
    "plt.legend(loc=\"upper left\")\n",
    "\n",
    "plt.show()"
   ]
  },
  {
   "cell_type": "markdown",
   "id": "16700b18",
   "metadata": {},
   "source": [
    "Опять же видна визуальная схожесть обоих графиков. Оба графика напоминают нормальное распределение.<br>\n",
    "По графикам выше видно, что группы имеют одинаковое поведение (графики выглядят одинаково)"
   ]
  },
  {
   "cell_type": "markdown",
   "id": "de320dc5",
   "metadata": {},
   "source": [
    "<b>Я объединил три фрейма в один общий, который в последующем разбил на два - по типу подписки.\n",
    "Я исследовал распределение длительности и длальности пути, по графикам выше видно, что распределения для обеих групп однородные</b>"
   ]
  },
  {
   "cell_type": "markdown",
   "id": "6cb620ab",
   "metadata": {},
   "source": [
    "#### Подсчёт выручки"
   ]
  },
  {
   "cell_type": "markdown",
   "id": "3da47e2d",
   "metadata": {},
   "source": [
    "Округлим столбец duration в фрейме total_data"
   ]
  },
  {
   "cell_type": "code",
   "execution_count": 30,
   "id": "a529d4f2",
   "metadata": {},
   "outputs": [
    {
     "data": {
      "text/plain": [
       "0    26.0\n",
       "1    16.0\n",
       "2     7.0\n",
       "3    19.0\n",
       "4    27.0\n",
       "Name: duration_rounded, dtype: float64"
      ]
     },
     "execution_count": 30,
     "metadata": {},
     "output_type": "execute_result"
    }
   ],
   "source": [
    "total_data['duration_rounded'] = np.ceil(total_data['duration'])\n",
    "# Проверка\n",
    "total_data['duration_rounded'].head()"
   ]
  },
  {
   "cell_type": "markdown",
   "id": "8731aa14",
   "metadata": {},
   "source": [
    "Создадим фрейм на основе объединенного фрейма total_data. Для этого создам воспользуюсь методом groupby()"
   ]
  },
  {
   "cell_type": "code",
   "execution_count": 31,
   "id": "b43fa8cb",
   "metadata": {},
   "outputs": [
    {
     "data": {
      "text/html": [
       "<div>\n",
       "<style scoped>\n",
       "    .dataframe tbody tr th:only-of-type {\n",
       "        vertical-align: middle;\n",
       "    }\n",
       "\n",
       "    .dataframe tbody tr th {\n",
       "        vertical-align: top;\n",
       "    }\n",
       "\n",
       "    .dataframe thead th {\n",
       "        text-align: right;\n",
       "    }\n",
       "</style>\n",
       "<table border=\"1\" class=\"dataframe\">\n",
       "  <thead>\n",
       "    <tr style=\"text-align: right;\">\n",
       "      <th></th>\n",
       "      <th>month</th>\n",
       "      <th>user_id</th>\n",
       "      <th>subscription_type</th>\n",
       "      <th>total_distance</th>\n",
       "      <th>total_duration</th>\n",
       "      <th>total_rides</th>\n",
       "      <th>price_per_minute</th>\n",
       "      <th>price_per_ride</th>\n",
       "      <th>price_per_month</th>\n",
       "    </tr>\n",
       "  </thead>\n",
       "  <tbody>\n",
       "    <tr>\n",
       "      <th>0</th>\n",
       "      <td>1</td>\n",
       "      <td>1</td>\n",
       "      <td>ultra</td>\n",
       "      <td>7027.511294</td>\n",
       "      <td>42.0</td>\n",
       "      <td>2</td>\n",
       "      <td>6</td>\n",
       "      <td>0</td>\n",
       "      <td>199</td>\n",
       "    </tr>\n",
       "    <tr>\n",
       "      <th>1</th>\n",
       "      <td>1</td>\n",
       "      <td>3</td>\n",
       "      <td>ultra</td>\n",
       "      <td>3061.777147</td>\n",
       "      <td>13.0</td>\n",
       "      <td>1</td>\n",
       "      <td>6</td>\n",
       "      <td>0</td>\n",
       "      <td>199</td>\n",
       "    </tr>\n",
       "    <tr>\n",
       "      <th>2</th>\n",
       "      <td>1</td>\n",
       "      <td>5</td>\n",
       "      <td>ultra</td>\n",
       "      <td>3914.646990</td>\n",
       "      <td>13.0</td>\n",
       "      <td>1</td>\n",
       "      <td>6</td>\n",
       "      <td>0</td>\n",
       "      <td>199</td>\n",
       "    </tr>\n",
       "    <tr>\n",
       "      <th>3</th>\n",
       "      <td>1</td>\n",
       "      <td>7</td>\n",
       "      <td>ultra</td>\n",
       "      <td>6478.080979</td>\n",
       "      <td>28.0</td>\n",
       "      <td>2</td>\n",
       "      <td>6</td>\n",
       "      <td>0</td>\n",
       "      <td>199</td>\n",
       "    </tr>\n",
       "    <tr>\n",
       "      <th>4</th>\n",
       "      <td>1</td>\n",
       "      <td>12</td>\n",
       "      <td>ultra</td>\n",
       "      <td>3577.151148</td>\n",
       "      <td>33.0</td>\n",
       "      <td>1</td>\n",
       "      <td>6</td>\n",
       "      <td>0</td>\n",
       "      <td>199</td>\n",
       "    </tr>\n",
       "    <tr>\n",
       "      <th>...</th>\n",
       "      <td>...</td>\n",
       "      <td>...</td>\n",
       "      <td>...</td>\n",
       "      <td>...</td>\n",
       "      <td>...</td>\n",
       "      <td>...</td>\n",
       "      <td>...</td>\n",
       "      <td>...</td>\n",
       "      <td>...</td>\n",
       "    </tr>\n",
       "    <tr>\n",
       "      <th>11326</th>\n",
       "      <td>12</td>\n",
       "      <td>1525</td>\n",
       "      <td>free</td>\n",
       "      <td>4597.854350</td>\n",
       "      <td>34.0</td>\n",
       "      <td>1</td>\n",
       "      <td>8</td>\n",
       "      <td>50</td>\n",
       "      <td>0</td>\n",
       "    </tr>\n",
       "    <tr>\n",
       "      <th>11327</th>\n",
       "      <td>12</td>\n",
       "      <td>1526</td>\n",
       "      <td>free</td>\n",
       "      <td>3644.121544</td>\n",
       "      <td>23.0</td>\n",
       "      <td>1</td>\n",
       "      <td>8</td>\n",
       "      <td>50</td>\n",
       "      <td>0</td>\n",
       "    </tr>\n",
       "    <tr>\n",
       "      <th>11328</th>\n",
       "      <td>12</td>\n",
       "      <td>1528</td>\n",
       "      <td>free</td>\n",
       "      <td>3998.569324</td>\n",
       "      <td>11.0</td>\n",
       "      <td>1</td>\n",
       "      <td>8</td>\n",
       "      <td>50</td>\n",
       "      <td>0</td>\n",
       "    </tr>\n",
       "    <tr>\n",
       "      <th>11329</th>\n",
       "      <td>12</td>\n",
       "      <td>1532</td>\n",
       "      <td>free</td>\n",
       "      <td>6111.889853</td>\n",
       "      <td>42.0</td>\n",
       "      <td>2</td>\n",
       "      <td>8</td>\n",
       "      <td>50</td>\n",
       "      <td>0</td>\n",
       "    </tr>\n",
       "    <tr>\n",
       "      <th>11330</th>\n",
       "      <td>12</td>\n",
       "      <td>1534</td>\n",
       "      <td>free</td>\n",
       "      <td>2371.711192</td>\n",
       "      <td>16.0</td>\n",
       "      <td>1</td>\n",
       "      <td>8</td>\n",
       "      <td>50</td>\n",
       "      <td>0</td>\n",
       "    </tr>\n",
       "  </tbody>\n",
       "</table>\n",
       "<p>11331 rows × 9 columns</p>\n",
       "</div>"
      ],
      "text/plain": [
       "       month  user_id subscription_type  total_distance  total_duration  \\\n",
       "0          1        1             ultra     7027.511294            42.0   \n",
       "1          1        3             ultra     3061.777147            13.0   \n",
       "2          1        5             ultra     3914.646990            13.0   \n",
       "3          1        7             ultra     6478.080979            28.0   \n",
       "4          1       12             ultra     3577.151148            33.0   \n",
       "...      ...      ...               ...             ...             ...   \n",
       "11326     12     1525              free     4597.854350            34.0   \n",
       "11327     12     1526              free     3644.121544            23.0   \n",
       "11328     12     1528              free     3998.569324            11.0   \n",
       "11329     12     1532              free     6111.889853            42.0   \n",
       "11330     12     1534              free     2371.711192            16.0   \n",
       "\n",
       "       total_rides  price_per_minute  price_per_ride  price_per_month  \n",
       "0                2                 6               0              199  \n",
       "1                1                 6               0              199  \n",
       "2                1                 6               0              199  \n",
       "3                2                 6               0              199  \n",
       "4                1                 6               0              199  \n",
       "...            ...               ...             ...              ...  \n",
       "11326            1                 8              50                0  \n",
       "11327            1                 8              50                0  \n",
       "11328            1                 8              50                0  \n",
       "11329            2                 8              50                0  \n",
       "11330            1                 8              50                0  \n",
       "\n",
       "[11331 rows x 9 columns]"
      ]
     },
     "execution_count": 31,
     "metadata": {},
     "output_type": "execute_result"
    }
   ],
   "source": [
    "pivot_table = (total_data.groupby(['month', 'user_id', 'subscription_type'])\n",
    "                        .aggregate({\n",
    "                                    'distance':'sum',\n",
    "                                    'duration_rounded':'sum',\n",
    "                                    'user_id': 'count',\n",
    "                                    'minute_price': 'max',\n",
    "                                    'start_ride_price':'max',\n",
    "                                    'subscription_fee':'max',\n",
    "                                 }))\n",
    "pivot_table.columns = ['total_distance', 'total_duration', 'total_rides', 'price_per_minute', 'price_per_ride', 'price_per_month']\n",
    "pivot_table = pivot_table.reset_index()\n",
    "# Проверка\n",
    "pivot_table"
   ]
  },
  {
   "cell_type": "markdown",
   "id": "2e712b99",
   "metadata": {},
   "source": [
    "Теперь посчитаем итоговую цену за месяц по формуле:<br>\n",
    "<i>total_rides * price_per_ride + total_duration * price_per_minute + price_per_month</i>"
   ]
  },
  {
   "cell_type": "code",
   "execution_count": 32,
   "id": "14348a4c",
   "metadata": {},
   "outputs": [
    {
     "data": {
      "text/html": [
       "<div>\n",
       "<style scoped>\n",
       "    .dataframe tbody tr th:only-of-type {\n",
       "        vertical-align: middle;\n",
       "    }\n",
       "\n",
       "    .dataframe tbody tr th {\n",
       "        vertical-align: top;\n",
       "    }\n",
       "\n",
       "    .dataframe thead th {\n",
       "        text-align: right;\n",
       "    }\n",
       "</style>\n",
       "<table border=\"1\" class=\"dataframe\">\n",
       "  <thead>\n",
       "    <tr style=\"text-align: right;\">\n",
       "      <th></th>\n",
       "      <th>month</th>\n",
       "      <th>user_id</th>\n",
       "      <th>total_price</th>\n",
       "    </tr>\n",
       "  </thead>\n",
       "  <tbody>\n",
       "    <tr>\n",
       "      <th>0</th>\n",
       "      <td>1</td>\n",
       "      <td>1</td>\n",
       "      <td>451.0</td>\n",
       "    </tr>\n",
       "    <tr>\n",
       "      <th>1</th>\n",
       "      <td>1</td>\n",
       "      <td>3</td>\n",
       "      <td>277.0</td>\n",
       "    </tr>\n",
       "    <tr>\n",
       "      <th>2</th>\n",
       "      <td>1</td>\n",
       "      <td>5</td>\n",
       "      <td>277.0</td>\n",
       "    </tr>\n",
       "    <tr>\n",
       "      <th>3</th>\n",
       "      <td>1</td>\n",
       "      <td>7</td>\n",
       "      <td>367.0</td>\n",
       "    </tr>\n",
       "    <tr>\n",
       "      <th>4</th>\n",
       "      <td>1</td>\n",
       "      <td>12</td>\n",
       "      <td>397.0</td>\n",
       "    </tr>\n",
       "    <tr>\n",
       "      <th>...</th>\n",
       "      <td>...</td>\n",
       "      <td>...</td>\n",
       "      <td>...</td>\n",
       "    </tr>\n",
       "    <tr>\n",
       "      <th>11326</th>\n",
       "      <td>12</td>\n",
       "      <td>1525</td>\n",
       "      <td>322.0</td>\n",
       "    </tr>\n",
       "    <tr>\n",
       "      <th>11327</th>\n",
       "      <td>12</td>\n",
       "      <td>1526</td>\n",
       "      <td>234.0</td>\n",
       "    </tr>\n",
       "    <tr>\n",
       "      <th>11328</th>\n",
       "      <td>12</td>\n",
       "      <td>1528</td>\n",
       "      <td>138.0</td>\n",
       "    </tr>\n",
       "    <tr>\n",
       "      <th>11329</th>\n",
       "      <td>12</td>\n",
       "      <td>1532</td>\n",
       "      <td>436.0</td>\n",
       "    </tr>\n",
       "    <tr>\n",
       "      <th>11330</th>\n",
       "      <td>12</td>\n",
       "      <td>1534</td>\n",
       "      <td>178.0</td>\n",
       "    </tr>\n",
       "  </tbody>\n",
       "</table>\n",
       "<p>11331 rows × 3 columns</p>\n",
       "</div>"
      ],
      "text/plain": [
       "       month  user_id  total_price\n",
       "0          1        1        451.0\n",
       "1          1        3        277.0\n",
       "2          1        5        277.0\n",
       "3          1        7        367.0\n",
       "4          1       12        397.0\n",
       "...      ...      ...          ...\n",
       "11326     12     1525        322.0\n",
       "11327     12     1526        234.0\n",
       "11328     12     1528        138.0\n",
       "11329     12     1532        436.0\n",
       "11330     12     1534        178.0\n",
       "\n",
       "[11331 rows x 3 columns]"
      ]
     },
     "execution_count": 32,
     "metadata": {},
     "output_type": "execute_result"
    }
   ],
   "source": [
    "pivot_table['total_price'] =(\n",
    "    pivot_table['total_rides'] * pivot_table['price_per_ride'] +        # цена за старт поездки\n",
    "    pivot_table['total_duration'] * pivot_table['price_per_minute'] +   # цена за длительность поездки\n",
    "    pivot_table['price_per_month']                                      # цена за подписку\n",
    ")\n",
    "# Вывод результата/проверка\n",
    "pivot_table[['month', 'user_id', 'total_price']]"
   ]
  },
  {
   "cell_type": "markdown",
   "id": "bd7408aa",
   "metadata": {},
   "source": [
    "Таким образом мы получили прибыль с каждого пользователя помесячно."
   ]
  },
  {
   "cell_type": "markdown",
   "id": "e2cad341",
   "metadata": {},
   "source": [
    "#### Проверка гипотез\n",
    "\n",
    "Для всех исследований гипотез мы будем использовать уровень значимости 5% "
   ]
  },
  {
   "cell_type": "code",
   "execution_count": 33,
   "id": "1b706cb2",
   "metadata": {},
   "outputs": [],
   "source": [
    "alpha = .05"
   ]
  },
  {
   "cell_type": "markdown",
   "id": "5cb934f8",
   "metadata": {},
   "source": [
    "Также для оптимизации кода создадим функцию, которая будет делать вывод результата"
   ]
  },
  {
   "cell_type": "code",
   "execution_count": 34,
   "id": "8ca5194b",
   "metadata": {},
   "outputs": [],
   "source": [
    "def hypothesis_res(pvalue):\n",
    "    print('p-значение:', pvalue)\n",
    "\n",
    "    if pvalue < alpha:\n",
    "        print('Нулевая гипотеза не подтвердилась, выбираем альтернативную гипотезу')\n",
    "    else:\n",
    "        print('Не получилось отвергнуть нулевую гипотезу') "
   ]
  },
  {
   "cell_type": "markdown",
   "id": "b6feeeff",
   "metadata": {},
   "source": [
    "<b>1. Нулевая гипотеза:</b> <i>Средняя длительность поездок пользователей с подпиской равна средней длительности поездко пользователей без подписки</i><br>\n",
    "<b>Альтернативная гипотеза:</b> <i>Средняя длительность поездок пользователей с подпиской больше средней длительности поездко пользователей без подписки</i><br>\n",
    "\n",
    "Для этого воспользуемся т-тестом для односторонней гипотезы.<br><br>\n",
    "Будем использовать выборки, которые мы получили на шаге 4 (ultra_subs_data и free_subs_data). Я предполагаю, что дисперсии у них равны (можно увидеть на графике)."
   ]
  },
  {
   "cell_type": "code",
   "execution_count": 35,
   "id": "7e7a47c1",
   "metadata": {},
   "outputs": [
    {
     "name": "stdout",
     "output_type": "stream",
     "text": [
      "p-значение: 3.4062883651171046e-23\n",
      "Нулевая гипотеза не подтвердилась, выбираем альтернативную гипотезу\n"
     ]
    }
   ],
   "source": [
    "hypothesis_res(\n",
    "    st.ttest_ind(ultra_subs_data['duration'], \n",
    "                 free_subs_data['duration'],\n",
    "                 alternative='greater')\n",
    "      .pvalue\n",
    ") "
   ]
  },
  {
   "cell_type": "markdown",
   "id": "b2e86d45",
   "metadata": {},
   "source": [
    "Таким образом, делаем выбор в пользу <b>альтернативной гипотезы - Средняя длительность поездок пользователей с подпиской больше средней длительности поездко пользователей без подписки"
   ]
  },
  {
   "cell_type": "markdown",
   "id": "9b955241",
   "metadata": {},
   "source": [
    "<b>2. Нулевая гипотеза:</b> <i>Пользователи с подпиской за одну сессию проезжают 3130 метров</i><br>\n",
    "<b>Альтернативная гипотеза:</b> <i>пользователи с подпиской за одну сессию проезжают более 3130 метров</i><br>\n",
    "\n",
    "Для этого воспользуемся т-тестом для односторонней гипотезы.<br><br>\n",
    "Будем использовать выборку пользователей с подпиской"
   ]
  },
  {
   "cell_type": "code",
   "execution_count": 36,
   "id": "0e8528c4",
   "metadata": {},
   "outputs": [
    {
     "name": "stdout",
     "output_type": "stream",
     "text": [
      "p-значение: 0.9195368847849785\n",
      "Не получилось отвергнуть нулевую гипотезу\n"
     ]
    }
   ],
   "source": [
    "route_length = 3130\n",
    "hypothesis_res(\n",
    "    st.ttest_1samp(ultra_subs_data['distance'], \n",
    "                   route_length,\n",
    "                   alternative='greater')\n",
    "      .pvalue\n",
    ") "
   ]
  },
  {
   "cell_type": "markdown",
   "id": "483b7de3",
   "metadata": {},
   "source": [
    "Таким образом, делаем выбор в пользу <b>оригинальной гипотезы - Пользователи с подпиской за одну сессию проезжают 3130 метров или менее</b>"
   ]
  },
  {
   "cell_type": "markdown",
   "id": "23956a00",
   "metadata": {},
   "source": [
    "<b>3. Нулевая гипотеза:</b> <i>Выручка от пользователей с подпиской равна выручке пользователей без подписки</i><br>\n",
    "<b>Альтернативная гипотеза:</b> <i>Выручка от пользователей с подпиской выше выручки пользователей без подписки</i><br>\n",
    "\n",
    "Для этого воспользуемся т-тестом для односторонней гипотезы.<br><br>\n",
    "Будем брать сводные данные, собранные на шаге 5"
   ]
  },
  {
   "cell_type": "code",
   "execution_count": 37,
   "id": "ab602138",
   "metadata": {},
   "outputs": [
    {
     "name": "stdout",
     "output_type": "stream",
     "text": [
      "p-значение: 5.937346250845203e-26\n",
      "Нулевая гипотеза не подтвердилась, выбираем альтернативную гипотезу\n"
     ]
    }
   ],
   "source": [
    "hypothesis_res(\n",
    "    st.ttest_ind(pivot_table.query('subscription_type == \"ultra\"')['total_price'], \n",
    "                 pivot_table.query('subscription_type == \"free\"')['total_price'],\n",
    "                 alternative='greater')\n",
    "      .pvalue\n",
    ")"
   ]
  },
  {
   "cell_type": "markdown",
   "id": "4c12758c",
   "metadata": {},
   "source": [
    "Таким образом, делаем выбор в пользу <b>альтернативной гипотезы - Пользователи с подпиской приносят больше выручки</b>"
   ]
  },
  {
   "cell_type": "markdown",
   "id": "717e70cf",
   "metadata": {},
   "source": [
    "#### Распределения"
   ]
  },
  {
   "cell_type": "markdown",
   "id": "9d3ecebe",
   "metadata": {},
   "source": [
    "Для перовй задачи мы будем использовать аппроксимацию биномиального распределения нормальным распределением и метод CDF.<br>\n",
    "Создадим цикл, который будет увеличивать число получателей промокодов, пока план была примерно 5 %"
   ]
  },
  {
   "cell_type": "code",
   "execution_count": 38,
   "id": "03404a37",
   "metadata": {},
   "outputs": [
    {
     "data": {
      "image/png": "[encoded data removed]",
      "text/plain": [
       "<Figure size 640x480 with 1 Axes>"
      ]
     },
     "metadata": {},
     "output_type": "display_data"
    },
    {
     "name": "stdout",
     "output_type": "stream",
     "text": [
      "Ответ: Нужно раздать минимально 1169 промокодов, чтобы 100 человек продлили акцию (Верятность не выполнить план: 4.97%)\n"
     ]
    }
   ],
   "source": [
    "p = 0.1                 # Вероятность приобрести подписку\n",
    "plan = 100              # Плановое кол-во продливателей подписки\n",
    "threshold = .05         # Шанс не выполнить план\n",
    "n = 0                   # Начальное число получателей\n",
    "current_prob = 1        # Текущая вероятность не выпонить план\n",
    "\n",
    "while current_prob > threshold:\n",
    "    n += 1\n",
    "    mu = n * p\n",
    "    sigma = sqrt(n * p * (1 - p))\n",
    "    distr = st.norm(mu, sigma)\n",
    "    current_prob = distr.cdf(plan)\n",
    "    \n",
    "left = int(n * p - 4 * sqrt(n * p * (1 - p)))\n",
    "right = int(n * p + 4 * sqrt(n * p * (1 - p)))\n",
    "\n",
    "x = list(range(max(0, left), right))\n",
    "\n",
    "ax = plt.plot(x,\n",
    "              st.binom.pmf(x, n, p),\n",
    "              'bo')\n",
    "\n",
    "\n",
    "\n",
    "plt.xlabel('Кол-во продливших подписку')\n",
    "plt.ylabel('Вероятность успеха')\n",
    "\n",
    "plt.show()   \n",
    "print(f'Ответ: Нужно раздать минимально {n} промокодов, чтобы 100 человек продлили акцию (Верятность не выполнить план: {current_prob:.2%})')"
   ]
  },
  {
   "cell_type": "markdown",
   "id": "217a497b",
   "metadata": {},
   "source": [
    "Для второй задачи также воспользуемся апроксимацией и методом CDF."
   ]
  },
  {
   "cell_type": "code",
   "execution_count": 39,
   "id": "d7d8071a",
   "metadata": {
    "scrolled": true
   },
   "outputs": [
    {
     "data": {
      "image/png": "[encoded data removed]",
      "text/plain": [
       "<Figure size 640x480 with 1 Axes>"
      ]
     },
     "metadata": {},
     "output_type": "display_data"
    },
    {
     "name": "stdout",
     "output_type": "stream",
     "text": [
      "Ответ: Вероятность, что сообщение откроет не более 399500.0 человек состовляет 15.37%\n"
     ]
    }
   ],
   "source": [
    "n = 10**6                  # Общее число получателей\n",
    "p = .4                     # Вероятность успеха (пользователь откроет сообщение)\n",
    "threshold = 399.5 * 10**3  # Максимальное число открывших\n",
    "\n",
    "mu = n * p\n",
    "sigma = sqrt(n * p * (1 - p))\n",
    "distr = st.norm(mu, sigma)\n",
    "threshold_prob = distr.cdf(threshold)\n",
    "\n",
    "left = int(n * p - 4 * sqrt(n * p * (1 - p)))\n",
    "right = int(n * p + 4 * sqrt(n * p * (1 - p)))\n",
    "\n",
    "x = list(range(max(0, left), right, 50))\n",
    "\n",
    "ax = plt.plot(x,\n",
    "              st.binom.pmf(x, n, p),\n",
    "              'bo',\n",
    "              ms=1)\n",
    "\n",
    "\n",
    "\n",
    "plt.xlabel('Кол-во открывших сообщение')\n",
    "plt.ylabel('Вероятность успеха')\n",
    "\n",
    "plt.show()   \n",
    "print(f'Ответ: Вероятность, что сообщение откроет не более {threshold} человек состовляет {threshold_prob:.2%}')"
   ]
  },
  {
   "cell_type": "markdown",
   "id": "584722da",
   "metadata": {},
   "source": [
    "**Итоговый вывод по работе:**\n",
    "\n",
    "В данной работе были проанализированы данные по пользователям, их поездкам и типам подписок<br>\n",
    "Была проведена предобработка данных (убраны дубликаты, изменены типы столбцов дат, добавлены новые столбцы месяца поездки)<br>\n",
    "Был проведен исследовательский анализ данных. Вот его результаты:<br>\n",
    "- Больше всего пользователей находится в городе Пятигорск, меньше всего - в Москве. Однако стоит отметить, что доля городов в общей выборке относительно одинаковая\n",
    "- Пользователей без подписки больше половины всего числа пользователей\n",
    "- Средний возраст пользователей: 25 лет\n",
    "- Существет два основных варианта поездок: короткие - до близжайшей необходиой точки - и долгие - прогулочные/экскурсионные\n",
    "- Средняя дальность поездки - около 3 км\n",
    "- Средняя длительность поездки - 18 мин\n",
    "\n",
    "Для дальнейшего статистического анализа три исходных фрейма были объединены в один и разбиты на два - по типу подписки.<br>\n",
    "На основании двух групп были сделаны следующие выводы:\n",
    "- Обе группы разделяют схожее поведение\n",
    "- Пользователи с подпиской приносят компании больше выручки. Связано это отчасти с тем, что средняя продолжительность поездки пользователей с подпиской больше средней продолжительности поездки пользователей без подписки\n",
    "- В среднем пользователи с подпиской проезжают не более 3130 метров\n",
    "\n",
    "Был проведен статистический анализ для отдела маркетинга.<br>\n",
    "Было выявлено оптимальное кол-во получателей промоакции - необходимо разослать 1169 акций, чтобы привлечб как минимум 100 человек (вероятность провала составляет 5%)<br>\n",
    "Также если будет запущено 1 млн push-уведомлений, то с вероятностью 15,37% их откроет не более 399,5 тыс человек\n",
    "\n",
    "Рекомендации по сбору информации:\n",
    "- Проверить уникальных пользователей (в выборке присутствовало 36 дублирующихся пользователя)\n",
    "- Проверить корректность вычисления времени поездки (были найдены записи с большой дистанцией и временем поездки 0.5 минут)"
   ]
  }
 ],
 "metadata": {
  "ExecuteTimeLog": [
   {
    "duration": 44,
    "start_time": "2023-12-19T16:16:40.858Z"
   },
   {
    "duration": 394,
    "start_time": "2023-12-19T16:16:45.832Z"
   },
   {
    "duration": 74,
    "start_time": "2023-12-19T16:16:46.885Z"
   },
   {
    "duration": 14,
    "start_time": "2023-12-19T16:17:15.232Z"
   },
   {
    "duration": 82,
    "start_time": "2023-12-19T16:19:20.989Z"
   },
   {
    "duration": 65,
    "start_time": "2023-12-19T16:20:04.775Z"
   },
   {
    "duration": 437,
    "start_time": "2023-12-19T18:21:44.538Z"
   },
   {
    "duration": 74,
    "start_time": "2023-12-19T18:21:44.977Z"
   },
   {
    "duration": 16,
    "start_time": "2023-12-19T18:21:45.053Z"
   },
   {
    "duration": 104,
    "start_time": "2023-12-19T18:21:45.070Z"
   },
   {
    "duration": 55,
    "start_time": "2023-12-19T18:21:45.176Z"
   },
   {
    "duration": 65,
    "start_time": "2023-12-19T18:21:46.828Z"
   },
   {
    "duration": 11,
    "start_time": "2023-12-19T18:22:09.391Z"
   },
   {
    "duration": 68,
    "start_time": "2023-12-19T18:22:26.544Z"
   },
   {
    "duration": 8,
    "start_time": "2023-12-19T18:22:31.343Z"
   },
   {
    "duration": 5,
    "start_time": "2023-12-19T18:23:57.313Z"
   },
   {
    "duration": 96,
    "start_time": "2023-12-19T18:30:42.450Z"
   },
   {
    "duration": 5,
    "start_time": "2023-12-19T18:32:04.529Z"
   },
   {
    "duration": 7,
    "start_time": "2023-12-19T18:32:35.910Z"
   },
   {
    "duration": 6,
    "start_time": "2023-12-19T18:34:38.524Z"
   },
   {
    "duration": 6,
    "start_time": "2023-12-19T18:35:50.691Z"
   },
   {
    "duration": 5,
    "start_time": "2023-12-19T18:37:30.380Z"
   },
   {
    "duration": 6,
    "start_time": "2023-12-19T18:37:58.355Z"
   },
   {
    "duration": 87,
    "start_time": "2023-12-19T18:38:19.921Z"
   },
   {
    "duration": 13,
    "start_time": "2023-12-19T18:38:39.834Z"
   },
   {
    "duration": 6,
    "start_time": "2023-12-19T18:39:04.151Z"
   },
   {
    "duration": 8,
    "start_time": "2023-12-19T18:39:35.334Z"
   },
   {
    "duration": 10,
    "start_time": "2023-12-19T18:43:47.518Z"
   },
   {
    "duration": 345,
    "start_time": "2023-12-19T18:44:34.384Z"
   },
   {
    "duration": 8,
    "start_time": "2023-12-19T18:44:49.646Z"
   },
   {
    "duration": 6,
    "start_time": "2023-12-19T18:45:43.883Z"
   },
   {
    "duration": 7,
    "start_time": "2023-12-19T18:46:47.757Z"
   },
   {
    "duration": 8,
    "start_time": "2023-12-19T18:55:36.625Z"
   },
   {
    "duration": 80,
    "start_time": "2023-12-19T18:57:19.952Z"
   },
   {
    "duration": 7,
    "start_time": "2023-12-19T18:58:00.188Z"
   },
   {
    "duration": 7,
    "start_time": "2023-12-19T18:59:47.153Z"
   },
   {
    "duration": 9,
    "start_time": "2023-12-19T18:59:52.540Z"
   },
   {
    "duration": 4,
    "start_time": "2023-12-19T19:03:20.086Z"
   },
   {
    "duration": 73,
    "start_time": "2023-12-19T19:07:48.074Z"
   },
   {
    "duration": 66,
    "start_time": "2023-12-19T19:07:57.268Z"
   },
   {
    "duration": 62,
    "start_time": "2023-12-19T19:15:23.322Z"
   },
   {
    "duration": 79,
    "start_time": "2023-12-19T19:17:01.848Z"
   },
   {
    "duration": 4,
    "start_time": "2023-12-19T19:17:38.695Z"
   },
   {
    "duration": 4,
    "start_time": "2023-12-19T19:17:41.231Z"
   },
   {
    "duration": 5,
    "start_time": "2023-12-19T19:18:07.615Z"
   },
   {
    "duration": 5,
    "start_time": "2023-12-19T19:18:41.832Z"
   },
   {
    "duration": 20,
    "start_time": "2023-12-19T19:19:35.709Z"
   },
   {
    "duration": 5,
    "start_time": "2023-12-19T19:20:07.364Z"
   },
   {
    "duration": 5,
    "start_time": "2023-12-19T19:20:08.412Z"
   },
   {
    "duration": 12,
    "start_time": "2023-12-19T19:20:09.894Z"
   },
   {
    "duration": 437,
    "start_time": "2023-12-20T11:58:28.487Z"
   },
   {
    "duration": 86,
    "start_time": "2023-12-20T11:58:28.925Z"
   },
   {
    "duration": 14,
    "start_time": "2023-12-20T11:58:29.012Z"
   },
   {
    "duration": 170,
    "start_time": "2023-12-20T11:58:29.028Z"
   },
   {
    "duration": 61,
    "start_time": "2023-12-20T11:58:29.201Z"
   },
   {
    "duration": 8,
    "start_time": "2023-12-20T11:58:29.263Z"
   },
   {
    "duration": 6,
    "start_time": "2023-12-20T11:58:29.272Z"
   },
   {
    "duration": 7,
    "start_time": "2023-12-20T11:58:29.279Z"
   },
   {
    "duration": 14,
    "start_time": "2023-12-20T11:58:29.287Z"
   },
   {
    "duration": 6,
    "start_time": "2023-12-20T11:58:29.302Z"
   },
   {
    "duration": 15,
    "start_time": "2023-12-20T11:58:29.310Z"
   },
   {
    "duration": 5,
    "start_time": "2023-12-20T11:58:29.326Z"
   },
   {
    "duration": 18,
    "start_time": "2023-12-20T11:58:29.333Z"
   },
   {
    "duration": 8,
    "start_time": "2023-12-20T11:58:29.353Z"
   },
   {
    "duration": 11,
    "start_time": "2023-12-20T11:58:29.362Z"
   },
   {
    "duration": 14,
    "start_time": "2023-12-20T11:58:29.375Z"
   },
   {
    "duration": 34,
    "start_time": "2023-12-20T11:58:29.391Z"
   },
   {
    "duration": 6,
    "start_time": "2023-12-20T12:01:38.021Z"
   },
   {
    "duration": 5,
    "start_time": "2023-12-20T12:01:47.417Z"
   },
   {
    "duration": 565,
    "start_time": "2023-12-20T12:02:48.801Z"
   },
   {
    "duration": 150,
    "start_time": "2023-12-20T12:03:44.926Z"
   },
   {
    "duration": 197,
    "start_time": "2023-12-20T12:07:54.065Z"
   },
   {
    "duration": 2,
    "start_time": "2023-12-20T12:08:15.889Z"
   },
   {
    "duration": 142,
    "start_time": "2023-12-20T12:08:20.046Z"
   },
   {
    "duration": 207,
    "start_time": "2023-12-20T12:08:41.758Z"
   },
   {
    "duration": 161,
    "start_time": "2023-12-20T12:09:21.205Z"
   },
   {
    "duration": 179,
    "start_time": "2023-12-20T12:10:02.290Z"
   },
   {
    "duration": 154,
    "start_time": "2023-12-20T12:10:08.106Z"
   },
   {
    "duration": 128,
    "start_time": "2023-12-20T12:14:16.820Z"
   },
   {
    "duration": 118,
    "start_time": "2023-12-20T12:14:21.653Z"
   },
   {
    "duration": 108,
    "start_time": "2023-12-20T12:14:35.550Z"
   },
   {
    "duration": 116,
    "start_time": "2023-12-20T12:14:42.831Z"
   },
   {
    "duration": 111,
    "start_time": "2023-12-20T12:15:07.523Z"
   },
   {
    "duration": 8,
    "start_time": "2023-12-20T12:20:06.351Z"
   },
   {
    "duration": 82,
    "start_time": "2023-12-20T12:20:49.503Z"
   },
   {
    "duration": 190,
    "start_time": "2023-12-20T12:25:31.657Z"
   },
   {
    "duration": 273,
    "start_time": "2023-12-20T12:27:37.204Z"
   },
   {
    "duration": 51,
    "start_time": "2023-12-20T12:31:04.574Z"
   },
   {
    "duration": 5,
    "start_time": "2023-12-20T12:33:24.013Z"
   },
   {
    "duration": 6,
    "start_time": "2023-12-20T12:33:36.366Z"
   },
   {
    "duration": 57,
    "start_time": "2023-12-20T12:34:55.655Z"
   },
   {
    "duration": 4,
    "start_time": "2023-12-20T12:46:03.364Z"
   },
   {
    "duration": 122,
    "start_time": "2023-12-20T12:46:11.388Z"
   },
   {
    "duration": 200,
    "start_time": "2023-12-20T12:47:34.546Z"
   },
   {
    "duration": 211,
    "start_time": "2023-12-20T12:47:42.925Z"
   },
   {
    "duration": 238,
    "start_time": "2023-12-20T12:56:48.542Z"
   },
   {
    "duration": 266,
    "start_time": "2023-12-20T12:57:06.412Z"
   },
   {
    "duration": 220,
    "start_time": "2023-12-20T13:02:11.518Z"
   },
   {
    "duration": 209,
    "start_time": "2023-12-20T13:02:55.936Z"
   },
   {
    "duration": 17,
    "start_time": "2023-12-20T13:04:57.943Z"
   },
   {
    "duration": 14,
    "start_time": "2023-12-20T13:05:16.746Z"
   },
   {
    "duration": 8,
    "start_time": "2023-12-20T13:12:20.902Z"
   },
   {
    "duration": 9,
    "start_time": "2023-12-20T13:13:47.531Z"
   },
   {
    "duration": 9,
    "start_time": "2023-12-20T13:13:57.679Z"
   },
   {
    "duration": 17,
    "start_time": "2023-12-20T13:14:20.140Z"
   },
   {
    "duration": 14,
    "start_time": "2023-12-20T13:15:26.412Z"
   },
   {
    "duration": 206,
    "start_time": "2023-12-20T13:15:35.274Z"
   },
   {
    "duration": 1099,
    "start_time": "2023-12-20T13:16:00.920Z"
   },
   {
    "duration": 826,
    "start_time": "2023-12-20T13:17:28.677Z"
   },
   {
    "duration": 6,
    "start_time": "2023-12-20T13:17:38.223Z"
   },
   {
    "duration": 25,
    "start_time": "2023-12-20T13:34:25.323Z"
   },
   {
    "duration": 58,
    "start_time": "2023-12-20T13:34:55.620Z"
   },
   {
    "duration": 12,
    "start_time": "2023-12-20T13:35:02.086Z"
   },
   {
    "duration": 3,
    "start_time": "2023-12-20T13:36:15.233Z"
   },
   {
    "duration": 31,
    "start_time": "2023-12-20T13:36:15.238Z"
   },
   {
    "duration": 8,
    "start_time": "2023-12-20T13:36:15.271Z"
   },
   {
    "duration": 37,
    "start_time": "2023-12-20T13:36:15.280Z"
   },
   {
    "duration": 122,
    "start_time": "2023-12-20T13:36:15.320Z"
   },
   {
    "duration": 0,
    "start_time": "2023-12-20T13:36:15.444Z"
   },
   {
    "duration": 0,
    "start_time": "2023-12-20T13:36:15.446Z"
   },
   {
    "duration": 0,
    "start_time": "2023-12-20T13:36:15.447Z"
   },
   {
    "duration": 0,
    "start_time": "2023-12-20T13:36:15.449Z"
   },
   {
    "duration": 1,
    "start_time": "2023-12-20T13:36:15.450Z"
   },
   {
    "duration": 0,
    "start_time": "2023-12-20T13:36:15.452Z"
   },
   {
    "duration": 0,
    "start_time": "2023-12-20T13:36:15.453Z"
   },
   {
    "duration": 0,
    "start_time": "2023-12-20T13:36:15.455Z"
   },
   {
    "duration": 0,
    "start_time": "2023-12-20T13:36:15.456Z"
   },
   {
    "duration": 0,
    "start_time": "2023-12-20T13:36:15.458Z"
   },
   {
    "duration": 0,
    "start_time": "2023-12-20T13:36:15.459Z"
   },
   {
    "duration": 0,
    "start_time": "2023-12-20T13:36:15.460Z"
   },
   {
    "duration": 0,
    "start_time": "2023-12-20T13:36:15.462Z"
   },
   {
    "duration": 0,
    "start_time": "2023-12-20T13:36:15.463Z"
   },
   {
    "duration": 0,
    "start_time": "2023-12-20T13:36:15.464Z"
   },
   {
    "duration": 0,
    "start_time": "2023-12-20T13:36:15.466Z"
   },
   {
    "duration": 0,
    "start_time": "2023-12-20T13:36:15.467Z"
   },
   {
    "duration": 0,
    "start_time": "2023-12-20T13:36:15.469Z"
   },
   {
    "duration": 0,
    "start_time": "2023-12-20T13:36:15.470Z"
   },
   {
    "duration": 0,
    "start_time": "2023-12-20T13:36:15.471Z"
   },
   {
    "duration": 0,
    "start_time": "2023-12-20T13:36:15.472Z"
   },
   {
    "duration": 0,
    "start_time": "2023-12-20T13:36:15.517Z"
   },
   {
    "duration": 0,
    "start_time": "2023-12-20T13:36:15.518Z"
   },
   {
    "duration": 0,
    "start_time": "2023-12-20T13:36:15.524Z"
   },
   {
    "duration": 0,
    "start_time": "2023-12-20T13:36:15.525Z"
   },
   {
    "duration": 3,
    "start_time": "2023-12-20T13:36:27.075Z"
   },
   {
    "duration": 31,
    "start_time": "2023-12-20T13:36:27.080Z"
   },
   {
    "duration": 12,
    "start_time": "2023-12-20T13:36:27.112Z"
   },
   {
    "duration": 34,
    "start_time": "2023-12-20T13:36:27.128Z"
   },
   {
    "duration": 20,
    "start_time": "2023-12-20T13:36:27.165Z"
   },
   {
    "duration": 0,
    "start_time": "2023-12-20T13:36:27.187Z"
   },
   {
    "duration": 0,
    "start_time": "2023-12-20T13:36:27.188Z"
   },
   {
    "duration": 0,
    "start_time": "2023-12-20T13:36:27.190Z"
   },
   {
    "duration": 0,
    "start_time": "2023-12-20T13:36:27.191Z"
   },
   {
    "duration": 0,
    "start_time": "2023-12-20T13:36:27.192Z"
   },
   {
    "duration": 0,
    "start_time": "2023-12-20T13:36:27.193Z"
   },
   {
    "duration": 0,
    "start_time": "2023-12-20T13:36:27.194Z"
   },
   {
    "duration": 0,
    "start_time": "2023-12-20T13:36:27.195Z"
   },
   {
    "duration": 0,
    "start_time": "2023-12-20T13:36:27.196Z"
   },
   {
    "duration": 0,
    "start_time": "2023-12-20T13:36:27.197Z"
   },
   {
    "duration": 0,
    "start_time": "2023-12-20T13:36:27.198Z"
   },
   {
    "duration": 0,
    "start_time": "2023-12-20T13:36:27.219Z"
   },
   {
    "duration": 0,
    "start_time": "2023-12-20T13:36:27.220Z"
   },
   {
    "duration": 0,
    "start_time": "2023-12-20T13:36:27.220Z"
   },
   {
    "duration": 0,
    "start_time": "2023-12-20T13:36:27.222Z"
   },
   {
    "duration": 0,
    "start_time": "2023-12-20T13:36:27.223Z"
   },
   {
    "duration": 0,
    "start_time": "2023-12-20T13:36:27.223Z"
   },
   {
    "duration": 0,
    "start_time": "2023-12-20T13:36:27.224Z"
   },
   {
    "duration": 0,
    "start_time": "2023-12-20T13:36:27.224Z"
   },
   {
    "duration": 0,
    "start_time": "2023-12-20T13:36:27.225Z"
   },
   {
    "duration": 0,
    "start_time": "2023-12-20T13:36:27.226Z"
   },
   {
    "duration": 0,
    "start_time": "2023-12-20T13:36:27.226Z"
   },
   {
    "duration": 0,
    "start_time": "2023-12-20T13:36:27.227Z"
   },
   {
    "duration": 0,
    "start_time": "2023-12-20T13:36:27.228Z"
   },
   {
    "duration": 0,
    "start_time": "2023-12-20T13:36:27.228Z"
   },
   {
    "duration": 32,
    "start_time": "2023-12-20T13:36:41.093Z"
   },
   {
    "duration": 3,
    "start_time": "2023-12-20T13:36:47.692Z"
   },
   {
    "duration": 38,
    "start_time": "2023-12-20T13:36:47.697Z"
   },
   {
    "duration": 9,
    "start_time": "2023-12-20T13:36:47.736Z"
   },
   {
    "duration": 116,
    "start_time": "2023-12-20T13:36:47.746Z"
   },
   {
    "duration": 19,
    "start_time": "2023-12-20T13:36:47.865Z"
   },
   {
    "duration": 8,
    "start_time": "2023-12-20T13:36:47.886Z"
   },
   {
    "duration": 42,
    "start_time": "2023-12-20T13:36:47.896Z"
   },
   {
    "duration": 18,
    "start_time": "2023-12-20T13:36:47.940Z"
   },
   {
    "duration": 15,
    "start_time": "2023-12-20T13:36:47.960Z"
   },
   {
    "duration": 8,
    "start_time": "2023-12-20T13:36:47.977Z"
   },
   {
    "duration": 14,
    "start_time": "2023-12-20T13:36:47.986Z"
   },
   {
    "duration": 7,
    "start_time": "2023-12-20T13:36:48.002Z"
   },
   {
    "duration": 20,
    "start_time": "2023-12-20T13:36:48.010Z"
   },
   {
    "duration": 8,
    "start_time": "2023-12-20T13:36:48.033Z"
   },
   {
    "duration": 0,
    "start_time": "2023-12-20T13:36:48.042Z"
   },
   {
    "duration": 0,
    "start_time": "2023-12-20T13:36:48.044Z"
   },
   {
    "duration": 0,
    "start_time": "2023-12-20T13:36:48.045Z"
   },
   {
    "duration": 0,
    "start_time": "2023-12-20T13:36:48.046Z"
   },
   {
    "duration": 0,
    "start_time": "2023-12-20T13:36:48.047Z"
   },
   {
    "duration": 0,
    "start_time": "2023-12-20T13:36:48.048Z"
   },
   {
    "duration": 0,
    "start_time": "2023-12-20T13:36:48.049Z"
   },
   {
    "duration": 0,
    "start_time": "2023-12-20T13:36:48.050Z"
   },
   {
    "duration": 0,
    "start_time": "2023-12-20T13:36:48.051Z"
   },
   {
    "duration": 0,
    "start_time": "2023-12-20T13:36:48.052Z"
   },
   {
    "duration": 0,
    "start_time": "2023-12-20T13:36:48.053Z"
   },
   {
    "duration": 0,
    "start_time": "2023-12-20T13:36:48.055Z"
   },
   {
    "duration": 0,
    "start_time": "2023-12-20T13:36:48.055Z"
   },
   {
    "duration": 0,
    "start_time": "2023-12-20T13:36:48.056Z"
   },
   {
    "duration": 0,
    "start_time": "2023-12-20T13:36:48.057Z"
   },
   {
    "duration": 0,
    "start_time": "2023-12-20T13:36:48.058Z"
   },
   {
    "duration": 12,
    "start_time": "2023-12-20T13:37:11.448Z"
   },
   {
    "duration": 17,
    "start_time": "2023-12-20T13:37:45.513Z"
   },
   {
    "duration": 7,
    "start_time": "2023-12-20T13:38:14.265Z"
   },
   {
    "duration": 10,
    "start_time": "2023-12-20T13:38:17.330Z"
   },
   {
    "duration": 6,
    "start_time": "2023-12-20T13:38:20.396Z"
   },
   {
    "duration": 5,
    "start_time": "2023-12-20T13:38:23.150Z"
   },
   {
    "duration": 15,
    "start_time": "2023-12-20T13:38:25.039Z"
   },
   {
    "duration": 3,
    "start_time": "2023-12-20T13:38:34.461Z"
   },
   {
    "duration": 33,
    "start_time": "2023-12-20T13:38:34.466Z"
   },
   {
    "duration": 8,
    "start_time": "2023-12-20T13:38:34.501Z"
   },
   {
    "duration": 43,
    "start_time": "2023-12-20T13:38:34.510Z"
   },
   {
    "duration": 18,
    "start_time": "2023-12-20T13:38:34.554Z"
   },
   {
    "duration": 7,
    "start_time": "2023-12-20T13:38:34.574Z"
   },
   {
    "duration": 12,
    "start_time": "2023-12-20T13:38:34.582Z"
   },
   {
    "duration": 8,
    "start_time": "2023-12-20T13:38:34.595Z"
   },
   {
    "duration": 16,
    "start_time": "2023-12-20T13:38:34.604Z"
   },
   {
    "duration": 11,
    "start_time": "2023-12-20T13:38:34.621Z"
   },
   {
    "duration": 14,
    "start_time": "2023-12-20T13:38:34.634Z"
   },
   {
    "duration": 7,
    "start_time": "2023-12-20T13:38:34.650Z"
   },
   {
    "duration": 9,
    "start_time": "2023-12-20T13:38:34.659Z"
   },
   {
    "duration": 50,
    "start_time": "2023-12-20T13:38:34.669Z"
   },
   {
    "duration": 10,
    "start_time": "2023-12-20T13:38:34.721Z"
   },
   {
    "duration": 16,
    "start_time": "2023-12-20T13:38:34.732Z"
   },
   {
    "duration": 18,
    "start_time": "2023-12-20T13:38:34.749Z"
   },
   {
    "duration": 7,
    "start_time": "2023-12-20T13:38:34.768Z"
   },
   {
    "duration": 161,
    "start_time": "2023-12-20T13:38:34.776Z"
   },
   {
    "duration": 7,
    "start_time": "2023-12-20T13:38:34.939Z"
   },
   {
    "duration": 101,
    "start_time": "2023-12-20T13:38:34.947Z"
   },
   {
    "duration": 229,
    "start_time": "2023-12-20T13:38:35.049Z"
   },
   {
    "duration": 5,
    "start_time": "2023-12-20T13:38:35.279Z"
   },
   {
    "duration": 229,
    "start_time": "2023-12-20T13:38:35.285Z"
   },
   {
    "duration": 221,
    "start_time": "2023-12-20T13:38:35.519Z"
   },
   {
    "duration": 217,
    "start_time": "2023-12-20T13:38:35.742Z"
   },
   {
    "duration": 16,
    "start_time": "2023-12-20T13:38:35.960Z"
   },
   {
    "duration": 18,
    "start_time": "2023-12-20T13:38:35.977Z"
   },
   {
    "duration": 227,
    "start_time": "2023-12-20T13:38:35.997Z"
   },
   {
    "duration": 6,
    "start_time": "2023-12-20T13:38:36.226Z"
   },
   {
    "duration": 15,
    "start_time": "2023-12-20T13:38:55.725Z"
   },
   {
    "duration": 14,
    "start_time": "2023-12-20T13:40:00.371Z"
   },
   {
    "duration": 20,
    "start_time": "2023-12-20T13:40:04.549Z"
   },
   {
    "duration": 7,
    "start_time": "2023-12-20T13:40:28.311Z"
   },
   {
    "duration": 21,
    "start_time": "2023-12-20T13:40:34.325Z"
   },
   {
    "duration": 12,
    "start_time": "2023-12-20T13:40:43.344Z"
   },
   {
    "duration": 8,
    "start_time": "2023-12-20T13:41:04.455Z"
   },
   {
    "duration": 6,
    "start_time": "2023-12-20T13:41:11.228Z"
   },
   {
    "duration": 5,
    "start_time": "2023-12-20T13:41:13.600Z"
   },
   {
    "duration": 19,
    "start_time": "2023-12-20T13:41:36.999Z"
   },
   {
    "duration": 18,
    "start_time": "2023-12-20T13:42:27.788Z"
   },
   {
    "duration": 6,
    "start_time": "2023-12-20T13:42:34.319Z"
   },
   {
    "duration": 36,
    "start_time": "2023-12-20T13:42:34.327Z"
   },
   {
    "duration": 7,
    "start_time": "2023-12-20T13:42:34.365Z"
   },
   {
    "duration": 46,
    "start_time": "2023-12-20T13:42:34.374Z"
   },
   {
    "duration": 19,
    "start_time": "2023-12-20T13:42:34.424Z"
   },
   {
    "duration": 7,
    "start_time": "2023-12-20T13:42:34.444Z"
   },
   {
    "duration": 6,
    "start_time": "2023-12-20T13:42:34.452Z"
   },
   {
    "duration": 15,
    "start_time": "2023-12-20T13:42:34.459Z"
   },
   {
    "duration": 5,
    "start_time": "2023-12-20T13:42:34.476Z"
   },
   {
    "duration": 19,
    "start_time": "2023-12-20T13:42:34.482Z"
   },
   {
    "duration": 21,
    "start_time": "2023-12-20T13:42:34.515Z"
   },
   {
    "duration": 24,
    "start_time": "2023-12-20T13:42:34.537Z"
   },
   {
    "duration": 28,
    "start_time": "2023-12-20T13:42:34.563Z"
   },
   {
    "duration": 5,
    "start_time": "2023-12-20T13:42:34.595Z"
   },
   {
    "duration": 141,
    "start_time": "2023-12-20T13:42:34.601Z"
   },
   {
    "duration": 2186,
    "start_time": "2023-12-20T13:42:34.744Z"
   },
   {
    "duration": 0,
    "start_time": "2023-12-20T13:42:36.932Z"
   },
   {
    "duration": 0,
    "start_time": "2023-12-20T13:42:36.933Z"
   },
   {
    "duration": 0,
    "start_time": "2023-12-20T13:42:36.934Z"
   },
   {
    "duration": 0,
    "start_time": "2023-12-20T13:42:36.935Z"
   },
   {
    "duration": 0,
    "start_time": "2023-12-20T13:42:36.936Z"
   },
   {
    "duration": 0,
    "start_time": "2023-12-20T13:42:36.937Z"
   },
   {
    "duration": 0,
    "start_time": "2023-12-20T13:42:36.938Z"
   },
   {
    "duration": 0,
    "start_time": "2023-12-20T13:42:36.939Z"
   },
   {
    "duration": 0,
    "start_time": "2023-12-20T13:42:36.939Z"
   },
   {
    "duration": 0,
    "start_time": "2023-12-20T13:42:36.941Z"
   },
   {
    "duration": 0,
    "start_time": "2023-12-20T13:42:36.942Z"
   },
   {
    "duration": 19,
    "start_time": "2023-12-20T13:42:40.164Z"
   },
   {
    "duration": 14,
    "start_time": "2023-12-20T13:46:47.994Z"
   },
   {
    "duration": 22,
    "start_time": "2023-12-20T13:46:58.188Z"
   },
   {
    "duration": 28,
    "start_time": "2023-12-20T13:47:44.213Z"
   },
   {
    "duration": 12,
    "start_time": "2023-12-20T13:48:51.570Z"
   },
   {
    "duration": 29,
    "start_time": "2023-12-20T13:51:35.204Z"
   },
   {
    "duration": 23,
    "start_time": "2023-12-20T13:52:07.844Z"
   },
   {
    "duration": 9,
    "start_time": "2023-12-20T13:57:06.821Z"
   },
   {
    "duration": 93,
    "start_time": "2023-12-20T13:57:11.562Z"
   },
   {
    "duration": 3,
    "start_time": "2023-12-20T13:57:28.581Z"
   },
   {
    "duration": 41,
    "start_time": "2023-12-20T13:57:28.586Z"
   },
   {
    "duration": 11,
    "start_time": "2023-12-20T13:57:28.629Z"
   },
   {
    "duration": 33,
    "start_time": "2023-12-20T13:57:28.642Z"
   },
   {
    "duration": 19,
    "start_time": "2023-12-20T13:57:28.677Z"
   },
   {
    "duration": 7,
    "start_time": "2023-12-20T13:57:28.697Z"
   },
   {
    "duration": 19,
    "start_time": "2023-12-20T13:57:28.706Z"
   },
   {
    "duration": 20,
    "start_time": "2023-12-20T13:57:28.728Z"
   },
   {
    "duration": 6,
    "start_time": "2023-12-20T13:57:28.752Z"
   },
   {
    "duration": 11,
    "start_time": "2023-12-20T13:57:28.759Z"
   },
   {
    "duration": 16,
    "start_time": "2023-12-20T13:57:28.773Z"
   },
   {
    "duration": 33,
    "start_time": "2023-12-20T13:57:28.791Z"
   },
   {
    "duration": 10,
    "start_time": "2023-12-20T13:57:28.831Z"
   },
   {
    "duration": 10,
    "start_time": "2023-12-20T13:57:28.843Z"
   },
   {
    "duration": 153,
    "start_time": "2023-12-20T13:57:28.855Z"
   },
   {
    "duration": 13,
    "start_time": "2023-12-20T13:57:29.010Z"
   },
   {
    "duration": 127,
    "start_time": "2023-12-20T13:57:29.028Z"
   },
   {
    "duration": 319,
    "start_time": "2023-12-20T13:57:29.157Z"
   },
   {
    "duration": 4,
    "start_time": "2023-12-20T13:57:29.478Z"
   },
   {
    "duration": 228,
    "start_time": "2023-12-20T13:57:29.484Z"
   },
   {
    "duration": 233,
    "start_time": "2023-12-20T13:57:29.714Z"
   },
   {
    "duration": 219,
    "start_time": "2023-12-20T13:57:29.949Z"
   },
   {
    "duration": 17,
    "start_time": "2023-12-20T13:57:30.170Z"
   },
   {
    "duration": 40,
    "start_time": "2023-12-20T13:57:30.191Z"
   },
   {
    "duration": 220,
    "start_time": "2023-12-20T13:57:30.233Z"
   },
   {
    "duration": 5,
    "start_time": "2023-12-20T13:57:30.455Z"
   },
   {
    "duration": 48,
    "start_time": "2023-12-20T13:57:30.461Z"
   },
   {
    "duration": 30,
    "start_time": "2023-12-20T13:57:30.510Z"
   },
   {
    "duration": 33,
    "start_time": "2023-12-20T13:57:30.542Z"
   },
   {
    "duration": 224,
    "start_time": "2023-12-20T13:58:26.532Z"
   },
   {
    "duration": 180,
    "start_time": "2023-12-20T13:58:42.752Z"
   },
   {
    "duration": 195,
    "start_time": "2023-12-20T13:58:46.773Z"
   },
   {
    "duration": 226,
    "start_time": "2023-12-20T13:58:54.859Z"
   },
   {
    "duration": 204,
    "start_time": "2023-12-20T13:59:11.003Z"
   },
   {
    "duration": 379,
    "start_time": "2023-12-20T13:59:37.286Z"
   },
   {
    "duration": 307,
    "start_time": "2023-12-20T14:00:06.929Z"
   },
   {
    "duration": 305,
    "start_time": "2023-12-20T14:00:50.886Z"
   },
   {
    "duration": 305,
    "start_time": "2023-12-20T14:00:58.296Z"
   },
   {
    "duration": 343,
    "start_time": "2023-12-20T14:01:20.648Z"
   },
   {
    "duration": 294,
    "start_time": "2023-12-20T14:01:27.207Z"
   },
   {
    "duration": 389,
    "start_time": "2023-12-20T14:01:36.756Z"
   },
   {
    "duration": 290,
    "start_time": "2023-12-20T14:01:40.763Z"
   },
   {
    "duration": 313,
    "start_time": "2023-12-20T14:04:54.920Z"
   },
   {
    "duration": 6,
    "start_time": "2023-12-20T14:14:50.824Z"
   },
   {
    "duration": 19,
    "start_time": "2023-12-20T14:14:57.706Z"
   },
   {
    "duration": 5,
    "start_time": "2023-12-20T14:15:34.437Z"
   },
   {
    "duration": 12,
    "start_time": "2023-12-20T14:15:38.293Z"
   },
   {
    "duration": 15,
    "start_time": "2023-12-20T15:00:40.934Z"
   },
   {
    "duration": 6,
    "start_time": "2023-12-20T15:01:24.437Z"
   },
   {
    "duration": 247,
    "start_time": "2023-12-20T15:01:40.462Z"
   },
   {
    "duration": 224,
    "start_time": "2023-12-20T15:01:59.760Z"
   },
   {
    "duration": 9,
    "start_time": "2023-12-20T15:02:07.760Z"
   },
   {
    "duration": 9,
    "start_time": "2023-12-20T15:02:33.537Z"
   },
   {
    "duration": 9,
    "start_time": "2023-12-20T15:02:58.086Z"
   },
   {
    "duration": 225,
    "start_time": "2023-12-20T15:03:01.445Z"
   },
   {
    "duration": 231,
    "start_time": "2023-12-20T15:03:04.885Z"
   },
   {
    "duration": 13,
    "start_time": "2023-12-20T15:04:38.665Z"
   },
   {
    "duration": 16,
    "start_time": "2023-12-20T15:04:42.702Z"
   },
   {
    "duration": 5,
    "start_time": "2023-12-20T15:07:05.048Z"
   },
   {
    "duration": 6,
    "start_time": "2023-12-20T15:07:17.008Z"
   },
   {
    "duration": 9,
    "start_time": "2023-12-20T15:07:22.019Z"
   },
   {
    "duration": 9,
    "start_time": "2023-12-20T15:08:00.983Z"
   },
   {
    "duration": 7,
    "start_time": "2023-12-20T15:08:09.827Z"
   },
   {
    "duration": 3,
    "start_time": "2023-12-20T15:08:51.865Z"
   },
   {
    "duration": 8,
    "start_time": "2023-12-20T15:08:58.868Z"
   },
   {
    "duration": 23,
    "start_time": "2023-12-20T15:09:05.190Z"
   },
   {
    "duration": 16,
    "start_time": "2023-12-20T15:09:11.408Z"
   },
   {
    "duration": 41,
    "start_time": "2023-12-21T11:35:04.644Z"
   },
   {
    "duration": 683,
    "start_time": "2023-12-21T11:35:33.841Z"
   },
   {
    "duration": 76,
    "start_time": "2023-12-21T11:35:34.525Z"
   },
   {
    "duration": 10,
    "start_time": "2023-12-21T11:35:34.602Z"
   },
   {
    "duration": 69,
    "start_time": "2023-12-21T11:35:34.613Z"
   },
   {
    "duration": 55,
    "start_time": "2023-12-21T11:35:34.683Z"
   },
   {
    "duration": 6,
    "start_time": "2023-12-21T11:35:34.739Z"
   },
   {
    "duration": 13,
    "start_time": "2023-12-21T11:35:34.746Z"
   },
   {
    "duration": 12,
    "start_time": "2023-12-21T11:35:34.760Z"
   },
   {
    "duration": 5,
    "start_time": "2023-12-21T11:35:34.773Z"
   },
   {
    "duration": 5,
    "start_time": "2023-12-21T11:35:34.779Z"
   },
   {
    "duration": 10,
    "start_time": "2023-12-21T11:35:34.785Z"
   },
   {
    "duration": 4,
    "start_time": "2023-12-21T11:35:34.796Z"
   },
   {
    "duration": 14,
    "start_time": "2023-12-21T11:35:34.801Z"
   },
   {
    "duration": 10,
    "start_time": "2023-12-21T11:35:34.816Z"
   },
   {
    "duration": 103,
    "start_time": "2023-12-21T11:35:34.827Z"
   },
   {
    "duration": 5,
    "start_time": "2023-12-21T11:35:34.931Z"
   },
   {
    "duration": 85,
    "start_time": "2023-12-21T11:35:34.936Z"
   },
   {
    "duration": 161,
    "start_time": "2023-12-21T11:35:35.022Z"
   },
   {
    "duration": 16,
    "start_time": "2023-12-21T11:35:35.185Z"
   },
   {
    "duration": 220,
    "start_time": "2023-12-21T11:35:35.203Z"
   },
   {
    "duration": 166,
    "start_time": "2023-12-21T11:35:35.424Z"
   },
   {
    "duration": 171,
    "start_time": "2023-12-21T11:35:35.591Z"
   },
   {
    "duration": 12,
    "start_time": "2023-12-21T11:35:35.763Z"
   },
   {
    "duration": 26,
    "start_time": "2023-12-21T11:35:35.776Z"
   },
   {
    "duration": 163,
    "start_time": "2023-12-21T11:35:35.803Z"
   },
   {
    "duration": 4,
    "start_time": "2023-12-21T11:35:35.968Z"
   },
   {
    "duration": 29,
    "start_time": "2023-12-21T11:35:35.973Z"
   },
   {
    "duration": 13,
    "start_time": "2023-12-21T11:35:36.006Z"
   },
   {
    "duration": 13,
    "start_time": "2023-12-21T11:35:36.021Z"
   },
   {
    "duration": 244,
    "start_time": "2023-12-21T11:35:36.036Z"
   },
   {
    "duration": 243,
    "start_time": "2023-12-21T11:35:36.281Z"
   },
   {
    "duration": 4,
    "start_time": "2023-12-21T11:35:36.526Z"
   },
   {
    "duration": 13,
    "start_time": "2023-12-21T11:35:36.532Z"
   },
   {
    "duration": 12,
    "start_time": "2023-12-21T11:35:37.947Z"
   },
   {
    "duration": 39,
    "start_time": "2023-12-21T11:35:39.272Z"
   },
   {
    "duration": 11,
    "start_time": "2023-12-21T11:35:46.248Z"
   },
   {
    "duration": 10,
    "start_time": "2023-12-21T11:36:01.548Z"
   },
   {
    "duration": 7,
    "start_time": "2023-12-21T11:36:19.250Z"
   },
   {
    "duration": 9,
    "start_time": "2023-12-21T11:36:54.246Z"
   },
   {
    "duration": 12,
    "start_time": "2023-12-21T11:36:59.651Z"
   },
   {
    "duration": 12,
    "start_time": "2023-12-21T11:37:10.716Z"
   },
   {
    "duration": 13,
    "start_time": "2023-12-21T11:38:36.896Z"
   },
   {
    "duration": 20,
    "start_time": "2023-12-21T11:40:03.163Z"
   },
   {
    "duration": 399,
    "start_time": "2023-12-21T11:40:26.678Z"
   },
   {
    "duration": 283,
    "start_time": "2023-12-21T11:40:31.647Z"
   },
   {
    "duration": 17,
    "start_time": "2023-12-21T11:42:16.469Z"
   },
   {
    "duration": 18,
    "start_time": "2023-12-21T11:42:29.422Z"
   },
   {
    "duration": 19,
    "start_time": "2023-12-21T11:44:06.078Z"
   },
   {
    "duration": 27,
    "start_time": "2023-12-21T11:46:36.255Z"
   },
   {
    "duration": 27,
    "start_time": "2023-12-21T11:47:12.836Z"
   },
   {
    "duration": 26,
    "start_time": "2023-12-21T11:49:28.198Z"
   },
   {
    "duration": 27,
    "start_time": "2023-12-21T11:49:49.837Z"
   },
   {
    "duration": 26,
    "start_time": "2023-12-21T11:50:00.902Z"
   },
   {
    "duration": 9,
    "start_time": "2023-12-21T11:52:48.562Z"
   },
   {
    "duration": 16,
    "start_time": "2023-12-21T11:52:54.068Z"
   },
   {
    "duration": 25,
    "start_time": "2023-12-21T11:53:16.747Z"
   },
   {
    "duration": 16,
    "start_time": "2023-12-21T11:55:51.351Z"
   },
   {
    "duration": 24,
    "start_time": "2023-12-21T12:01:02.481Z"
   },
   {
    "duration": 22,
    "start_time": "2023-12-21T12:01:40.260Z"
   },
   {
    "duration": 78,
    "start_time": "2023-12-21T12:03:41.464Z"
   },
   {
    "duration": 21,
    "start_time": "2023-12-21T12:03:53.662Z"
   },
   {
    "duration": 128,
    "start_time": "2023-12-21T12:16:39.149Z"
   },
   {
    "duration": 310,
    "start_time": "2023-12-21T12:16:49.189Z"
   },
   {
    "duration": 18,
    "start_time": "2023-12-21T12:17:01.575Z"
   },
   {
    "duration": 21,
    "start_time": "2023-12-21T12:18:32.004Z"
   },
   {
    "duration": 4,
    "start_time": "2023-12-21T12:21:53.751Z"
   },
   {
    "duration": 4,
    "start_time": "2023-12-21T12:22:16.446Z"
   },
   {
    "duration": 4,
    "start_time": "2023-12-21T12:23:14.832Z"
   },
   {
    "duration": 3,
    "start_time": "2023-12-21T12:23:24.577Z"
   },
   {
    "duration": 12,
    "start_time": "2023-12-21T12:24:40.755Z"
   },
   {
    "duration": 2,
    "start_time": "2023-12-21T13:13:47.690Z"
   },
   {
    "duration": 433,
    "start_time": "2023-12-21T13:14:06.363Z"
   },
   {
    "duration": 71,
    "start_time": "2023-12-21T13:17:09.852Z"
   },
   {
    "duration": 2,
    "start_time": "2023-12-21T13:17:52.075Z"
   },
   {
    "duration": 33,
    "start_time": "2023-12-21T13:19:30.283Z"
   },
   {
    "duration": 3,
    "start_time": "2023-12-21T13:19:36.024Z"
   },
   {
    "duration": 4,
    "start_time": "2023-12-21T13:19:36.755Z"
   },
   {
    "duration": 4,
    "start_time": "2023-12-21T13:22:00.947Z"
   },
   {
    "duration": 4,
    "start_time": "2023-12-21T13:34:16.437Z"
   },
   {
    "duration": 2,
    "start_time": "2023-12-21T13:38:40.653Z"
   },
   {
    "duration": 4,
    "start_time": "2023-12-21T13:38:41.455Z"
   },
   {
    "duration": 5,
    "start_time": "2023-12-21T13:46:59.889Z"
   },
   {
    "duration": 4,
    "start_time": "2023-12-21T13:50:39.364Z"
   },
   {
    "duration": 66,
    "start_time": "2023-12-21T13:51:58.536Z"
   },
   {
    "duration": 4,
    "start_time": "2023-12-21T13:52:22.419Z"
   },
   {
    "duration": 27,
    "start_time": "2023-12-21T14:16:54.460Z"
   },
   {
    "duration": 11,
    "start_time": "2023-12-21T14:16:57.636Z"
   },
   {
    "duration": 11,
    "start_time": "2023-12-21T14:17:08.560Z"
   },
   {
    "duration": 2,
    "start_time": "2023-12-21T14:17:11.044Z"
   },
   {
    "duration": 3,
    "start_time": "2023-12-21T14:17:11.542Z"
   },
   {
    "duration": 4,
    "start_time": "2023-12-21T14:17:12.107Z"
   },
   {
    "duration": 4,
    "start_time": "2023-12-21T14:17:13.001Z"
   },
   {
    "duration": 9,
    "start_time": "2023-12-21T14:19:03.082Z"
   },
   {
    "duration": 65,
    "start_time": "2023-12-21T14:27:59.855Z"
   },
   {
    "duration": 3,
    "start_time": "2023-12-21T15:13:41.059Z"
   },
   {
    "duration": 6,
    "start_time": "2023-12-21T15:15:50.200Z"
   },
   {
    "duration": 4,
    "start_time": "2023-12-21T15:16:10.275Z"
   },
   {
    "duration": 5,
    "start_time": "2023-12-21T15:16:18.232Z"
   },
   {
    "duration": 5,
    "start_time": "2023-12-21T15:16:31.956Z"
   },
   {
    "duration": 5,
    "start_time": "2023-12-21T15:16:40.608Z"
   },
   {
    "duration": 33,
    "start_time": "2023-12-21T15:17:15.955Z"
   },
   {
    "duration": 1134,
    "start_time": "2023-12-21T15:18:01.907Z"
   },
   {
    "duration": 666,
    "start_time": "2023-12-21T15:18:07.619Z"
   },
   {
    "duration": 668,
    "start_time": "2023-12-21T15:18:18.560Z"
   },
   {
    "duration": 75,
    "start_time": "2023-12-21T15:21:16.870Z"
   },
   {
    "duration": 98,
    "start_time": "2023-12-21T15:21:42.054Z"
   },
   {
    "duration": 71,
    "start_time": "2023-12-21T15:22:10.690Z"
   },
   {
    "duration": 737,
    "start_time": "2023-12-21T15:22:22.613Z"
   },
   {
    "duration": 704,
    "start_time": "2023-12-21T15:22:29.091Z"
   },
   {
    "duration": 698,
    "start_time": "2023-12-21T15:24:01.780Z"
   },
   {
    "duration": 729,
    "start_time": "2023-12-21T15:27:20.323Z"
   },
   {
    "duration": 693,
    "start_time": "2023-12-21T15:28:40.484Z"
   },
   {
    "duration": 2,
    "start_time": "2023-12-21T15:29:04.119Z"
   },
   {
    "duration": 824,
    "start_time": "2023-12-21T15:29:12.999Z"
   },
   {
    "duration": 799,
    "start_time": "2023-12-21T15:29:46.290Z"
   },
   {
    "duration": 810,
    "start_time": "2023-12-21T15:30:12.339Z"
   },
   {
    "duration": 824,
    "start_time": "2023-12-21T15:30:35.485Z"
   },
   {
    "duration": 809,
    "start_time": "2023-12-21T15:30:47.321Z"
   },
   {
    "duration": 793,
    "start_time": "2023-12-21T15:32:08.401Z"
   },
   {
    "duration": 78,
    "start_time": "2023-12-21T15:32:28.044Z"
   },
   {
    "duration": 781,
    "start_time": "2023-12-21T15:32:43.396Z"
   },
   {
    "duration": 834,
    "start_time": "2023-12-21T16:04:51.974Z"
   },
   {
    "duration": 813,
    "start_time": "2023-12-21T16:05:48.151Z"
   },
   {
    "duration": 829,
    "start_time": "2023-12-21T16:06:01.024Z"
   },
   {
    "duration": 875,
    "start_time": "2023-12-21T16:06:33.456Z"
   },
   {
    "duration": 815,
    "start_time": "2023-12-21T16:07:52.831Z"
   },
   {
    "duration": 3,
    "start_time": "2023-12-21T16:14:04.157Z"
   },
   {
    "duration": 4,
    "start_time": "2023-12-21T16:14:25.125Z"
   },
   {
    "duration": 126,
    "start_time": "2023-12-21T16:17:11.417Z"
   },
   {
    "duration": 89,
    "start_time": "2023-12-21T16:18:09.722Z"
   },
   {
    "duration": 75,
    "start_time": "2023-12-21T16:18:23.469Z"
   },
   {
    "duration": 119,
    "start_time": "2023-12-21T16:18:29.850Z"
   },
   {
    "duration": 112,
    "start_time": "2023-12-21T16:18:46.481Z"
   },
   {
    "duration": 116,
    "start_time": "2023-12-21T16:18:52.847Z"
   },
   {
    "duration": 117,
    "start_time": "2023-12-21T16:18:56.990Z"
   },
   {
    "duration": 1088,
    "start_time": "2023-12-21T16:50:16.092Z"
   },
   {
    "duration": 29,
    "start_time": "2023-12-21T16:50:17.181Z"
   },
   {
    "duration": 14,
    "start_time": "2023-12-21T16:50:17.211Z"
   },
   {
    "duration": 46,
    "start_time": "2023-12-21T16:50:17.226Z"
   },
   {
    "duration": 18,
    "start_time": "2023-12-21T16:50:17.275Z"
   },
   {
    "duration": 9,
    "start_time": "2023-12-21T16:50:17.295Z"
   },
   {
    "duration": 8,
    "start_time": "2023-12-21T16:50:17.305Z"
   },
   {
    "duration": 21,
    "start_time": "2023-12-21T16:50:17.314Z"
   },
   {
    "duration": 6,
    "start_time": "2023-12-21T16:50:17.336Z"
   },
   {
    "duration": 23,
    "start_time": "2023-12-21T16:50:17.343Z"
   },
   {
    "duration": 14,
    "start_time": "2023-12-21T16:50:17.368Z"
   },
   {
    "duration": 7,
    "start_time": "2023-12-21T16:50:17.383Z"
   },
   {
    "duration": 14,
    "start_time": "2023-12-21T16:50:17.391Z"
   },
   {
    "duration": 5,
    "start_time": "2023-12-21T16:50:17.410Z"
   },
   {
    "duration": 126,
    "start_time": "2023-12-21T16:50:17.417Z"
   },
   {
    "duration": 6,
    "start_time": "2023-12-21T16:50:17.544Z"
   },
   {
    "duration": 98,
    "start_time": "2023-12-21T16:50:17.551Z"
   },
   {
    "duration": 196,
    "start_time": "2023-12-21T16:50:17.651Z"
   },
   {
    "duration": 5,
    "start_time": "2023-12-21T16:50:17.848Z"
   },
   {
    "duration": 210,
    "start_time": "2023-12-21T16:50:17.854Z"
   },
   {
    "duration": 201,
    "start_time": "2023-12-21T16:50:18.066Z"
   },
   {
    "duration": 202,
    "start_time": "2023-12-21T16:50:18.269Z"
   },
   {
    "duration": 18,
    "start_time": "2023-12-21T16:50:18.473Z"
   },
   {
    "duration": 54,
    "start_time": "2023-12-21T16:50:18.492Z"
   },
   {
    "duration": 181,
    "start_time": "2023-12-21T16:50:18.547Z"
   },
   {
    "duration": 4,
    "start_time": "2023-12-21T16:50:18.729Z"
   },
   {
    "duration": 44,
    "start_time": "2023-12-21T16:50:18.735Z"
   },
   {
    "duration": 17,
    "start_time": "2023-12-21T16:50:18.781Z"
   },
   {
    "duration": 32,
    "start_time": "2023-12-21T16:50:18.799Z"
   },
   {
    "duration": 337,
    "start_time": "2023-12-21T16:50:18.832Z"
   },
   {
    "duration": 284,
    "start_time": "2023-12-21T16:50:19.171Z"
   },
   {
    "duration": 5,
    "start_time": "2023-12-21T16:50:19.457Z"
   },
   {
    "duration": 32,
    "start_time": "2023-12-21T16:50:19.464Z"
   },
   {
    "duration": 13,
    "start_time": "2023-12-21T16:50:19.510Z"
   },
   {
    "duration": 3,
    "start_time": "2023-12-21T16:50:19.524Z"
   },
   {
    "duration": 3,
    "start_time": "2023-12-21T16:50:19.529Z"
   },
   {
    "duration": 5,
    "start_time": "2023-12-21T16:50:19.534Z"
   },
   {
    "duration": 7,
    "start_time": "2023-12-21T16:50:19.541Z"
   },
   {
    "duration": 9,
    "start_time": "2023-12-21T16:50:19.549Z"
   },
   {
    "duration": 1063,
    "start_time": "2023-12-21T16:50:19.559Z"
   },
   {
    "duration": 142,
    "start_time": "2023-12-21T16:50:20.625Z"
   },
   {
    "duration": 6,
    "start_time": "2023-12-21T16:53:12.655Z"
   },
   {
    "duration": 20,
    "start_time": "2023-12-21T16:56:03.138Z"
   },
   {
    "duration": 7,
    "start_time": "2023-12-21T16:57:40.067Z"
   },
   {
    "duration": 16,
    "start_time": "2023-12-21T17:05:05.909Z"
   },
   {
    "duration": 1043,
    "start_time": "2023-12-21T17:07:22.912Z"
   },
   {
    "duration": 28,
    "start_time": "2023-12-21T17:07:23.957Z"
   },
   {
    "duration": 12,
    "start_time": "2023-12-21T17:07:23.986Z"
   },
   {
    "duration": 32,
    "start_time": "2023-12-21T17:07:24.000Z"
   },
   {
    "duration": 18,
    "start_time": "2023-12-21T17:07:24.033Z"
   },
   {
    "duration": 6,
    "start_time": "2023-12-21T17:07:24.053Z"
   },
   {
    "duration": 7,
    "start_time": "2023-12-21T17:07:24.060Z"
   },
   {
    "duration": 9,
    "start_time": "2023-12-21T17:07:24.068Z"
   },
   {
    "duration": 6,
    "start_time": "2023-12-21T17:07:24.079Z"
   },
   {
    "duration": 5,
    "start_time": "2023-12-21T17:07:24.088Z"
   },
   {
    "duration": 29,
    "start_time": "2023-12-21T17:07:24.094Z"
   },
   {
    "duration": 6,
    "start_time": "2023-12-21T17:07:24.124Z"
   },
   {
    "duration": 9,
    "start_time": "2023-12-21T17:07:24.132Z"
   },
   {
    "duration": 6,
    "start_time": "2023-12-21T17:07:24.143Z"
   },
   {
    "duration": 149,
    "start_time": "2023-12-21T17:07:24.151Z"
   },
   {
    "duration": 10,
    "start_time": "2023-12-21T17:07:24.302Z"
   },
   {
    "duration": 78,
    "start_time": "2023-12-21T17:07:24.313Z"
   },
   {
    "duration": 198,
    "start_time": "2023-12-21T17:07:24.393Z"
   },
   {
    "duration": 5,
    "start_time": "2023-12-21T17:07:24.592Z"
   },
   {
    "duration": 199,
    "start_time": "2023-12-21T17:07:24.598Z"
   },
   {
    "duration": 194,
    "start_time": "2023-12-21T17:07:24.799Z"
   },
   {
    "duration": 196,
    "start_time": "2023-12-21T17:07:24.994Z"
   },
   {
    "duration": 24,
    "start_time": "2023-12-21T17:07:25.192Z"
   },
   {
    "duration": 24,
    "start_time": "2023-12-21T17:07:25.218Z"
   },
   {
    "duration": 183,
    "start_time": "2023-12-21T17:07:25.244Z"
   },
   {
    "duration": 5,
    "start_time": "2023-12-21T17:07:25.429Z"
   },
   {
    "duration": 25,
    "start_time": "2023-12-21T17:07:25.436Z"
   },
   {
    "duration": 16,
    "start_time": "2023-12-21T17:07:25.465Z"
   },
   {
    "duration": 36,
    "start_time": "2023-12-21T17:07:25.482Z"
   },
   {
    "duration": 346,
    "start_time": "2023-12-21T17:07:25.519Z"
   },
   {
    "duration": 264,
    "start_time": "2023-12-21T17:07:25.867Z"
   },
   {
    "duration": 6,
    "start_time": "2023-12-21T17:07:26.133Z"
   },
   {
    "duration": 60,
    "start_time": "2023-12-21T17:07:26.141Z"
   },
   {
    "duration": 14,
    "start_time": "2023-12-21T17:07:26.203Z"
   },
   {
    "duration": 8,
    "start_time": "2023-12-21T17:07:26.219Z"
   },
   {
    "duration": 29,
    "start_time": "2023-12-21T17:07:26.228Z"
   },
   {
    "duration": 24,
    "start_time": "2023-12-21T17:07:26.258Z"
   },
   {
    "duration": 9,
    "start_time": "2023-12-21T17:07:26.283Z"
   },
   {
    "duration": 21,
    "start_time": "2023-12-21T17:07:26.293Z"
   },
   {
    "duration": 1043,
    "start_time": "2023-12-21T17:07:26.315Z"
   },
   {
    "duration": 152,
    "start_time": "2023-12-21T17:07:27.359Z"
   },
   {
    "duration": 80,
    "start_time": "2023-12-23T16:06:35.532Z"
   },
   {
    "duration": 41,
    "start_time": "2023-12-23T16:07:26.373Z"
   },
   {
    "duration": 1236,
    "start_time": "2023-12-23T16:07:30.952Z"
   },
   {
    "duration": 72,
    "start_time": "2023-12-23T16:07:32.190Z"
   },
   {
    "duration": 12,
    "start_time": "2023-12-23T16:07:32.263Z"
   },
   {
    "duration": 11,
    "start_time": "2023-12-23T16:07:34.260Z"
   },
   {
    "duration": 128,
    "start_time": "2023-12-23T16:07:50.978Z"
   },
   {
    "duration": 52,
    "start_time": "2023-12-23T16:08:01.155Z"
   },
   {
    "duration": 72,
    "start_time": "2023-12-23T16:08:26.140Z"
   },
   {
    "duration": 7,
    "start_time": "2023-12-23T16:08:37.376Z"
   },
   {
    "duration": 4,
    "start_time": "2023-12-23T16:08:39.826Z"
   },
   {
    "duration": 7,
    "start_time": "2023-12-23T16:08:40.534Z"
   },
   {
    "duration": 62,
    "start_time": "2023-12-23T16:10:53.007Z"
   },
   {
    "duration": 5,
    "start_time": "2023-12-23T16:11:09.631Z"
   },
   {
    "duration": 10,
    "start_time": "2023-12-23T16:12:42.992Z"
   },
   {
    "duration": 5,
    "start_time": "2023-12-23T16:12:51.943Z"
   },
   {
    "duration": 5,
    "start_time": "2023-12-23T16:12:57.876Z"
   },
   {
    "duration": 9,
    "start_time": "2023-12-23T16:13:02.994Z"
   },
   {
    "duration": 4,
    "start_time": "2023-12-23T16:13:08.000Z"
   },
   {
    "duration": 5,
    "start_time": "2023-12-23T16:13:19.706Z"
   },
   {
    "duration": 11,
    "start_time": "2023-12-23T16:14:33.349Z"
   },
   {
    "duration": 6,
    "start_time": "2023-12-23T16:14:39.354Z"
   },
   {
    "duration": 10,
    "start_time": "2023-12-23T16:14:43.659Z"
   },
   {
    "duration": 4,
    "start_time": "2023-12-23T16:14:53.011Z"
   },
   {
    "duration": 11,
    "start_time": "2023-12-23T16:14:56.312Z"
   },
   {
    "duration": 6,
    "start_time": "2023-12-23T16:16:41.950Z"
   },
   {
    "duration": 7,
    "start_time": "2023-12-23T16:17:47.974Z"
   },
   {
    "duration": 84,
    "start_time": "2023-12-23T16:18:17.538Z"
   },
   {
    "duration": 7,
    "start_time": "2023-12-23T16:18:25.106Z"
   },
   {
    "duration": 6,
    "start_time": "2023-12-23T16:18:25.944Z"
   },
   {
    "duration": 6,
    "start_time": "2023-12-23T16:18:26.878Z"
   },
   {
    "duration": 13,
    "start_time": "2023-12-23T16:18:29.221Z"
   },
   {
    "duration": 14,
    "start_time": "2023-12-23T16:19:10.477Z"
   },
   {
    "duration": 6,
    "start_time": "2023-12-23T16:19:23.447Z"
   },
   {
    "duration": 8,
    "start_time": "2023-12-23T16:20:23.936Z"
   },
   {
    "duration": 6,
    "start_time": "2023-12-23T16:21:14.497Z"
   },
   {
    "duration": 8,
    "start_time": "2023-12-23T16:21:17.250Z"
   },
   {
    "duration": 5,
    "start_time": "2023-12-23T16:21:20.035Z"
   },
   {
    "duration": 123,
    "start_time": "2023-12-23T16:21:21.961Z"
   },
   {
    "duration": 138,
    "start_time": "2023-12-23T16:21:36.992Z"
   },
   {
    "duration": 147,
    "start_time": "2023-12-23T16:22:47.611Z"
   },
   {
    "duration": 6,
    "start_time": "2023-12-23T16:23:06.358Z"
   },
   {
    "duration": 84,
    "start_time": "2023-12-23T16:23:06.655Z"
   },
   {
    "duration": 143,
    "start_time": "2023-12-23T16:25:07.804Z"
   },
   {
    "duration": 80,
    "start_time": "2023-12-23T16:25:17.303Z"
   },
   {
    "duration": 86,
    "start_time": "2023-12-23T16:25:38.440Z"
   },
   {
    "duration": 86,
    "start_time": "2023-12-23T16:26:00.990Z"
   },
   {
    "duration": 93,
    "start_time": "2023-12-23T16:26:07.200Z"
   },
   {
    "duration": 86,
    "start_time": "2023-12-23T16:26:09.718Z"
   },
   {
    "duration": 161,
    "start_time": "2023-12-23T16:26:27.728Z"
   },
   {
    "duration": 88,
    "start_time": "2023-12-23T16:26:30.499Z"
   },
   {
    "duration": 92,
    "start_time": "2023-12-23T16:27:34.578Z"
   },
   {
    "duration": 102,
    "start_time": "2023-12-23T16:27:51.412Z"
   },
   {
    "duration": 87,
    "start_time": "2023-12-23T16:27:54.983Z"
   },
   {
    "duration": 86,
    "start_time": "2023-12-23T16:28:00.953Z"
   },
   {
    "duration": 144,
    "start_time": "2023-12-23T16:28:22.990Z"
   },
   {
    "duration": 3,
    "start_time": "2023-12-23T16:28:37.642Z"
   },
   {
    "duration": 29,
    "start_time": "2023-12-23T16:28:37.647Z"
   },
   {
    "duration": 7,
    "start_time": "2023-12-23T16:28:37.678Z"
   },
   {
    "duration": 11,
    "start_time": "2023-12-23T16:28:37.687Z"
   },
   {
    "duration": 42,
    "start_time": "2023-12-23T16:28:37.700Z"
   },
   {
    "duration": 24,
    "start_time": "2023-12-23T16:28:37.744Z"
   },
   {
    "duration": 6,
    "start_time": "2023-12-23T16:28:37.769Z"
   },
   {
    "duration": 7,
    "start_time": "2023-12-23T16:28:37.777Z"
   },
   {
    "duration": 25,
    "start_time": "2023-12-23T16:28:37.786Z"
   },
   {
    "duration": 7,
    "start_time": "2023-12-23T16:28:37.813Z"
   },
   {
    "duration": 16,
    "start_time": "2023-12-23T16:28:37.822Z"
   },
   {
    "duration": 12,
    "start_time": "2023-12-23T16:28:37.839Z"
   },
   {
    "duration": 7,
    "start_time": "2023-12-23T16:28:37.853Z"
   },
   {
    "duration": 5,
    "start_time": "2023-12-23T16:28:37.862Z"
   },
   {
    "duration": 7,
    "start_time": "2023-12-23T16:28:37.869Z"
   },
   {
    "duration": 5,
    "start_time": "2023-12-23T16:28:37.877Z"
   },
   {
    "duration": 149,
    "start_time": "2023-12-23T16:28:46.633Z"
   },
   {
    "duration": 148,
    "start_time": "2023-12-23T16:28:57.685Z"
   },
   {
    "duration": 149,
    "start_time": "2023-12-23T16:29:13.282Z"
   },
   {
    "duration": 154,
    "start_time": "2023-12-23T16:29:17.044Z"
   },
   {
    "duration": 151,
    "start_time": "2023-12-23T16:30:46.087Z"
   },
   {
    "duration": 206,
    "start_time": "2023-12-23T16:30:49.758Z"
   },
   {
    "duration": 182,
    "start_time": "2023-12-23T16:31:14.496Z"
   },
   {
    "duration": 145,
    "start_time": "2023-12-23T16:31:19.660Z"
   },
   {
    "duration": 140,
    "start_time": "2023-12-23T16:31:28.803Z"
   },
   {
    "duration": 102,
    "start_time": "2023-12-23T16:31:54.523Z"
   },
   {
    "duration": 94,
    "start_time": "2023-12-23T16:32:07.564Z"
   },
   {
    "duration": 96,
    "start_time": "2023-12-23T16:32:10.362Z"
   },
   {
    "duration": 72,
    "start_time": "2023-12-23T16:32:40.261Z"
   },
   {
    "duration": 96,
    "start_time": "2023-12-23T16:33:15.726Z"
   },
   {
    "duration": 87,
    "start_time": "2023-12-23T16:34:00.975Z"
   },
   {
    "duration": 89,
    "start_time": "2023-12-23T16:34:20.295Z"
   },
   {
    "duration": 92,
    "start_time": "2023-12-23T16:34:34.271Z"
   },
   {
    "duration": 89,
    "start_time": "2023-12-23T16:34:37.526Z"
   },
   {
    "duration": 96,
    "start_time": "2023-12-23T16:34:53.466Z"
   },
   {
    "duration": 154,
    "start_time": "2023-12-23T16:35:03.867Z"
   },
   {
    "duration": 150,
    "start_time": "2023-12-23T16:35:26.971Z"
   },
   {
    "duration": 171,
    "start_time": "2023-12-23T16:35:40.758Z"
   },
   {
    "duration": 191,
    "start_time": "2023-12-23T16:35:54.464Z"
   },
   {
    "duration": 3,
    "start_time": "2023-12-23T16:36:11.357Z"
   },
   {
    "duration": 32,
    "start_time": "2023-12-23T16:36:12.417Z"
   },
   {
    "duration": 8,
    "start_time": "2023-12-23T16:36:12.983Z"
   },
   {
    "duration": 9,
    "start_time": "2023-12-23T16:36:13.382Z"
   },
   {
    "duration": 51,
    "start_time": "2023-12-23T16:36:13.728Z"
   },
   {
    "duration": 26,
    "start_time": "2023-12-23T16:36:13.916Z"
   },
   {
    "duration": 7,
    "start_time": "2023-12-23T16:36:15.311Z"
   },
   {
    "duration": 5,
    "start_time": "2023-12-23T16:36:15.895Z"
   },
   {
    "duration": 7,
    "start_time": "2023-12-23T16:36:16.387Z"
   },
   {
    "duration": 6,
    "start_time": "2023-12-23T16:36:17.391Z"
   },
   {
    "duration": 6,
    "start_time": "2023-12-23T16:36:18.082Z"
   },
   {
    "duration": 5,
    "start_time": "2023-12-23T16:36:18.705Z"
   },
   {
    "duration": 8,
    "start_time": "2023-12-23T16:36:19.294Z"
   },
   {
    "duration": 6,
    "start_time": "2023-12-23T16:36:20.581Z"
   },
   {
    "duration": 8,
    "start_time": "2023-12-23T16:36:21.102Z"
   },
   {
    "duration": 6,
    "start_time": "2023-12-23T16:36:22.165Z"
   },
   {
    "duration": 180,
    "start_time": "2023-12-23T16:36:22.497Z"
   },
   {
    "duration": 5,
    "start_time": "2023-12-23T16:36:24.151Z"
   },
   {
    "duration": 84,
    "start_time": "2023-12-23T16:36:24.337Z"
   },
   {
    "duration": 209,
    "start_time": "2023-12-23T16:36:26.243Z"
   },
   {
    "duration": 63,
    "start_time": "2023-12-23T16:36:55.250Z"
   },
   {
    "duration": 194,
    "start_time": "2023-12-23T16:36:58.823Z"
   },
   {
    "duration": 185,
    "start_time": "2023-12-23T16:37:08.753Z"
   },
   {
    "duration": 194,
    "start_time": "2023-12-23T16:37:19.616Z"
   },
   {
    "duration": 211,
    "start_time": "2023-12-23T16:37:56.642Z"
   },
   {
    "duration": 286,
    "start_time": "2023-12-23T16:38:02.042Z"
   },
   {
    "duration": 183,
    "start_time": "2023-12-23T16:38:14.868Z"
   },
   {
    "duration": 184,
    "start_time": "2023-12-23T16:38:18.722Z"
   },
   {
    "duration": 124,
    "start_time": "2023-12-23T16:38:27.388Z"
   },
   {
    "duration": 193,
    "start_time": "2023-12-23T16:38:35.652Z"
   },
   {
    "duration": 3,
    "start_time": "2023-12-23T16:38:50.737Z"
   },
   {
    "duration": 188,
    "start_time": "2023-12-23T16:39:28.505Z"
   },
   {
    "duration": 212,
    "start_time": "2023-12-23T16:39:31.351Z"
   },
   {
    "duration": 201,
    "start_time": "2023-12-23T16:40:56.948Z"
   },
   {
    "duration": 2,
    "start_time": "2023-12-23T16:41:02.566Z"
   },
   {
    "duration": 33,
    "start_time": "2023-12-23T16:41:02.570Z"
   },
   {
    "duration": 15,
    "start_time": "2023-12-23T16:41:02.604Z"
   },
   {
    "duration": 23,
    "start_time": "2023-12-23T16:41:02.621Z"
   },
   {
    "duration": 49,
    "start_time": "2023-12-23T16:41:02.647Z"
   },
   {
    "duration": 24,
    "start_time": "2023-12-23T16:41:02.698Z"
   },
   {
    "duration": 6,
    "start_time": "2023-12-23T16:41:02.724Z"
   },
   {
    "duration": 33,
    "start_time": "2023-12-23T16:41:02.731Z"
   },
   {
    "duration": 13,
    "start_time": "2023-12-23T16:41:02.766Z"
   },
   {
    "duration": 17,
    "start_time": "2023-12-23T16:41:02.780Z"
   },
   {
    "duration": 15,
    "start_time": "2023-12-23T16:41:02.798Z"
   },
   {
    "duration": 7,
    "start_time": "2023-12-23T16:41:02.814Z"
   },
   {
    "duration": 7,
    "start_time": "2023-12-23T16:41:02.823Z"
   },
   {
    "duration": 6,
    "start_time": "2023-12-23T16:41:02.832Z"
   },
   {
    "duration": 8,
    "start_time": "2023-12-23T16:41:02.839Z"
   },
   {
    "duration": 6,
    "start_time": "2023-12-23T16:41:02.848Z"
   },
   {
    "duration": 182,
    "start_time": "2023-12-23T16:41:02.855Z"
   },
   {
    "duration": 10,
    "start_time": "2023-12-23T16:41:03.040Z"
   },
   {
    "duration": 99,
    "start_time": "2023-12-23T16:41:03.052Z"
   },
   {
    "duration": 197,
    "start_time": "2023-12-23T16:41:06.519Z"
   },
   {
    "duration": 307,
    "start_time": "2023-12-23T16:41:28.038Z"
   },
   {
    "duration": 101,
    "start_time": "2023-12-23T16:41:41.342Z"
   },
   {
    "duration": 203,
    "start_time": "2023-12-23T16:41:48.596Z"
   },
   {
    "duration": 9,
    "start_time": "2023-12-23T16:43:06.027Z"
   },
   {
    "duration": 3,
    "start_time": "2023-12-23T16:43:11.978Z"
   },
   {
    "duration": 30,
    "start_time": "2023-12-23T16:43:11.983Z"
   },
   {
    "duration": 7,
    "start_time": "2023-12-23T16:43:12.015Z"
   },
   {
    "duration": 15,
    "start_time": "2023-12-23T16:43:12.024Z"
   },
   {
    "duration": 45,
    "start_time": "2023-12-23T16:43:12.041Z"
   },
   {
    "duration": 25,
    "start_time": "2023-12-23T16:43:12.088Z"
   },
   {
    "duration": 6,
    "start_time": "2023-12-23T16:43:12.115Z"
   },
   {
    "duration": 6,
    "start_time": "2023-12-23T16:43:12.123Z"
   },
   {
    "duration": 7,
    "start_time": "2023-12-23T16:43:12.131Z"
   },
   {
    "duration": 6,
    "start_time": "2023-12-23T16:43:12.140Z"
   },
   {
    "duration": 6,
    "start_time": "2023-12-23T16:43:12.147Z"
   },
   {
    "duration": 8,
    "start_time": "2023-12-23T16:43:12.154Z"
   },
   {
    "duration": 11,
    "start_time": "2023-12-23T16:43:12.163Z"
   },
   {
    "duration": 37,
    "start_time": "2023-12-23T16:43:12.175Z"
   },
   {
    "duration": 14,
    "start_time": "2023-12-23T16:43:12.214Z"
   },
   {
    "duration": 26,
    "start_time": "2023-12-23T16:43:12.230Z"
   },
   {
    "duration": 157,
    "start_time": "2023-12-23T16:43:12.257Z"
   },
   {
    "duration": 10,
    "start_time": "2023-12-23T16:43:12.415Z"
   },
   {
    "duration": 82,
    "start_time": "2023-12-23T16:43:12.427Z"
   },
   {
    "duration": 190,
    "start_time": "2023-12-23T16:43:14.983Z"
   },
   {
    "duration": 5,
    "start_time": "2023-12-23T16:43:19.725Z"
   },
   {
    "duration": 63,
    "start_time": "2023-12-23T16:44:08.522Z"
   },
   {
    "duration": 198,
    "start_time": "2023-12-23T16:44:14.362Z"
   },
   {
    "duration": 74,
    "start_time": "2023-12-23T16:46:50.771Z"
   },
   {
    "duration": 210,
    "start_time": "2023-12-23T16:46:58.889Z"
   },
   {
    "duration": 209,
    "start_time": "2023-12-23T16:47:01.293Z"
   },
   {
    "duration": 14,
    "start_time": "2023-12-23T16:47:02.480Z"
   },
   {
    "duration": 13,
    "start_time": "2023-12-23T16:47:03.724Z"
   },
   {
    "duration": 190,
    "start_time": "2023-12-23T16:48:18.318Z"
   },
   {
    "duration": 5,
    "start_time": "2023-12-23T16:48:21.305Z"
   },
   {
    "duration": 20,
    "start_time": "2023-12-23T16:48:23.026Z"
   },
   {
    "duration": 12,
    "start_time": "2023-12-23T16:52:17.279Z"
   },
   {
    "duration": 3,
    "start_time": "2023-12-23T16:52:25.197Z"
   },
   {
    "duration": 4,
    "start_time": "2023-12-23T16:53:03.382Z"
   },
   {
    "duration": 16,
    "start_time": "2023-12-23T16:53:05.640Z"
   },
   {
    "duration": 16,
    "start_time": "2023-12-23T16:53:06.208Z"
   },
   {
    "duration": 346,
    "start_time": "2023-12-23T16:53:07.578Z"
   },
   {
    "duration": 262,
    "start_time": "2023-12-23T16:53:09.703Z"
   },
   {
    "duration": 266,
    "start_time": "2023-12-23T16:54:21.191Z"
   },
   {
    "duration": 297,
    "start_time": "2023-12-23T16:54:32.837Z"
   },
   {
    "duration": 306,
    "start_time": "2023-12-23T16:54:57.419Z"
   },
   {
    "duration": 7,
    "start_time": "2023-12-23T16:56:56.710Z"
   },
   {
    "duration": 32,
    "start_time": "2023-12-23T16:56:58.404Z"
   },
   {
    "duration": 14,
    "start_time": "2023-12-23T16:57:00.699Z"
   },
   {
    "duration": 2,
    "start_time": "2023-12-23T16:57:04.689Z"
   },
   {
    "duration": 3,
    "start_time": "2023-12-23T16:57:06.242Z"
   },
   {
    "duration": 91,
    "start_time": "2023-12-23T16:58:34.817Z"
   },
   {
    "duration": 6,
    "start_time": "2023-12-23T16:58:40.307Z"
   },
   {
    "duration": 3,
    "start_time": "2023-12-23T16:58:57.561Z"
   },
   {
    "duration": 5,
    "start_time": "2023-12-23T16:59:00.908Z"
   },
   {
    "duration": 5,
    "start_time": "2023-12-23T17:02:06.833Z"
   },
   {
    "duration": 4,
    "start_time": "2023-12-23T17:02:17.385Z"
   },
   {
    "duration": 4,
    "start_time": "2023-12-23T17:02:19.934Z"
   },
   {
    "duration": 4,
    "start_time": "2023-12-23T17:03:39.910Z"
   },
   {
    "duration": 4,
    "start_time": "2023-12-23T17:03:48.187Z"
   },
   {
    "duration": 76,
    "start_time": "2023-12-23T17:04:23.985Z"
   },
   {
    "duration": 5,
    "start_time": "2023-12-23T17:04:28.499Z"
   },
   {
    "duration": 82,
    "start_time": "2023-12-23T17:04:55.762Z"
   },
   {
    "duration": 10,
    "start_time": "2023-12-23T17:05:58.779Z"
   },
   {
    "duration": 70,
    "start_time": "2023-12-23T17:06:53.244Z"
   },
   {
    "duration": 99,
    "start_time": "2023-12-23T17:08:07.607Z"
   },
   {
    "duration": 1203,
    "start_time": "2023-12-23T17:08:14.388Z"
   },
   {
    "duration": 149,
    "start_time": "2023-12-23T17:08:28.625Z"
   },
   {
    "duration": 159,
    "start_time": "2023-12-23T17:08:40.276Z"
   },
   {
    "duration": 95,
    "start_time": "2023-12-23T17:09:10.039Z"
   },
   {
    "duration": 87,
    "start_time": "2023-12-23T17:09:30.321Z"
   },
   {
    "duration": 90,
    "start_time": "2023-12-23T17:38:52.654Z"
   },
   {
    "duration": 937,
    "start_time": "2023-12-24T11:29:37.655Z"
   },
   {
    "duration": 24,
    "start_time": "2023-12-24T11:29:38.594Z"
   },
   {
    "duration": 9,
    "start_time": "2023-12-24T11:29:38.620Z"
   },
   {
    "duration": 9,
    "start_time": "2023-12-24T11:29:38.630Z"
   },
   {
    "duration": 33,
    "start_time": "2023-12-24T11:29:38.640Z"
   },
   {
    "duration": 21,
    "start_time": "2023-12-24T11:29:38.674Z"
   },
   {
    "duration": 5,
    "start_time": "2023-12-24T11:29:38.696Z"
   },
   {
    "duration": 9,
    "start_time": "2023-12-24T11:29:38.702Z"
   },
   {
    "duration": 6,
    "start_time": "2023-12-24T11:29:38.712Z"
   },
   {
    "duration": 5,
    "start_time": "2023-12-24T11:29:38.720Z"
   },
   {
    "duration": 7,
    "start_time": "2023-12-24T11:29:38.726Z"
   },
   {
    "duration": 4,
    "start_time": "2023-12-24T11:29:38.734Z"
   },
   {
    "duration": 6,
    "start_time": "2023-12-24T11:29:38.740Z"
   },
   {
    "duration": 4,
    "start_time": "2023-12-24T11:29:38.747Z"
   },
   {
    "duration": 10,
    "start_time": "2023-12-24T11:29:38.753Z"
   },
   {
    "duration": 5,
    "start_time": "2023-12-24T11:29:38.764Z"
   },
   {
    "duration": 163,
    "start_time": "2023-12-24T11:29:38.770Z"
   },
   {
    "duration": 5,
    "start_time": "2023-12-24T11:29:38.934Z"
   },
   {
    "duration": 80,
    "start_time": "2023-12-24T11:29:38.940Z"
   },
   {
    "duration": 161,
    "start_time": "2023-12-24T11:29:39.021Z"
   },
   {
    "duration": 4,
    "start_time": "2023-12-24T11:29:39.183Z"
   },
   {
    "duration": 158,
    "start_time": "2023-12-24T11:29:39.201Z"
   },
   {
    "duration": 165,
    "start_time": "2023-12-24T11:29:39.360Z"
   },
   {
    "duration": 175,
    "start_time": "2023-12-24T11:29:39.526Z"
   },
   {
    "duration": 12,
    "start_time": "2023-12-24T11:29:39.703Z"
   },
   {
    "duration": 8,
    "start_time": "2023-12-24T11:29:39.717Z"
   },
   {
    "duration": 168,
    "start_time": "2023-12-24T11:29:39.726Z"
   },
   {
    "duration": 3,
    "start_time": "2023-12-24T11:29:39.901Z"
   },
   {
    "duration": 16,
    "start_time": "2023-12-24T11:29:39.905Z"
   },
   {
    "duration": 3,
    "start_time": "2023-12-24T11:29:39.922Z"
   },
   {
    "duration": 18,
    "start_time": "2023-12-24T11:29:39.926Z"
   },
   {
    "duration": 11,
    "start_time": "2023-12-24T11:29:39.945Z"
   },
   {
    "duration": 313,
    "start_time": "2023-12-24T11:29:39.957Z"
   },
   {
    "duration": 265,
    "start_time": "2023-12-24T11:29:40.272Z"
   },
   {
    "duration": 5,
    "start_time": "2023-12-24T11:29:40.539Z"
   },
   {
    "duration": 61,
    "start_time": "2023-12-24T11:29:40.545Z"
   },
   {
    "duration": 10,
    "start_time": "2023-12-24T11:29:40.608Z"
   },
   {
    "duration": 2,
    "start_time": "2023-12-24T11:29:40.620Z"
   },
   {
    "duration": 5,
    "start_time": "2023-12-24T11:29:40.623Z"
   },
   {
    "duration": 4,
    "start_time": "2023-12-24T11:29:40.629Z"
   },
   {
    "duration": 9,
    "start_time": "2023-12-24T11:29:40.634Z"
   },
   {
    "duration": 10,
    "start_time": "2023-12-24T11:29:40.644Z"
   },
   {
    "duration": 839,
    "start_time": "2023-12-24T11:29:40.655Z"
   },
   {
    "duration": 120,
    "start_time": "2023-12-24T11:29:41.495Z"
   },
   {
    "duration": 951,
    "start_time": "2023-12-24T11:48:36.624Z"
   },
   {
    "duration": 25,
    "start_time": "2023-12-24T11:48:37.576Z"
   },
   {
    "duration": 10,
    "start_time": "2023-12-24T11:48:37.602Z"
   },
   {
    "duration": 8,
    "start_time": "2023-12-24T11:48:37.613Z"
   },
   {
    "duration": 37,
    "start_time": "2023-12-24T11:48:37.622Z"
   },
   {
    "duration": 21,
    "start_time": "2023-12-24T11:48:37.660Z"
   },
   {
    "duration": 5,
    "start_time": "2023-12-24T11:48:37.682Z"
   },
   {
    "duration": 4,
    "start_time": "2023-12-24T11:48:37.688Z"
   },
   {
    "duration": 13,
    "start_time": "2023-12-24T11:48:37.693Z"
   },
   {
    "duration": 5,
    "start_time": "2023-12-24T11:48:37.708Z"
   },
   {
    "duration": 5,
    "start_time": "2023-12-24T11:48:37.714Z"
   },
   {
    "duration": 4,
    "start_time": "2023-12-24T11:48:37.721Z"
   },
   {
    "duration": 5,
    "start_time": "2023-12-24T11:48:37.726Z"
   },
   {
    "duration": 5,
    "start_time": "2023-12-24T11:48:37.732Z"
   },
   {
    "duration": 7,
    "start_time": "2023-12-24T11:48:37.738Z"
   },
   {
    "duration": 4,
    "start_time": "2023-12-24T11:48:37.746Z"
   },
   {
    "duration": 169,
    "start_time": "2023-12-24T11:48:37.751Z"
   },
   {
    "duration": 4,
    "start_time": "2023-12-24T11:48:37.921Z"
   },
   {
    "duration": 83,
    "start_time": "2023-12-24T11:48:37.926Z"
   },
   {
    "duration": 178,
    "start_time": "2023-12-24T11:48:38.010Z"
   },
   {
    "duration": 3,
    "start_time": "2023-12-24T11:48:38.189Z"
   },
   {
    "duration": 163,
    "start_time": "2023-12-24T11:48:38.201Z"
   },
   {
    "duration": 166,
    "start_time": "2023-12-24T11:48:38.365Z"
   },
   {
    "duration": 160,
    "start_time": "2023-12-24T11:48:38.532Z"
   },
   {
    "duration": 16,
    "start_time": "2023-12-24T11:48:38.693Z"
   },
   {
    "duration": 9,
    "start_time": "2023-12-24T11:48:38.710Z"
   },
   {
    "duration": 159,
    "start_time": "2023-12-24T11:48:38.720Z"
   },
   {
    "duration": 4,
    "start_time": "2023-12-24T11:48:38.882Z"
   },
   {
    "duration": 26,
    "start_time": "2023-12-24T11:48:38.887Z"
   },
   {
    "duration": 3,
    "start_time": "2023-12-24T11:48:38.914Z"
   },
   {
    "duration": 15,
    "start_time": "2023-12-24T11:48:38.918Z"
   },
   {
    "duration": 12,
    "start_time": "2023-12-24T11:48:38.934Z"
   },
   {
    "duration": 297,
    "start_time": "2023-12-24T11:48:38.947Z"
   },
   {
    "duration": 232,
    "start_time": "2023-12-24T11:48:39.245Z"
   },
   {
    "duration": 5,
    "start_time": "2023-12-24T11:48:39.479Z"
   },
   {
    "duration": 37,
    "start_time": "2023-12-24T11:48:39.485Z"
   },
   {
    "duration": 9,
    "start_time": "2023-12-24T11:48:39.523Z"
   },
   {
    "duration": 1,
    "start_time": "2023-12-24T11:48:39.534Z"
   },
   {
    "duration": 8,
    "start_time": "2023-12-24T11:48:39.536Z"
   },
   {
    "duration": 5,
    "start_time": "2023-12-24T11:48:39.545Z"
   },
   {
    "duration": 13,
    "start_time": "2023-12-24T11:48:39.551Z"
   },
   {
    "duration": 10,
    "start_time": "2023-12-24T11:48:39.565Z"
   },
   {
    "duration": 858,
    "start_time": "2023-12-24T11:48:39.576Z"
   },
   {
    "duration": 127,
    "start_time": "2023-12-24T11:48:40.435Z"
   },
   {
    "duration": 1340,
    "start_time": "2023-12-26T07:39:17.982Z"
   },
   {
    "duration": 86,
    "start_time": "2023-12-26T07:39:19.325Z"
   },
   {
    "duration": 13,
    "start_time": "2023-12-26T07:39:19.413Z"
   },
   {
    "duration": 16,
    "start_time": "2023-12-26T07:39:19.428Z"
   },
   {
    "duration": 102,
    "start_time": "2023-12-26T07:39:19.446Z"
   },
   {
    "duration": 63,
    "start_time": "2023-12-26T07:39:19.549Z"
   },
   {
    "duration": 7,
    "start_time": "2023-12-26T07:39:19.613Z"
   },
   {
    "duration": 6,
    "start_time": "2023-12-26T07:39:19.622Z"
   },
   {
    "duration": 8,
    "start_time": "2023-12-26T07:39:19.630Z"
   },
   {
    "duration": 7,
    "start_time": "2023-12-26T07:39:19.640Z"
   },
   {
    "duration": 5,
    "start_time": "2023-12-26T07:39:19.649Z"
   },
   {
    "duration": 7,
    "start_time": "2023-12-26T07:39:19.655Z"
   },
   {
    "duration": 7,
    "start_time": "2023-12-26T07:39:19.664Z"
   },
   {
    "duration": 6,
    "start_time": "2023-12-26T07:39:19.673Z"
   },
   {
    "duration": 43,
    "start_time": "2023-12-26T07:39:19.680Z"
   },
   {
    "duration": 6,
    "start_time": "2023-12-26T07:39:19.725Z"
   },
   {
    "duration": 182,
    "start_time": "2023-12-26T07:39:19.732Z"
   },
   {
    "duration": 9,
    "start_time": "2023-12-26T07:39:19.916Z"
   },
   {
    "duration": 101,
    "start_time": "2023-12-26T07:39:19.927Z"
   },
   {
    "duration": 218,
    "start_time": "2023-12-26T07:39:20.030Z"
   },
   {
    "duration": 4,
    "start_time": "2023-12-26T07:39:20.250Z"
   },
   {
    "duration": 226,
    "start_time": "2023-12-26T07:39:20.255Z"
   },
   {
    "duration": 219,
    "start_time": "2023-12-26T07:39:20.483Z"
   },
   {
    "duration": 219,
    "start_time": "2023-12-26T07:39:20.704Z"
   },
   {
    "duration": 16,
    "start_time": "2023-12-26T07:39:20.925Z"
   },
   {
    "duration": 11,
    "start_time": "2023-12-26T07:39:20.942Z"
   },
   {
    "duration": 225,
    "start_time": "2023-12-26T07:39:20.955Z"
   },
   {
    "duration": 5,
    "start_time": "2023-12-26T07:39:21.183Z"
   },
   {
    "duration": 34,
    "start_time": "2023-12-26T07:39:21.189Z"
   },
   {
    "duration": 5,
    "start_time": "2023-12-26T07:39:21.224Z"
   },
   {
    "duration": 17,
    "start_time": "2023-12-26T07:39:21.230Z"
   },
   {
    "duration": 15,
    "start_time": "2023-12-26T07:39:21.249Z"
   },
   {
    "duration": 407,
    "start_time": "2023-12-26T07:39:21.265Z"
   },
   {
    "duration": 297,
    "start_time": "2023-12-26T07:39:21.673Z"
   },
   {
    "duration": 6,
    "start_time": "2023-12-26T07:39:21.971Z"
   },
   {
    "duration": 44,
    "start_time": "2023-12-26T07:39:21.979Z"
   },
   {
    "duration": 13,
    "start_time": "2023-12-26T07:39:22.025Z"
   },
   {
    "duration": 3,
    "start_time": "2023-12-26T07:39:22.040Z"
   },
   {
    "duration": 4,
    "start_time": "2023-12-26T07:39:22.044Z"
   },
   {
    "duration": 12,
    "start_time": "2023-12-26T07:39:22.050Z"
   },
   {
    "duration": 16,
    "start_time": "2023-12-26T07:39:22.064Z"
   },
   {
    "duration": 10,
    "start_time": "2023-12-26T07:39:22.082Z"
   },
   {
    "duration": 1104,
    "start_time": "2023-12-26T07:39:22.093Z"
   },
   {
    "duration": 165,
    "start_time": "2023-12-26T07:39:23.198Z"
   }
  ],
  "kernelspec": {
   "display_name": "Python 3 (ipykernel)",
   "language": "python",
   "name": "python3"
  },
  "language_info": {
   "codemirror_mode": {
    "name": "ipython",
    "version": 3
   },
   "file_extension": ".py",
   "mimetype": "text/x-python",
   "name": "python",
   "nbconvert_exporter": "python",
   "pygments_lexer": "ipython3",
   "version": "3.11.7"
  },
  "toc": {
   "base_numbering": 1,
   "nav_menu": {},
   "number_sections": true,
   "sideBar": true,
   "skip_h1_title": true,
   "title_cell": "Table of Contents",
   "title_sidebar": "Contents",
   "toc_cell": false,
   "toc_position": {},
   "toc_section_display": true,
   "toc_window_display": true
  }
 },
 "nbformat": 4,
 "nbformat_minor": 5
}
